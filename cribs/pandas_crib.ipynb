{
 "cells": [
  {
   "cell_type": "code",
   "execution_count": 1,
   "metadata": {
    "collapsed": true
   },
   "outputs": [],
   "source": [
    "import pandas as pd\n",
    "import numpy as np"
   ]
  },
  {
   "cell_type": "code",
   "execution_count": 112,
   "outputs": [
    {
     "data": {
      "text/plain": "0    5\n1    6\n2    7\n3    8\n4    9\ndtype: int64"
     },
     "execution_count": 112,
     "metadata": {},
     "output_type": "execute_result"
    }
   ],
   "source": [
    "series = pd.Series([5, 6, 7, 8, 9])\n",
    "series"
   ],
   "metadata": {
    "collapsed": false,
    "pycharm": {
     "name": "#%%\n"
    }
   }
  },
  {
   "cell_type": "code",
   "execution_count": 113,
   "outputs": [
    {
     "data": {
      "text/plain": "RangeIndex(start=0, stop=5, step=1)"
     },
     "execution_count": 113,
     "metadata": {},
     "output_type": "execute_result"
    }
   ],
   "source": [
    "series.index"
   ],
   "metadata": {
    "collapsed": false,
    "pycharm": {
     "name": "#%%\n"
    }
   }
  },
  {
   "cell_type": "code",
   "execution_count": 114,
   "outputs": [
    {
     "data": {
      "text/plain": "array([5, 6, 7, 8, 9], dtype=int64)"
     },
     "execution_count": 114,
     "metadata": {},
     "output_type": "execute_result"
    }
   ],
   "source": [
    "series.values"
   ],
   "metadata": {
    "collapsed": false,
    "pycharm": {
     "name": "#%%\n"
    }
   }
  },
  {
   "cell_type": "code",
   "execution_count": 115,
   "outputs": [
    {
     "data": {
      "text/plain": "a    5.0\nb    6.0\nc    7.0\nd    8.0\ne    9.0\ndtype: float32"
     },
     "execution_count": 115,
     "metadata": {},
     "output_type": "execute_result"
    }
   ],
   "source": [
    "series2 = pd.Series([5, 6, 7, 8, 9], index=['a','b', 'c', 'd', 'e'],\n",
    "                    dtype=np.float32)\n",
    "series2"
   ],
   "metadata": {
    "collapsed": false,
    "pycharm": {
     "name": "#%%\n"
    }
   }
  },
  {
   "cell_type": "code",
   "execution_count": 116,
   "outputs": [
    {
     "data": {
      "text/plain": "e    9.0\ndtype: float32"
     },
     "execution_count": 116,
     "metadata": {},
     "output_type": "execute_result"
    }
   ],
   "source": [
    "series2[[4]]"
   ],
   "metadata": {
    "collapsed": false,
    "pycharm": {
     "name": "#%%\n"
    }
   }
  },
  {
   "cell_type": "code",
   "execution_count": 117,
   "outputs": [
    {
     "data": {
      "text/plain": "9.0"
     },
     "execution_count": 117,
     "metadata": {},
     "output_type": "execute_result"
    }
   ],
   "source": [
    "series2[4]"
   ],
   "metadata": {
    "collapsed": false,
    "pycharm": {
     "name": "#%%\n"
    }
   }
  },
  {
   "cell_type": "code",
   "execution_count": 118,
   "outputs": [
    {
     "data": {
      "text/plain": "5.0"
     },
     "execution_count": 118,
     "metadata": {},
     "output_type": "execute_result"
    }
   ],
   "source": [
    "series2['a']"
   ],
   "metadata": {
    "collapsed": false,
    "pycharm": {
     "name": "#%%\n"
    }
   }
  },
  {
   "cell_type": "code",
   "execution_count": 119,
   "outputs": [
    {
     "data": {
      "text/plain": "a    5.0\ndtype: float32"
     },
     "execution_count": 119,
     "metadata": {},
     "output_type": "execute_result"
    }
   ],
   "source": [
    "series2[['a']]"
   ],
   "metadata": {
    "collapsed": false,
    "pycharm": {
     "name": "#%%\n"
    }
   }
  },
  {
   "cell_type": "code",
   "execution_count": 120,
   "outputs": [
    {
     "data": {
      "text/plain": "c    7.0\nd    8.0\ne    9.0\ndtype: float32"
     },
     "execution_count": 120,
     "metadata": {},
     "output_type": "execute_result"
    }
   ],
   "source": [
    "series2[(series2 > 6)] # маска, круглые скобки обязательны для множественых условий"
   ],
   "metadata": {
    "collapsed": false,
    "pycharm": {
     "name": "#%%\n"
    }
   }
  },
  {
   "cell_type": "code",
   "execution_count": 121,
   "outputs": [
    {
     "data": {
      "text/plain": "a    5\nb    6\nc    7\nd    8\ne    9\ndtype: int64"
     },
     "execution_count": 121,
     "metadata": {},
     "output_type": "execute_result"
    }
   ],
   "source": [
    "series3 = pd.Series({'a': 5, 'b': 6, 'c': 7, 'd': 8, 'e': 9})\n",
    "series3"
   ],
   "metadata": {
    "collapsed": false,
    "pycharm": {
     "name": "#%%\n"
    }
   }
  },
  {
   "cell_type": "code",
   "execution_count": 122,
   "outputs": [
    {
     "data": {
      "text/plain": "      country  population    square\n0  Kazakhstan       17.04   2724902\n1      Russia      143.50  17125191\n2     Belarus        9.50    207600\n3     Ukraine       45.50    603628",
      "text/html": "<div>\n<style scoped>\n    .dataframe tbody tr th:only-of-type {\n        vertical-align: middle;\n    }\n\n    .dataframe tbody tr th {\n        vertical-align: top;\n    }\n\n    .dataframe thead th {\n        text-align: right;\n    }\n</style>\n<table border=\"1\" class=\"dataframe\">\n  <thead>\n    <tr style=\"text-align: right;\">\n      <th></th>\n      <th>country</th>\n      <th>population</th>\n      <th>square</th>\n    </tr>\n  </thead>\n  <tbody>\n    <tr>\n      <th>0</th>\n      <td>Kazakhstan</td>\n      <td>17.04</td>\n      <td>2724902</td>\n    </tr>\n    <tr>\n      <th>1</th>\n      <td>Russia</td>\n      <td>143.50</td>\n      <td>17125191</td>\n    </tr>\n    <tr>\n      <th>2</th>\n      <td>Belarus</td>\n      <td>9.50</td>\n      <td>207600</td>\n    </tr>\n    <tr>\n      <th>3</th>\n      <td>Ukraine</td>\n      <td>45.50</td>\n      <td>603628</td>\n    </tr>\n  </tbody>\n</table>\n</div>"
     },
     "execution_count": 122,
     "metadata": {},
     "output_type": "execute_result"
    }
   ],
   "source": [
    "df = pd.DataFrame({\n",
    "    'country': ['Kazakhstan', 'Russia', 'Belarus', 'Ukraine'],\n",
    "    'population': [17.04, 143.5, 9.5, 45.5],\n",
    "    'square': [2724902, 17125191, 207600, 603628]\n",
    "})\n",
    "df"
   ],
   "metadata": {
    "collapsed": false,
    "pycharm": {
     "name": "#%%\n"
    }
   }
  },
  {
   "cell_type": "code",
   "execution_count": 123,
   "outputs": [
    {
     "data": {
      "text/plain": "0     17.04\n1    143.50\n2      9.50\n3     45.50\nName: population, dtype: float64"
     },
     "execution_count": 123,
     "metadata": {},
     "output_type": "execute_result"
    }
   ],
   "source": [
    "df.population"
   ],
   "metadata": {
    "collapsed": false,
    "pycharm": {
     "name": "#%%\n"
    }
   }
  },
  {
   "cell_type": "code",
   "execution_count": 124,
   "outputs": [],
   "source": [
    "# импорт файлов\n",
    "# pd.read_csv('filename.csv')\n",
    "# pd.read_excel('filename.xls')\n",
    "# pd.read_sql('filename.sql')\n",
    "# pd.read_table('filename')\n",
    "# pd.read_json('json_string')\n",
    "# pd.read_html('url')\n",
    "# pd.read_clipboard # из буфера обмена\n",
    "# pd.DataFrame(dict)\n",
    "\n",
    "# экспорт данных\n",
    "# df.to_csv('filename.csv')\n",
    "# df.to_excel('filename.xls')\n",
    "# df.to_sql('table_name', connection_object)\n",
    "# df.to_json('filename.json')\n",
    "# df.to_html('filename.html')\n",
    "# df.to_clipboard() # в буфер обмена"
   ],
   "metadata": {
    "collapsed": false,
    "pycharm": {
     "name": "#%%\n"
    }
   }
  },
  {
   "cell_type": "code",
   "execution_count": 125,
   "outputs": [
    {
     "data": {
      "text/plain": "       country  population    square\nKZ  Kazakhstan       17.04   2724902\nRU      Russia      143.50  17125191\nBY     Belarus        9.50    207600\nUA     Ukraine       45.50    603628",
      "text/html": "<div>\n<style scoped>\n    .dataframe tbody tr th:only-of-type {\n        vertical-align: middle;\n    }\n\n    .dataframe tbody tr th {\n        vertical-align: top;\n    }\n\n    .dataframe thead th {\n        text-align: right;\n    }\n</style>\n<table border=\"1\" class=\"dataframe\">\n  <thead>\n    <tr style=\"text-align: right;\">\n      <th></th>\n      <th>country</th>\n      <th>population</th>\n      <th>square</th>\n    </tr>\n  </thead>\n  <tbody>\n    <tr>\n      <th>KZ</th>\n      <td>Kazakhstan</td>\n      <td>17.04</td>\n      <td>2724902</td>\n    </tr>\n    <tr>\n      <th>RU</th>\n      <td>Russia</td>\n      <td>143.50</td>\n      <td>17125191</td>\n    </tr>\n    <tr>\n      <th>BY</th>\n      <td>Belarus</td>\n      <td>9.50</td>\n      <td>207600</td>\n    </tr>\n    <tr>\n      <th>UA</th>\n      <td>Ukraine</td>\n      <td>45.50</td>\n      <td>603628</td>\n    </tr>\n  </tbody>\n</table>\n</div>"
     },
     "execution_count": 125,
     "metadata": {},
     "output_type": "execute_result"
    }
   ],
   "source": [
    "df.index = ['KZ', 'RU', 'BY', 'UA']\n",
    "df"
   ],
   "metadata": {
    "collapsed": false,
    "pycharm": {
     "name": "#%%\n"
    }
   }
  },
  {
   "cell_type": "code",
   "execution_count": 126,
   "outputs": [
    {
     "data": {
      "text/plain": "KZ     17.04\nRU    143.50\nName: population, dtype: float64"
     },
     "execution_count": 126,
     "metadata": {},
     "output_type": "execute_result"
    }
   ],
   "source": [
    "df.loc[['KZ', 'RU'], 'population'] # по строковой метке"
   ],
   "metadata": {
    "collapsed": false,
    "pycharm": {
     "name": "#%%\n"
    }
   }
  },
  {
   "cell_type": "code",
   "execution_count": 127,
   "outputs": [
    {
     "data": {
      "text/plain": "    population\nKZ       17.04\nRU      143.50",
      "text/html": "<div>\n<style scoped>\n    .dataframe tbody tr th:only-of-type {\n        vertical-align: middle;\n    }\n\n    .dataframe tbody tr th {\n        vertical-align: top;\n    }\n\n    .dataframe thead th {\n        text-align: right;\n    }\n</style>\n<table border=\"1\" class=\"dataframe\">\n  <thead>\n    <tr style=\"text-align: right;\">\n      <th></th>\n      <th>population</th>\n    </tr>\n  </thead>\n  <tbody>\n    <tr>\n      <th>KZ</th>\n      <td>17.04</td>\n    </tr>\n    <tr>\n      <th>RU</th>\n      <td>143.50</td>\n    </tr>\n  </tbody>\n</table>\n</div>"
     },
     "execution_count": 127,
     "metadata": {},
     "output_type": "execute_result"
    }
   ],
   "source": [
    "df.iloc[[0,1], [1]] # по числовому индексу\n",
    "#в скобках можно использовать слайсы: df.iloc[:1, 1:5], например"
   ],
   "metadata": {
    "collapsed": false,
    "pycharm": {
     "name": "#%%\n"
    }
   }
  },
  {
   "cell_type": "code",
   "execution_count": 128,
   "outputs": [
    {
     "data": {
      "text/plain": "       country    square\nKZ  Kazakhstan   2724902\nRU      Russia  17125191\nUA     Ukraine    603628",
      "text/html": "<div>\n<style scoped>\n    .dataframe tbody tr th:only-of-type {\n        vertical-align: middle;\n    }\n\n    .dataframe tbody tr th {\n        vertical-align: top;\n    }\n\n    .dataframe thead th {\n        text-align: right;\n    }\n</style>\n<table border=\"1\" class=\"dataframe\">\n  <thead>\n    <tr style=\"text-align: right;\">\n      <th></th>\n      <th>country</th>\n      <th>square</th>\n    </tr>\n  </thead>\n  <tbody>\n    <tr>\n      <th>KZ</th>\n      <td>Kazakhstan</td>\n      <td>2724902</td>\n    </tr>\n    <tr>\n      <th>RU</th>\n      <td>Russia</td>\n      <td>17125191</td>\n    </tr>\n    <tr>\n      <th>UA</th>\n      <td>Ukraine</td>\n      <td>603628</td>\n    </tr>\n  </tbody>\n</table>\n</div>"
     },
     "execution_count": 128,
     "metadata": {},
     "output_type": "execute_result"
    }
   ],
   "source": [
    "df[df.square > 300000][['country', 'square']] # маска"
   ],
   "metadata": {
    "collapsed": false,
    "pycharm": {
     "name": "#%%\n"
    }
   }
  },
  {
   "cell_type": "code",
   "execution_count": 129,
   "outputs": [
    {
     "data": {
      "text/plain": "   country    square\nRU  Russia  17125191",
      "text/html": "<div>\n<style scoped>\n    .dataframe tbody tr th:only-of-type {\n        vertical-align: middle;\n    }\n\n    .dataframe tbody tr th {\n        vertical-align: top;\n    }\n\n    .dataframe thead th {\n        text-align: right;\n    }\n</style>\n<table border=\"1\" class=\"dataframe\">\n  <thead>\n    <tr style=\"text-align: right;\">\n      <th></th>\n      <th>country</th>\n      <th>square</th>\n    </tr>\n  </thead>\n  <tbody>\n    <tr>\n      <th>RU</th>\n      <td>Russia</td>\n      <td>17125191</td>\n    </tr>\n  </tbody>\n</table>\n</div>"
     },
     "execution_count": 129,
     "metadata": {},
     "output_type": "execute_result"
    }
   ],
   "source": [
    "df[df.country == 'Russia'][['country', 'square']]"
   ],
   "metadata": {
    "collapsed": false,
    "pycharm": {
     "name": "#%%\n"
    }
   }
  },
  {
   "cell_type": "code",
   "execution_count": 130,
   "outputs": [
    {
     "data": {
      "text/plain": "KZ     True\nRU     True\nBY    False\nUA     True\nName: population, dtype: bool"
     },
     "execution_count": 130,
     "metadata": {},
     "output_type": "execute_result"
    }
   ],
   "source": [
    "df.population > 10"
   ],
   "metadata": {
    "collapsed": false,
    "pycharm": {
     "name": "#%%\n"
    }
   }
  },
  {
   "cell_type": "code",
   "execution_count": 131,
   "outputs": [
    {
     "data": {
      "text/plain": "   country  population    square\nRU  Russia       143.5  17125191",
      "text/html": "<div>\n<style scoped>\n    .dataframe tbody tr th:only-of-type {\n        vertical-align: middle;\n    }\n\n    .dataframe tbody tr th {\n        vertical-align: top;\n    }\n\n    .dataframe thead th {\n        text-align: right;\n    }\n</style>\n<table border=\"1\" class=\"dataframe\">\n  <thead>\n    <tr style=\"text-align: right;\">\n      <th></th>\n      <th>country</th>\n      <th>population</th>\n      <th>square</th>\n    </tr>\n  </thead>\n  <tbody>\n    <tr>\n      <th>RU</th>\n      <td>Russia</td>\n      <td>143.5</td>\n      <td>17125191</td>\n    </tr>\n  </tbody>\n</table>\n</div>"
     },
     "execution_count": 131,
     "metadata": {},
     "output_type": "execute_result"
    }
   ],
   "source": [
    "# объявление фильтра\n",
    "filters = (df.country == 'Russia')\n",
    "df[filters]"
   ],
   "metadata": {
    "collapsed": false,
    "pycharm": {
     "name": "#%%\n"
    }
   }
  },
  {
   "cell_type": "code",
   "execution_count": 132,
   "outputs": [
    {
     "data": {
      "text/plain": "       country  population    square  density\nKZ  Kazakhstan       17.04   2724902    6.253\nRU      Russia      143.50  17125191    8.379\nBY     Belarus        9.50    207600   45.761\nUA     Ukraine       45.50    603628   75.378",
      "text/html": "<div>\n<style scoped>\n    .dataframe tbody tr th:only-of-type {\n        vertical-align: middle;\n    }\n\n    .dataframe tbody tr th {\n        vertical-align: top;\n    }\n\n    .dataframe thead th {\n        text-align: right;\n    }\n</style>\n<table border=\"1\" class=\"dataframe\">\n  <thead>\n    <tr style=\"text-align: right;\">\n      <th></th>\n      <th>country</th>\n      <th>population</th>\n      <th>square</th>\n      <th>density</th>\n    </tr>\n  </thead>\n  <tbody>\n    <tr>\n      <th>KZ</th>\n      <td>Kazakhstan</td>\n      <td>17.04</td>\n      <td>2724902</td>\n      <td>6.253</td>\n    </tr>\n    <tr>\n      <th>RU</th>\n      <td>Russia</td>\n      <td>143.50</td>\n      <td>17125191</td>\n      <td>8.379</td>\n    </tr>\n    <tr>\n      <th>BY</th>\n      <td>Belarus</td>\n      <td>9.50</td>\n      <td>207600</td>\n      <td>45.761</td>\n    </tr>\n    <tr>\n      <th>UA</th>\n      <td>Ukraine</td>\n      <td>45.50</td>\n      <td>603628</td>\n      <td>75.378</td>\n    </tr>\n  </tbody>\n</table>\n</div>"
     },
     "execution_count": 132,
     "metadata": {},
     "output_type": "execute_result"
    }
   ],
   "source": [
    "# быстрая вставка колонки\n",
    "df['density'] = df['population'] / df['square'] * 1000000\n",
    "df"
   ],
   "metadata": {
    "collapsed": false,
    "pycharm": {
     "name": "#%%\n"
    }
   }
  },
  {
   "cell_type": "code",
   "execution_count": 133,
   "outputs": [
    {
     "data": {
      "text/plain": "       country  population    square\nKZ  Kazakhstan       17.04   2724902\nRU      Russia      143.50  17125191\nBY     Belarus        9.50    207600\nUA     Ukraine       45.50    603628",
      "text/html": "<div>\n<style scoped>\n    .dataframe tbody tr th:only-of-type {\n        vertical-align: middle;\n    }\n\n    .dataframe tbody tr th {\n        vertical-align: top;\n    }\n\n    .dataframe thead th {\n        text-align: right;\n    }\n</style>\n<table border=\"1\" class=\"dataframe\">\n  <thead>\n    <tr style=\"text-align: right;\">\n      <th></th>\n      <th>country</th>\n      <th>population</th>\n      <th>square</th>\n    </tr>\n  </thead>\n  <tbody>\n    <tr>\n      <th>KZ</th>\n      <td>Kazakhstan</td>\n      <td>17.04</td>\n      <td>2724902</td>\n    </tr>\n    <tr>\n      <th>RU</th>\n      <td>Russia</td>\n      <td>143.50</td>\n      <td>17125191</td>\n    </tr>\n    <tr>\n      <th>BY</th>\n      <td>Belarus</td>\n      <td>9.50</td>\n      <td>207600</td>\n    </tr>\n    <tr>\n      <th>UA</th>\n      <td>Ukraine</td>\n      <td>45.50</td>\n      <td>603628</td>\n    </tr>\n  </tbody>\n</table>\n</div>"
     },
     "execution_count": 133,
     "metadata": {},
     "output_type": "execute_result"
    }
   ],
   "source": [
    "# убираем колонку\n",
    "df.drop(['density'], axis=1) # исходный df не перезаписывается, если inplace = False"
   ],
   "metadata": {
    "collapsed": false,
    "pycharm": {
     "name": "#%%\n"
    }
   }
  },
  {
   "cell_type": "code",
   "execution_count": 134,
   "outputs": [
    {
     "data": {
      "text/plain": "       country  country_population    square  density\nKZ  Kazakhstan               17.04   2724902    6.253\nRU      Russia              143.50  17125191    8.379\nBY     Belarus                9.50    207600   45.761\nUA     Ukraine               45.50    603628   75.378",
      "text/html": "<div>\n<style scoped>\n    .dataframe tbody tr th:only-of-type {\n        vertical-align: middle;\n    }\n\n    .dataframe tbody tr th {\n        vertical-align: top;\n    }\n\n    .dataframe thead th {\n        text-align: right;\n    }\n</style>\n<table border=\"1\" class=\"dataframe\">\n  <thead>\n    <tr style=\"text-align: right;\">\n      <th></th>\n      <th>country</th>\n      <th>country_population</th>\n      <th>square</th>\n      <th>density</th>\n    </tr>\n  </thead>\n  <tbody>\n    <tr>\n      <th>KZ</th>\n      <td>Kazakhstan</td>\n      <td>17.04</td>\n      <td>2724902</td>\n      <td>6.253</td>\n    </tr>\n    <tr>\n      <th>RU</th>\n      <td>Russia</td>\n      <td>143.50</td>\n      <td>17125191</td>\n      <td>8.379</td>\n    </tr>\n    <tr>\n      <th>BY</th>\n      <td>Belarus</td>\n      <td>9.50</td>\n      <td>207600</td>\n      <td>45.761</td>\n    </tr>\n    <tr>\n      <th>UA</th>\n      <td>Ukraine</td>\n      <td>45.50</td>\n      <td>603628</td>\n      <td>75.378</td>\n    </tr>\n  </tbody>\n</table>\n</div>"
     },
     "execution_count": 134,
     "metadata": {},
     "output_type": "execute_result"
    }
   ],
   "source": [
    "df.rename(columns={'population': 'country_population'}, inplace=True)\n",
    "df"
   ],
   "metadata": {
    "collapsed": false,
    "pycharm": {
     "name": "#%%\n"
    }
   }
  },
  {
   "cell_type": "code",
   "execution_count": 135,
   "outputs": [
    {
     "data": {
      "text/plain": "       country  country_population    square  density\nRU      Russia              143.50  17125191    8.379\nKZ  Kazakhstan               17.04   2724902    6.253\nUA     Ukraine               45.50    603628   75.378",
      "text/html": "<div>\n<style scoped>\n    .dataframe tbody tr th:only-of-type {\n        vertical-align: middle;\n    }\n\n    .dataframe tbody tr th {\n        vertical-align: top;\n    }\n\n    .dataframe thead th {\n        text-align: right;\n    }\n</style>\n<table border=\"1\" class=\"dataframe\">\n  <thead>\n    <tr style=\"text-align: right;\">\n      <th></th>\n      <th>country</th>\n      <th>country_population</th>\n      <th>square</th>\n      <th>density</th>\n    </tr>\n  </thead>\n  <tbody>\n    <tr>\n      <th>RU</th>\n      <td>Russia</td>\n      <td>143.50</td>\n      <td>17125191</td>\n      <td>8.379</td>\n    </tr>\n    <tr>\n      <th>KZ</th>\n      <td>Kazakhstan</td>\n      <td>17.04</td>\n      <td>2724902</td>\n      <td>6.253</td>\n    </tr>\n    <tr>\n      <th>UA</th>\n      <td>Ukraine</td>\n      <td>45.50</td>\n      <td>603628</td>\n      <td>75.378</td>\n    </tr>\n  </tbody>\n</table>\n</div>"
     },
     "execution_count": 135,
     "metadata": {},
     "output_type": "execute_result"
    }
   ],
   "source": [
    "df.nlargest(3, 'square') # nsmallest"
   ],
   "metadata": {
    "collapsed": false,
    "pycharm": {
     "name": "#%%\n"
    }
   }
  },
  {
   "cell_type": "code",
   "execution_count": 136,
   "outputs": [],
   "source": [
    "# изменение макс. кол-ва отображаемых столбцов, по умолчанию 20\n",
    "pd.set_option('display.max_columns', 100)\n",
    "# изменение макс. кол-ва отображаемых строк, по умолчанию 60\n",
    "pd.set_option('display.max_rows', 100)\n",
    "# изменение кол-ва отображаемых знаков после запятой\n",
    "pd.set_option('display.precision', 3)"
   ],
   "metadata": {
    "collapsed": false,
    "pycharm": {
     "name": "#%%\n"
    }
   }
  },
  {
   "cell_type": "code",
   "execution_count": 137,
   "outputs": [
    {
     "data": {
      "text/plain": "             name     id nametype              recclass    mass   fall  \\\n45711  Zillah 002  31356    Valid               Eucrite   172.0  Found   \n45712      Zinder  30409    Valid  Pallasite, ungrouped    46.0  Found   \n45713        Zlin  30410    Valid                    H4     3.3  Found   \n45714   Zubkovsky  31357    Valid                    L6  2167.0  Found   \n45715  Zulu Queen  30414    Valid                  L3.7   200.0  Found   \n\n         year  reclat  reclong               GeoLocation  \n45711  1990.0  29.037   17.018    (29.037000, 17.018500)  \n45712  1999.0  13.783    8.967     (13.783330, 8.966670)  \n45713  1939.0  49.250   17.667    (49.250000, 17.666670)  \n45714  2003.0  49.789   41.505    (49.789170, 41.504600)  \n45715  1976.0  33.983 -115.683  (33.983330, -115.683330)  ",
      "text/html": "<div>\n<style scoped>\n    .dataframe tbody tr th:only-of-type {\n        vertical-align: middle;\n    }\n\n    .dataframe tbody tr th {\n        vertical-align: top;\n    }\n\n    .dataframe thead th {\n        text-align: right;\n    }\n</style>\n<table border=\"1\" class=\"dataframe\">\n  <thead>\n    <tr style=\"text-align: right;\">\n      <th></th>\n      <th>name</th>\n      <th>id</th>\n      <th>nametype</th>\n      <th>recclass</th>\n      <th>mass</th>\n      <th>fall</th>\n      <th>year</th>\n      <th>reclat</th>\n      <th>reclong</th>\n      <th>GeoLocation</th>\n    </tr>\n  </thead>\n  <tbody>\n    <tr>\n      <th>45711</th>\n      <td>Zillah 002</td>\n      <td>31356</td>\n      <td>Valid</td>\n      <td>Eucrite</td>\n      <td>172.0</td>\n      <td>Found</td>\n      <td>1990.0</td>\n      <td>29.037</td>\n      <td>17.018</td>\n      <td>(29.037000, 17.018500)</td>\n    </tr>\n    <tr>\n      <th>45712</th>\n      <td>Zinder</td>\n      <td>30409</td>\n      <td>Valid</td>\n      <td>Pallasite, ungrouped</td>\n      <td>46.0</td>\n      <td>Found</td>\n      <td>1999.0</td>\n      <td>13.783</td>\n      <td>8.967</td>\n      <td>(13.783330, 8.966670)</td>\n    </tr>\n    <tr>\n      <th>45713</th>\n      <td>Zlin</td>\n      <td>30410</td>\n      <td>Valid</td>\n      <td>H4</td>\n      <td>3.3</td>\n      <td>Found</td>\n      <td>1939.0</td>\n      <td>49.250</td>\n      <td>17.667</td>\n      <td>(49.250000, 17.666670)</td>\n    </tr>\n    <tr>\n      <th>45714</th>\n      <td>Zubkovsky</td>\n      <td>31357</td>\n      <td>Valid</td>\n      <td>L6</td>\n      <td>2167.0</td>\n      <td>Found</td>\n      <td>2003.0</td>\n      <td>49.789</td>\n      <td>41.505</td>\n      <td>(49.789170, 41.504600)</td>\n    </tr>\n    <tr>\n      <th>45715</th>\n      <td>Zulu Queen</td>\n      <td>30414</td>\n      <td>Valid</td>\n      <td>L3.7</td>\n      <td>200.0</td>\n      <td>Found</td>\n      <td>1976.0</td>\n      <td>33.983</td>\n      <td>-115.683</td>\n      <td>(33.983330, -115.683330)</td>\n    </tr>\n  </tbody>\n</table>\n</div>"
     },
     "execution_count": 137,
     "metadata": {},
     "output_type": "execute_result"
    }
   ],
   "source": [
    "meteorite_landings = pd.read_csv('D:\\Home tasks\\Datasets\\meteorite-landings.csv', sep=',')\n",
    "meteorite_landings.tail() # показать последние n строк, 5 - по умолчанию"
   ],
   "metadata": {
    "collapsed": false,
    "pycharm": {
     "name": "#%%\n"
    }
   }
  },
  {
   "cell_type": "code",
   "execution_count": 138,
   "outputs": [
    {
     "data": {
      "text/plain": "       name   id nametype     recclass      mass  fall    year  reclat  \\\n0    Aachen    1    Valid           L5      21.0  Fell  1880.0  50.775   \n1    Aarhus    2    Valid           H6     720.0  Fell  1951.0  56.183   \n2      Abee    6    Valid          EH4  107000.0  Fell  1952.0  54.217   \n3  Acapulco   10    Valid  Acapulcoite    1914.0  Fell  1976.0  16.883   \n4   Achiras  370    Valid           L6     780.0  Fell  1902.0 -33.167   \n\n   reclong               GeoLocation  \n0    6.083     (50.775000, 6.083330)  \n1   10.233    (56.183330, 10.233330)  \n2 -113.000  (54.216670, -113.000000)  \n3  -99.900   (16.883330, -99.900000)  \n4  -64.950  (-33.166670, -64.950000)  ",
      "text/html": "<div>\n<style scoped>\n    .dataframe tbody tr th:only-of-type {\n        vertical-align: middle;\n    }\n\n    .dataframe tbody tr th {\n        vertical-align: top;\n    }\n\n    .dataframe thead th {\n        text-align: right;\n    }\n</style>\n<table border=\"1\" class=\"dataframe\">\n  <thead>\n    <tr style=\"text-align: right;\">\n      <th></th>\n      <th>name</th>\n      <th>id</th>\n      <th>nametype</th>\n      <th>recclass</th>\n      <th>mass</th>\n      <th>fall</th>\n      <th>year</th>\n      <th>reclat</th>\n      <th>reclong</th>\n      <th>GeoLocation</th>\n    </tr>\n  </thead>\n  <tbody>\n    <tr>\n      <th>0</th>\n      <td>Aachen</td>\n      <td>1</td>\n      <td>Valid</td>\n      <td>L5</td>\n      <td>21.0</td>\n      <td>Fell</td>\n      <td>1880.0</td>\n      <td>50.775</td>\n      <td>6.083</td>\n      <td>(50.775000, 6.083330)</td>\n    </tr>\n    <tr>\n      <th>1</th>\n      <td>Aarhus</td>\n      <td>2</td>\n      <td>Valid</td>\n      <td>H6</td>\n      <td>720.0</td>\n      <td>Fell</td>\n      <td>1951.0</td>\n      <td>56.183</td>\n      <td>10.233</td>\n      <td>(56.183330, 10.233330)</td>\n    </tr>\n    <tr>\n      <th>2</th>\n      <td>Abee</td>\n      <td>6</td>\n      <td>Valid</td>\n      <td>EH4</td>\n      <td>107000.0</td>\n      <td>Fell</td>\n      <td>1952.0</td>\n      <td>54.217</td>\n      <td>-113.000</td>\n      <td>(54.216670, -113.000000)</td>\n    </tr>\n    <tr>\n      <th>3</th>\n      <td>Acapulco</td>\n      <td>10</td>\n      <td>Valid</td>\n      <td>Acapulcoite</td>\n      <td>1914.0</td>\n      <td>Fell</td>\n      <td>1976.0</td>\n      <td>16.883</td>\n      <td>-99.900</td>\n      <td>(16.883330, -99.900000)</td>\n    </tr>\n    <tr>\n      <th>4</th>\n      <td>Achiras</td>\n      <td>370</td>\n      <td>Valid</td>\n      <td>L6</td>\n      <td>780.0</td>\n      <td>Fell</td>\n      <td>1902.0</td>\n      <td>-33.167</td>\n      <td>-64.950</td>\n      <td>(-33.166670, -64.950000)</td>\n    </tr>\n  </tbody>\n</table>\n</div>"
     },
     "execution_count": 138,
     "metadata": {},
     "output_type": "execute_result"
    }
   ],
   "source": [
    "meteorite_landings.head() # показать первые n строк, 5 - по умолчанию"
   ],
   "metadata": {
    "collapsed": false,
    "pycharm": {
     "name": "#%%\n"
    }
   }
  },
  {
   "cell_type": "code",
   "execution_count": 139,
   "outputs": [
    {
     "name": "stdout",
     "output_type": "stream",
     "text": [
      "(10000, 10)\n",
      "(10000, 10)\n",
      "(10000, 10)\n",
      "(10000, 10)\n",
      "(5716, 10)\n"
     ]
    }
   ],
   "source": [
    "chunk_size = 10000\n",
    "\n",
    "for gm_chunk in pd.read_csv('D:\\Home tasks\\Datasets\\meteorite-landings.csv', sep=',', chunksize=chunk_size):\n",
    "    print(gm_chunk.shape) # разибивка данных на части (чанки)"
   ],
   "metadata": {
    "collapsed": false,
    "pycharm": {
     "name": "#%%\n"
    }
   }
  },
  {
   "cell_type": "code",
   "execution_count": 140,
   "outputs": [
    {
     "data": {
      "text/plain": "(45716, 10)"
     },
     "execution_count": 140,
     "metadata": {},
     "output_type": "execute_result"
    }
   ],
   "source": [
    "meteorite_landings.shape # размер массива данных, строки х столбцы"
   ],
   "metadata": {
    "collapsed": false,
    "pycharm": {
     "name": "#%%\n"
    }
   }
  },
  {
   "cell_type": "code",
   "execution_count": 141,
   "outputs": [
    {
     "data": {
      "text/plain": "Index(['name', 'id', 'nametype', 'recclass', 'mass', 'fall', 'year', 'reclat',\n       'reclong', 'GeoLocation'],\n      dtype='object')"
     },
     "execution_count": 141,
     "metadata": {},
     "output_type": "execute_result"
    }
   ],
   "source": [
    "meteorite_landings.columns"
   ],
   "metadata": {
    "collapsed": false,
    "pycharm": {
     "name": "#%%\n"
    }
   }
  },
  {
   "cell_type": "code",
   "execution_count": 142,
   "outputs": [
    {
     "data": {
      "text/plain": "              id       mass       year     reclat    reclong\ncount  45716.000  4.558e+04  45428.000  38401.000  38401.000\nmean   26889.735  1.328e+04   1991.772    -39.123     61.074\nstd    16860.683  5.750e+05     27.181     46.379     80.647\nmin        1.000  0.000e+00    301.000    -87.367   -165.433\n25%    12688.750  7.200e+00   1987.000    -76.714      0.000\n50%    24261.500  3.260e+01   1998.000    -71.500     35.667\n75%    40656.750  2.026e+02   2003.000      0.000    157.167\nmax    57458.000  6.000e+07   2501.000     81.167    354.473",
      "text/html": "<div>\n<style scoped>\n    .dataframe tbody tr th:only-of-type {\n        vertical-align: middle;\n    }\n\n    .dataframe tbody tr th {\n        vertical-align: top;\n    }\n\n    .dataframe thead th {\n        text-align: right;\n    }\n</style>\n<table border=\"1\" class=\"dataframe\">\n  <thead>\n    <tr style=\"text-align: right;\">\n      <th></th>\n      <th>id</th>\n      <th>mass</th>\n      <th>year</th>\n      <th>reclat</th>\n      <th>reclong</th>\n    </tr>\n  </thead>\n  <tbody>\n    <tr>\n      <th>count</th>\n      <td>45716.000</td>\n      <td>4.558e+04</td>\n      <td>45428.000</td>\n      <td>38401.000</td>\n      <td>38401.000</td>\n    </tr>\n    <tr>\n      <th>mean</th>\n      <td>26889.735</td>\n      <td>1.328e+04</td>\n      <td>1991.772</td>\n      <td>-39.123</td>\n      <td>61.074</td>\n    </tr>\n    <tr>\n      <th>std</th>\n      <td>16860.683</td>\n      <td>5.750e+05</td>\n      <td>27.181</td>\n      <td>46.379</td>\n      <td>80.647</td>\n    </tr>\n    <tr>\n      <th>min</th>\n      <td>1.000</td>\n      <td>0.000e+00</td>\n      <td>301.000</td>\n      <td>-87.367</td>\n      <td>-165.433</td>\n    </tr>\n    <tr>\n      <th>25%</th>\n      <td>12688.750</td>\n      <td>7.200e+00</td>\n      <td>1987.000</td>\n      <td>-76.714</td>\n      <td>0.000</td>\n    </tr>\n    <tr>\n      <th>50%</th>\n      <td>24261.500</td>\n      <td>3.260e+01</td>\n      <td>1998.000</td>\n      <td>-71.500</td>\n      <td>35.667</td>\n    </tr>\n    <tr>\n      <th>75%</th>\n      <td>40656.750</td>\n      <td>2.026e+02</td>\n      <td>2003.000</td>\n      <td>0.000</td>\n      <td>157.167</td>\n    </tr>\n    <tr>\n      <th>max</th>\n      <td>57458.000</td>\n      <td>6.000e+07</td>\n      <td>2501.000</td>\n      <td>81.167</td>\n      <td>354.473</td>\n    </tr>\n  </tbody>\n</table>\n</div>"
     },
     "execution_count": 142,
     "metadata": {},
     "output_type": "execute_result"
    }
   ],
   "source": [
    "meteorite_landings.describe() # числовые статистики"
   ],
   "metadata": {
    "collapsed": false,
    "pycharm": {
     "name": "#%%\n"
    }
   }
  },
  {
   "cell_type": "code",
   "execution_count": 143,
   "outputs": [
    {
     "data": {
      "text/plain": "          name nametype recclass   fall           GeoLocation\ncount    45716    45716    45716  45716                 38401\nunique   45716        2      466      2                 17100\ntop     Aachen    Valid       L6  Found  (0.000000, 0.000000)\nfreq         1    45641     8285  44609                  6214",
      "text/html": "<div>\n<style scoped>\n    .dataframe tbody tr th:only-of-type {\n        vertical-align: middle;\n    }\n\n    .dataframe tbody tr th {\n        vertical-align: top;\n    }\n\n    .dataframe thead th {\n        text-align: right;\n    }\n</style>\n<table border=\"1\" class=\"dataframe\">\n  <thead>\n    <tr style=\"text-align: right;\">\n      <th></th>\n      <th>name</th>\n      <th>nametype</th>\n      <th>recclass</th>\n      <th>fall</th>\n      <th>GeoLocation</th>\n    </tr>\n  </thead>\n  <tbody>\n    <tr>\n      <th>count</th>\n      <td>45716</td>\n      <td>45716</td>\n      <td>45716</td>\n      <td>45716</td>\n      <td>38401</td>\n    </tr>\n    <tr>\n      <th>unique</th>\n      <td>45716</td>\n      <td>2</td>\n      <td>466</td>\n      <td>2</td>\n      <td>17100</td>\n    </tr>\n    <tr>\n      <th>top</th>\n      <td>Aachen</td>\n      <td>Valid</td>\n      <td>L6</td>\n      <td>Found</td>\n      <td>(0.000000, 0.000000)</td>\n    </tr>\n    <tr>\n      <th>freq</th>\n      <td>1</td>\n      <td>45641</td>\n      <td>8285</td>\n      <td>44609</td>\n      <td>6214</td>\n    </tr>\n  </tbody>\n</table>\n</div>"
     },
     "execution_count": 143,
     "metadata": {},
     "output_type": "execute_result"
    }
   ],
   "source": [
    "meteorite_landings.describe(include='object')"
   ],
   "metadata": {
    "collapsed": false,
    "pycharm": {
     "name": "#%%\n"
    }
   }
  },
  {
   "cell_type": "code",
   "execution_count": 144,
   "outputs": [
    {
     "data": {
      "text/plain": "L6    8285\nH5    7142\nL5    4796\nH6    4528\nH4    4211\nName: recclass, dtype: int64"
     },
     "execution_count": 144,
     "metadata": {},
     "output_type": "execute_result"
    }
   ],
   "source": [
    "meteorite_landings.recclass.value_counts()[:5]"
   ],
   "metadata": {
    "collapsed": false,
    "pycharm": {
     "name": "#%%\n"
    }
   }
  },
  {
   "cell_type": "code",
   "execution_count": 145,
   "outputs": [
    {
     "name": "stdout",
     "output_type": "stream",
     "text": [
      "<class 'pandas.core.frame.DataFrame'>\n",
      "RangeIndex: 45716 entries, 0 to 45715\n",
      "Data columns (total 10 columns):\n",
      " #   Column       Non-Null Count  Dtype  \n",
      "---  ------       --------------  -----  \n",
      " 0   name         45716 non-null  object \n",
      " 1   id           45716 non-null  int64  \n",
      " 2   nametype     45716 non-null  object \n",
      " 3   recclass     45716 non-null  object \n",
      " 4   mass         45585 non-null  float64\n",
      " 5   fall         45716 non-null  object \n",
      " 6   year         45428 non-null  float64\n",
      " 7   reclat       38401 non-null  float64\n",
      " 8   reclong      38401 non-null  float64\n",
      " 9   GeoLocation  38401 non-null  object \n",
      "dtypes: float64(4), int64(1), object(5)\n",
      "memory usage: 3.5+ MB\n"
     ]
    }
   ],
   "source": [
    "meteorite_landings.info()"
   ],
   "metadata": {
    "collapsed": false,
    "pycharm": {
     "name": "#%%\n"
    }
   }
  },
  {
   "cell_type": "code",
   "execution_count": 146,
   "outputs": [
    {
     "name": "stdout",
     "output_type": "stream",
     "text": [
      "Average memory usage for float columns: 0.28 MB\n",
      "Average memory usage for int columns: 0.17 MB\n",
      "Average memory usage for object columns: 2.41 MB\n"
     ]
    }
   ],
   "source": [
    "for dtype in ['float', 'int', 'object']:\n",
    "    selected_dtype = meteorite_landings.select_dtypes(include=[dtype])\n",
    "    mean_usage_bytes = selected_dtype.memory_usage(deep = True).mean()\n",
    "    mean_usage_megabytes = mean_usage_bytes / 1024 ** 2\n",
    "    print('Average memory usage for {} columns: {:03.2f} MB'.format(dtype, mean_usage_megabytes))"
   ],
   "metadata": {
    "collapsed": false,
    "pycharm": {
     "name": "#%%\n"
    }
   }
  },
  {
   "cell_type": "code",
   "execution_count": 147,
   "outputs": [
    {
     "name": "stdout",
     "output_type": "stream",
     "text": [
      "<class 'pandas.core.frame.DataFrame'>\n",
      "RangeIndex: 45716 entries, 0 to 45715\n",
      "Data columns (total 10 columns):\n",
      " #   Column       Non-Null Count  Dtype  \n",
      "---  ------       --------------  -----  \n",
      " 0   name         45716 non-null  object \n",
      " 1   id           45716 non-null  int64  \n",
      " 2   nametype     45716 non-null  object \n",
      " 3   recclass     45716 non-null  object \n",
      " 4   mass         45585 non-null  float32\n",
      " 5   fall         45716 non-null  object \n",
      " 6   year         45428 non-null  float64\n",
      " 7   reclat       38401 non-null  float64\n",
      " 8   reclong      38401 non-null  float64\n",
      " 9   GeoLocation  38401 non-null  object \n",
      "dtypes: float32(1), float64(3), int64(1), object(5)\n",
      "memory usage: 3.3+ MB\n"
     ]
    }
   ],
   "source": [
    "# меняем тип значение колонки mass на float32\n",
    "meteorite_landings['mass'] = meteorite_landings['mass'].astype(np.float32)\n",
    "meteorite_landings.info()"
   ],
   "metadata": {
    "collapsed": false,
    "pycharm": {
     "name": "#%%\n"
    }
   }
  },
  {
   "cell_type": "code",
   "execution_count": 148,
   "outputs": [
    {
     "data": {
      "text/plain": "[('name', 45716),\n ('id', 45716),\n ('nametype', 2),\n ('recclass', 466),\n ('mass', 12576),\n ('fall', 2),\n ('year', 268),\n ('reclat', 12738),\n ('reclong', 14640),\n ('GeoLocation', 17100)]"
     },
     "execution_count": 148,
     "metadata": {},
     "output_type": "execute_result"
    }
   ],
   "source": [
    "# вывод кол-ва уникальных записей для каждой колонки\n",
    "[(column, meteorite_landings[column].nunique()) for column in meteorite_landings.columns]"
   ],
   "metadata": {
    "collapsed": false,
    "pycharm": {
     "name": "#%%\n"
    }
   }
  },
  {
   "cell_type": "code",
   "execution_count": 149,
   "outputs": [
    {
     "data": {
      "text/plain": "array([2.100e+01, 7.200e+02, 1.070e+05, ..., 9.000e+05, 1.475e+03,\n       2.167e+03], dtype=float32)"
     },
     "execution_count": 149,
     "metadata": {},
     "output_type": "execute_result"
    }
   ],
   "source": [
    "# вывод всех уникальных значений колонки\n",
    "meteorite_landings.mass.unique()"
   ],
   "metadata": {
    "collapsed": false,
    "pycharm": {
     "name": "#%%\n"
    }
   }
  },
  {
   "cell_type": "code",
   "execution_count": 150,
   "outputs": [
    {
     "name": "stdout",
     "output_type": "stream",
     "text": [
      "<class 'pandas.core.frame.DataFrame'>\n",
      "RangeIndex: 45716 entries, 0 to 45715\n",
      "Data columns (total 10 columns):\n",
      " #   Column       Non-Null Count  Dtype   \n",
      "---  ------       --------------  -----   \n",
      " 0   name         45716 non-null  object  \n",
      " 1   id           45716 non-null  int64   \n",
      " 2   nametype     45716 non-null  object  \n",
      " 3   recclass     45716 non-null  category\n",
      " 4   mass         45585 non-null  float32 \n",
      " 5   fall         45716 non-null  object  \n",
      " 6   year         45428 non-null  float64 \n",
      " 7   reclat       38401 non-null  float64 \n",
      " 8   reclong      38401 non-null  float64 \n",
      " 9   GeoLocation  38401 non-null  object  \n",
      "dtypes: category(1), float32(1), float64(3), int64(1), object(4)\n",
      "memory usage: 3.1+ MB\n"
     ]
    }
   ],
   "source": [
    "meteorite_landings_category = meteorite_landings.copy()\n",
    "# меняем тип колонки recclass на category\n",
    "meteorite_landings_category['recclass'] = meteorite_landings['recclass'].astype('category')\n",
    "meteorite_landings_category.info()"
   ],
   "metadata": {
    "collapsed": false,
    "pycharm": {
     "name": "#%%\n"
    }
   }
  },
  {
   "cell_type": "code",
   "execution_count": 151,
   "outputs": [
    {
     "data": {
      "text/plain": "                        name     id nametype     recclass    mass   fall  \\\n27673  Northwest Africa 2656  32485    Valid  Acapulcoite  7500.0  Found   \n30353   Northwest Africa 725  17807    Valid  Acapulcoite  3824.0  Found   \n27845  Northwest Africa 2871  33345    Valid  Acapulcoite  3467.0  Found   \n7131              Dhofar 125   6910    Valid  Acapulcoite  2697.0  Found   \n3                   Acapulco     10    Valid  Acapulcoite  1914.0   Fell   \n\n         year  reclat  reclong              GeoLocation  \n27673  2003.0     NaN      NaN                      NaN  \n30353     NaN  30.600    -5.05   (30.600000, -5.050000)  \n27845  2005.0     NaN      NaN                      NaN  \n7131   2000.0  18.987    54.60   (18.986670, 54.600500)  \n3      1976.0  16.883   -99.90  (16.883330, -99.900000)  ",
      "text/html": "<div>\n<style scoped>\n    .dataframe tbody tr th:only-of-type {\n        vertical-align: middle;\n    }\n\n    .dataframe tbody tr th {\n        vertical-align: top;\n    }\n\n    .dataframe thead th {\n        text-align: right;\n    }\n</style>\n<table border=\"1\" class=\"dataframe\">\n  <thead>\n    <tr style=\"text-align: right;\">\n      <th></th>\n      <th>name</th>\n      <th>id</th>\n      <th>nametype</th>\n      <th>recclass</th>\n      <th>mass</th>\n      <th>fall</th>\n      <th>year</th>\n      <th>reclat</th>\n      <th>reclong</th>\n      <th>GeoLocation</th>\n    </tr>\n  </thead>\n  <tbody>\n    <tr>\n      <th>27673</th>\n      <td>Northwest Africa 2656</td>\n      <td>32485</td>\n      <td>Valid</td>\n      <td>Acapulcoite</td>\n      <td>7500.0</td>\n      <td>Found</td>\n      <td>2003.0</td>\n      <td>NaN</td>\n      <td>NaN</td>\n      <td>NaN</td>\n    </tr>\n    <tr>\n      <th>30353</th>\n      <td>Northwest Africa 725</td>\n      <td>17807</td>\n      <td>Valid</td>\n      <td>Acapulcoite</td>\n      <td>3824.0</td>\n      <td>Found</td>\n      <td>NaN</td>\n      <td>30.600</td>\n      <td>-5.05</td>\n      <td>(30.600000, -5.050000)</td>\n    </tr>\n    <tr>\n      <th>27845</th>\n      <td>Northwest Africa 2871</td>\n      <td>33345</td>\n      <td>Valid</td>\n      <td>Acapulcoite</td>\n      <td>3467.0</td>\n      <td>Found</td>\n      <td>2005.0</td>\n      <td>NaN</td>\n      <td>NaN</td>\n      <td>NaN</td>\n    </tr>\n    <tr>\n      <th>7131</th>\n      <td>Dhofar 125</td>\n      <td>6910</td>\n      <td>Valid</td>\n      <td>Acapulcoite</td>\n      <td>2697.0</td>\n      <td>Found</td>\n      <td>2000.0</td>\n      <td>18.987</td>\n      <td>54.60</td>\n      <td>(18.986670, 54.600500)</td>\n    </tr>\n    <tr>\n      <th>3</th>\n      <td>Acapulco</td>\n      <td>10</td>\n      <td>Valid</td>\n      <td>Acapulcoite</td>\n      <td>1914.0</td>\n      <td>Fell</td>\n      <td>1976.0</td>\n      <td>16.883</td>\n      <td>-99.90</td>\n      <td>(16.883330, -99.900000)</td>\n    </tr>\n  </tbody>\n</table>\n</div>"
     },
     "execution_count": 151,
     "metadata": {},
     "output_type": "execute_result"
    }
   ],
   "source": [
    "# сортировка, по убыванию для recclass + по возрастанию для mass\n",
    "meteorite_landings.sort_values(by=['recclass', 'mass'], ascending=[True, False]).head()"
   ],
   "metadata": {
    "collapsed": false,
    "pycharm": {
     "name": "#%%\n"
    }
   }
  },
  {
   "cell_type": "code",
   "execution_count": 152,
   "outputs": [
    {
     "data": {
      "text/plain": "mass    6.000e+07\nid      5.746e+04\ndtype: float64"
     },
     "execution_count": 152,
     "metadata": {},
     "output_type": "execute_result"
    }
   ],
   "source": [
    "# применяем функцию np.max для mass и id\n",
    "meteorite_landings[['mass', 'id']].apply(np.max)"
   ],
   "metadata": {
    "collapsed": false,
    "pycharm": {
     "name": "#%%\n"
    }
   }
  },
  {
   "cell_type": "code",
   "execution_count": 153,
   "outputs": [
    {
     "data": {
      "text/plain": "            mean       amax  amin         std\nfall                                         \nFell   47070.715  2.300e+07   0.1  717067.126\nFound  12461.923  6.000e+07   0.0  571105.752",
      "text/html": "<div>\n<style scoped>\n    .dataframe tbody tr th:only-of-type {\n        vertical-align: middle;\n    }\n\n    .dataframe tbody tr th {\n        vertical-align: top;\n    }\n\n    .dataframe thead th {\n        text-align: right;\n    }\n</style>\n<table border=\"1\" class=\"dataframe\">\n  <thead>\n    <tr style=\"text-align: right;\">\n      <th></th>\n      <th>mean</th>\n      <th>amax</th>\n      <th>amin</th>\n      <th>std</th>\n    </tr>\n    <tr>\n      <th>fall</th>\n      <th></th>\n      <th></th>\n      <th></th>\n      <th></th>\n    </tr>\n  </thead>\n  <tbody>\n    <tr>\n      <th>Fell</th>\n      <td>47070.715</td>\n      <td>2.300e+07</td>\n      <td>0.1</td>\n      <td>717067.126</td>\n    </tr>\n    <tr>\n      <th>Found</th>\n      <td>12461.923</td>\n      <td>6.000e+07</td>\n      <td>0.0</td>\n      <td>571105.752</td>\n    </tr>\n  </tbody>\n</table>\n</div>"
     },
     "execution_count": 153,
     "metadata": {},
     "output_type": "execute_result"
    }
   ],
   "source": [
    "# группировка по значениям колонки fall и вывод статистик для колонки mass по сгруппированным значениям\n",
    "meteorite_landings.groupby(by='fall')['mass'].agg([np.mean, np.max, np.min, np.std])\n",
    "#meteorite_landings.groupby('fall').aggregate({'mass' : 'mean'})"
   ],
   "metadata": {
    "collapsed": false,
    "pycharm": {
     "name": "#%%\n"
    }
   }
  },
  {
   "cell_type": "code",
   "execution_count": 154,
   "outputs": [],
   "source": [
    "# sql - like операции для таблиц\n",
    "# https://pandas.pydata.org/pandas-docs/stable/user_guide/merging.html"
   ],
   "metadata": {
    "collapsed": false,
    "pycharm": {
     "name": "#%%\n"
    }
   }
  },
  {
   "cell_type": "code",
   "execution_count": 155,
   "outputs": [
    {
     "data": {
      "text/plain": "name            object\nid               int64\nnametype        object\nrecclass        object\nmass           float32\nfall            object\nyear           float64\nreclat         float64\nreclong        float64\nGeoLocation     object\ndtype: object"
     },
     "execution_count": 155,
     "metadata": {},
     "output_type": "execute_result"
    }
   ],
   "source": [
    "# вывод типов данных, содержащихся в каждой колонке\n",
    "meteorite_landings.dtypes"
   ],
   "metadata": {
    "collapsed": false,
    "pycharm": {
     "name": "#%%\n"
    }
   }
  },
  {
   "cell_type": "code",
   "execution_count": 156,
   "outputs": [],
   "source": [
    "#ФИЛЬТРАЦИЯ"
   ],
   "metadata": {
    "collapsed": false,
    "pycharm": {
     "name": "#%%\n"
    }
   }
  },
  {
   "cell_type": "code",
   "execution_count": 157,
   "outputs": [
    {
     "data": {
      "text/plain": "          name     id nametype     recclass      mass  fall    year  reclat  \\\n0       Aachen      1    Valid           L5      21.0  Fell  1880.0  50.775   \n1       Aarhus      2    Valid           H6     720.0  Fell  1951.0  56.183   \n2         Abee      6    Valid          EH4  107000.0  Fell  1952.0  54.217   \n3     Acapulco     10    Valid  Acapulcoite    1914.0  Fell  1976.0  16.883   \n4      Achiras    370    Valid           L6     780.0  Fell  1902.0 -33.167   \n...        ...    ...      ...          ...       ...   ...     ...     ...   \n1103  Zhuanghe  30408    Valid           H5    2900.0  Fell  1976.0  39.667   \n1104     Zmenj  30411    Valid    Howardite     246.0  Fell  1858.0  51.833   \n1105     Zomba  30412    Valid           L6    7500.0  Fell  1899.0 -15.183   \n1106   Zsadany  30413    Valid           H5     552.0  Fell  1875.0  46.933   \n1107   Zvonkov  30415    Valid           H6    2568.0  Fell  1955.0  50.200   \n\n      reclong               GeoLocation  \n0       6.083     (50.775000, 6.083330)  \n1      10.233    (56.183330, 10.233330)  \n2    -113.000  (54.216670, -113.000000)  \n3     -99.900   (16.883330, -99.900000)  \n4     -64.950  (-33.166670, -64.950000)  \n...       ...                       ...  \n1103  122.983   (39.666670, 122.983330)  \n1104   26.833    (51.833330, 26.833330)  \n1105   35.283   (-15.183330, 35.283330)  \n1106   21.500    (46.933330, 21.500000)  \n1107   30.250    (50.200000, 30.250000)  \n\n[1107 rows x 10 columns]",
      "text/html": "<div>\n<style scoped>\n    .dataframe tbody tr th:only-of-type {\n        vertical-align: middle;\n    }\n\n    .dataframe tbody tr th {\n        vertical-align: top;\n    }\n\n    .dataframe thead th {\n        text-align: right;\n    }\n</style>\n<table border=\"1\" class=\"dataframe\">\n  <thead>\n    <tr style=\"text-align: right;\">\n      <th></th>\n      <th>name</th>\n      <th>id</th>\n      <th>nametype</th>\n      <th>recclass</th>\n      <th>mass</th>\n      <th>fall</th>\n      <th>year</th>\n      <th>reclat</th>\n      <th>reclong</th>\n      <th>GeoLocation</th>\n    </tr>\n  </thead>\n  <tbody>\n    <tr>\n      <th>0</th>\n      <td>Aachen</td>\n      <td>1</td>\n      <td>Valid</td>\n      <td>L5</td>\n      <td>21.0</td>\n      <td>Fell</td>\n      <td>1880.0</td>\n      <td>50.775</td>\n      <td>6.083</td>\n      <td>(50.775000, 6.083330)</td>\n    </tr>\n    <tr>\n      <th>1</th>\n      <td>Aarhus</td>\n      <td>2</td>\n      <td>Valid</td>\n      <td>H6</td>\n      <td>720.0</td>\n      <td>Fell</td>\n      <td>1951.0</td>\n      <td>56.183</td>\n      <td>10.233</td>\n      <td>(56.183330, 10.233330)</td>\n    </tr>\n    <tr>\n      <th>2</th>\n      <td>Abee</td>\n      <td>6</td>\n      <td>Valid</td>\n      <td>EH4</td>\n      <td>107000.0</td>\n      <td>Fell</td>\n      <td>1952.0</td>\n      <td>54.217</td>\n      <td>-113.000</td>\n      <td>(54.216670, -113.000000)</td>\n    </tr>\n    <tr>\n      <th>3</th>\n      <td>Acapulco</td>\n      <td>10</td>\n      <td>Valid</td>\n      <td>Acapulcoite</td>\n      <td>1914.0</td>\n      <td>Fell</td>\n      <td>1976.0</td>\n      <td>16.883</td>\n      <td>-99.900</td>\n      <td>(16.883330, -99.900000)</td>\n    </tr>\n    <tr>\n      <th>4</th>\n      <td>Achiras</td>\n      <td>370</td>\n      <td>Valid</td>\n      <td>L6</td>\n      <td>780.0</td>\n      <td>Fell</td>\n      <td>1902.0</td>\n      <td>-33.167</td>\n      <td>-64.950</td>\n      <td>(-33.166670, -64.950000)</td>\n    </tr>\n    <tr>\n      <th>...</th>\n      <td>...</td>\n      <td>...</td>\n      <td>...</td>\n      <td>...</td>\n      <td>...</td>\n      <td>...</td>\n      <td>...</td>\n      <td>...</td>\n      <td>...</td>\n      <td>...</td>\n    </tr>\n    <tr>\n      <th>1103</th>\n      <td>Zhuanghe</td>\n      <td>30408</td>\n      <td>Valid</td>\n      <td>H5</td>\n      <td>2900.0</td>\n      <td>Fell</td>\n      <td>1976.0</td>\n      <td>39.667</td>\n      <td>122.983</td>\n      <td>(39.666670, 122.983330)</td>\n    </tr>\n    <tr>\n      <th>1104</th>\n      <td>Zmenj</td>\n      <td>30411</td>\n      <td>Valid</td>\n      <td>Howardite</td>\n      <td>246.0</td>\n      <td>Fell</td>\n      <td>1858.0</td>\n      <td>51.833</td>\n      <td>26.833</td>\n      <td>(51.833330, 26.833330)</td>\n    </tr>\n    <tr>\n      <th>1105</th>\n      <td>Zomba</td>\n      <td>30412</td>\n      <td>Valid</td>\n      <td>L6</td>\n      <td>7500.0</td>\n      <td>Fell</td>\n      <td>1899.0</td>\n      <td>-15.183</td>\n      <td>35.283</td>\n      <td>(-15.183330, 35.283330)</td>\n    </tr>\n    <tr>\n      <th>1106</th>\n      <td>Zsadany</td>\n      <td>30413</td>\n      <td>Valid</td>\n      <td>H5</td>\n      <td>552.0</td>\n      <td>Fell</td>\n      <td>1875.0</td>\n      <td>46.933</td>\n      <td>21.500</td>\n      <td>(46.933330, 21.500000)</td>\n    </tr>\n    <tr>\n      <th>1107</th>\n      <td>Zvonkov</td>\n      <td>30415</td>\n      <td>Valid</td>\n      <td>H6</td>\n      <td>2568.0</td>\n      <td>Fell</td>\n      <td>1955.0</td>\n      <td>50.200</td>\n      <td>30.250</td>\n      <td>(50.200000, 30.250000)</td>\n    </tr>\n  </tbody>\n</table>\n<p>1107 rows × 10 columns</p>\n</div>"
     },
     "execution_count": 157,
     "metadata": {},
     "output_type": "execute_result"
    }
   ],
   "source": [
    "# выводим только те строки, в которых значение колонки fall равняется 'Fell'\n",
    "meteorite_landings.loc[meteorite_landings.fall == 'Fell']\n",
    "#meteorite_landings.loc[meteorite_landings['fall'] == 'Fell']"
   ],
   "metadata": {
    "collapsed": false,
    "pycharm": {
     "name": "#%%\n"
    }
   }
  },
  {
   "cell_type": "code",
   "execution_count": 158,
   "outputs": [
    {
     "data": {
      "text/plain": "             name     id nametype           recclass       mass   fall  \\\n2            Abee      6    Valid                EH4  1.070e+05   Fell   \n7            Agen    392    Valid                 H5  3.000e+04   Fell   \n11            Aïr    424    Valid                 L6  2.400e+04   Fell   \n16        Akyumak    433    Valid          Iron, IVA  5.000e+04   Fell   \n27     Alfianello    466    Valid                 L6  2.280e+05   Fell   \n...           ...    ...      ...                ...        ...    ...   \n45705    Zerhamra  30403    Valid     Iron, IIIAB-an  6.300e+05  Found   \n45706     Zerkaly  31354    Valid                 H5  1.600e+04  Found   \n45707    Zhaoping  54609    Valid  Iron, IAB complex  2.000e+06  Found   \n45708    Zhigansk  30405    Valid        Iron, IIIAB  9.000e+05  Found   \n45709  Zhongxiang  30406    Valid               Iron  1.000e+05  Found   \n\n         year  reclat  reclong               GeoLocation  \n2      1952.0  54.217 -113.000  (54.216670, -113.000000)  \n7      1814.0  44.217    0.617     (44.216670, 0.616670)  \n11     1925.0  19.083    8.383     (19.083330, 8.383330)  \n16     1981.0  39.917   42.817    (39.916670, 42.816670)  \n27     1883.0  45.267   10.150    (45.266670, 10.150000)  \n...       ...     ...      ...                       ...  \n45705  1967.0  29.859   -2.645    (29.858610, -2.645000)  \n45706  1956.0  52.133   81.967    (52.133330, 81.966670)  \n45707  1983.0  24.233  111.183   (24.233330, 111.183330)  \n45708  1966.0  68.000  128.300   (68.000000, 128.300000)  \n45709  1981.0  31.200  112.500   (31.200000, 112.500000)  \n\n[1149 rows x 10 columns]",
      "text/html": "<div>\n<style scoped>\n    .dataframe tbody tr th:only-of-type {\n        vertical-align: middle;\n    }\n\n    .dataframe tbody tr th {\n        vertical-align: top;\n    }\n\n    .dataframe thead th {\n        text-align: right;\n    }\n</style>\n<table border=\"1\" class=\"dataframe\">\n  <thead>\n    <tr style=\"text-align: right;\">\n      <th></th>\n      <th>name</th>\n      <th>id</th>\n      <th>nametype</th>\n      <th>recclass</th>\n      <th>mass</th>\n      <th>fall</th>\n      <th>year</th>\n      <th>reclat</th>\n      <th>reclong</th>\n      <th>GeoLocation</th>\n    </tr>\n  </thead>\n  <tbody>\n    <tr>\n      <th>2</th>\n      <td>Abee</td>\n      <td>6</td>\n      <td>Valid</td>\n      <td>EH4</td>\n      <td>1.070e+05</td>\n      <td>Fell</td>\n      <td>1952.0</td>\n      <td>54.217</td>\n      <td>-113.000</td>\n      <td>(54.216670, -113.000000)</td>\n    </tr>\n    <tr>\n      <th>7</th>\n      <td>Agen</td>\n      <td>392</td>\n      <td>Valid</td>\n      <td>H5</td>\n      <td>3.000e+04</td>\n      <td>Fell</td>\n      <td>1814.0</td>\n      <td>44.217</td>\n      <td>0.617</td>\n      <td>(44.216670, 0.616670)</td>\n    </tr>\n    <tr>\n      <th>11</th>\n      <td>Aïr</td>\n      <td>424</td>\n      <td>Valid</td>\n      <td>L6</td>\n      <td>2.400e+04</td>\n      <td>Fell</td>\n      <td>1925.0</td>\n      <td>19.083</td>\n      <td>8.383</td>\n      <td>(19.083330, 8.383330)</td>\n    </tr>\n    <tr>\n      <th>16</th>\n      <td>Akyumak</td>\n      <td>433</td>\n      <td>Valid</td>\n      <td>Iron, IVA</td>\n      <td>5.000e+04</td>\n      <td>Fell</td>\n      <td>1981.0</td>\n      <td>39.917</td>\n      <td>42.817</td>\n      <td>(39.916670, 42.816670)</td>\n    </tr>\n    <tr>\n      <th>27</th>\n      <td>Alfianello</td>\n      <td>466</td>\n      <td>Valid</td>\n      <td>L6</td>\n      <td>2.280e+05</td>\n      <td>Fell</td>\n      <td>1883.0</td>\n      <td>45.267</td>\n      <td>10.150</td>\n      <td>(45.266670, 10.150000)</td>\n    </tr>\n    <tr>\n      <th>...</th>\n      <td>...</td>\n      <td>...</td>\n      <td>...</td>\n      <td>...</td>\n      <td>...</td>\n      <td>...</td>\n      <td>...</td>\n      <td>...</td>\n      <td>...</td>\n      <td>...</td>\n    </tr>\n    <tr>\n      <th>45705</th>\n      <td>Zerhamra</td>\n      <td>30403</td>\n      <td>Valid</td>\n      <td>Iron, IIIAB-an</td>\n      <td>6.300e+05</td>\n      <td>Found</td>\n      <td>1967.0</td>\n      <td>29.859</td>\n      <td>-2.645</td>\n      <td>(29.858610, -2.645000)</td>\n    </tr>\n    <tr>\n      <th>45706</th>\n      <td>Zerkaly</td>\n      <td>31354</td>\n      <td>Valid</td>\n      <td>H5</td>\n      <td>1.600e+04</td>\n      <td>Found</td>\n      <td>1956.0</td>\n      <td>52.133</td>\n      <td>81.967</td>\n      <td>(52.133330, 81.966670)</td>\n    </tr>\n    <tr>\n      <th>45707</th>\n      <td>Zhaoping</td>\n      <td>54609</td>\n      <td>Valid</td>\n      <td>Iron, IAB complex</td>\n      <td>2.000e+06</td>\n      <td>Found</td>\n      <td>1983.0</td>\n      <td>24.233</td>\n      <td>111.183</td>\n      <td>(24.233330, 111.183330)</td>\n    </tr>\n    <tr>\n      <th>45708</th>\n      <td>Zhigansk</td>\n      <td>30405</td>\n      <td>Valid</td>\n      <td>Iron, IIIAB</td>\n      <td>9.000e+05</td>\n      <td>Found</td>\n      <td>1966.0</td>\n      <td>68.000</td>\n      <td>128.300</td>\n      <td>(68.000000, 128.300000)</td>\n    </tr>\n    <tr>\n      <th>45709</th>\n      <td>Zhongxiang</td>\n      <td>30406</td>\n      <td>Valid</td>\n      <td>Iron</td>\n      <td>1.000e+05</td>\n      <td>Found</td>\n      <td>1981.0</td>\n      <td>31.200</td>\n      <td>112.500</td>\n      <td>(31.200000, 112.500000)</td>\n    </tr>\n  </tbody>\n</table>\n<p>1149 rows × 10 columns</p>\n</div>"
     },
     "execution_count": 158,
     "metadata": {},
     "output_type": "execute_result"
    }
   ],
   "source": [
    "# выводим только те строки, в которых значение mass выше среднего\n",
    "mean_mass = meteorite_landings['mass'].mean()\n",
    "meteorite_landings.loc[meteorite_landings['mass'] > mean_mass]"
   ],
   "metadata": {
    "collapsed": false,
    "pycharm": {
     "name": "#%%\n"
    }
   }
  },
  {
   "cell_type": "code",
   "execution_count": 159,
   "outputs": [
    {
     "data": {
      "text/plain": "              name     id nametype   recclass      mass  fall    year  reclat  \\\n2             Abee      6    Valid        EH4  107000.0  Fell  1952.0  54.217   \n7             Agen    392    Valid         H5   30000.0  Fell  1814.0  44.217   \n11             Aïr    424    Valid         L6   24000.0  Fell  1925.0  19.083   \n16         Akyumak    433    Valid  Iron, IVA   50000.0  Fell  1981.0  39.917   \n27      Alfianello    466    Valid         L6  228000.0  Fell  1883.0  45.267   \n...            ...    ...      ...        ...       ...   ...     ...     ...   \n1096       Zaoyang  30391    Valid         H5   14250.0  Fell  1984.0  32.300   \n1098         Zavid  30396    Valid         L6   95000.0  Fell  1897.0  44.400   \n1100  Zemaitkiemis  30399    Valid         L6   44100.0  Fell  1933.0  55.300   \n1101      Zhaodong  30404    Valid         L4   42000.0  Fell  1984.0  45.817   \n1102    Zhovtnevyi  30407    Valid         H6  107000.0  Fell  1938.0  47.583   \n\n      reclong               GeoLocation  \n2    -113.000  (54.216670, -113.000000)  \n7       0.617     (44.216670, 0.616670)  \n11      8.383     (19.083330, 8.383330)  \n16     42.817    (39.916670, 42.816670)  \n27     10.150    (45.266670, 10.150000)  \n...       ...                       ...  \n1096  112.750   (32.300000, 112.750000)  \n1098   19.117    (44.400000, 19.116670)  \n1100   25.000    (55.300000, 25.000000)  \n1101  125.917   (45.816670, 125.916670)  \n1102   37.250    (47.583330, 37.250000)  \n\n[242 rows x 10 columns]",
      "text/html": "<div>\n<style scoped>\n    .dataframe tbody tr th:only-of-type {\n        vertical-align: middle;\n    }\n\n    .dataframe tbody tr th {\n        vertical-align: top;\n    }\n\n    .dataframe thead th {\n        text-align: right;\n    }\n</style>\n<table border=\"1\" class=\"dataframe\">\n  <thead>\n    <tr style=\"text-align: right;\">\n      <th></th>\n      <th>name</th>\n      <th>id</th>\n      <th>nametype</th>\n      <th>recclass</th>\n      <th>mass</th>\n      <th>fall</th>\n      <th>year</th>\n      <th>reclat</th>\n      <th>reclong</th>\n      <th>GeoLocation</th>\n    </tr>\n  </thead>\n  <tbody>\n    <tr>\n      <th>2</th>\n      <td>Abee</td>\n      <td>6</td>\n      <td>Valid</td>\n      <td>EH4</td>\n      <td>107000.0</td>\n      <td>Fell</td>\n      <td>1952.0</td>\n      <td>54.217</td>\n      <td>-113.000</td>\n      <td>(54.216670, -113.000000)</td>\n    </tr>\n    <tr>\n      <th>7</th>\n      <td>Agen</td>\n      <td>392</td>\n      <td>Valid</td>\n      <td>H5</td>\n      <td>30000.0</td>\n      <td>Fell</td>\n      <td>1814.0</td>\n      <td>44.217</td>\n      <td>0.617</td>\n      <td>(44.216670, 0.616670)</td>\n    </tr>\n    <tr>\n      <th>11</th>\n      <td>Aïr</td>\n      <td>424</td>\n      <td>Valid</td>\n      <td>L6</td>\n      <td>24000.0</td>\n      <td>Fell</td>\n      <td>1925.0</td>\n      <td>19.083</td>\n      <td>8.383</td>\n      <td>(19.083330, 8.383330)</td>\n    </tr>\n    <tr>\n      <th>16</th>\n      <td>Akyumak</td>\n      <td>433</td>\n      <td>Valid</td>\n      <td>Iron, IVA</td>\n      <td>50000.0</td>\n      <td>Fell</td>\n      <td>1981.0</td>\n      <td>39.917</td>\n      <td>42.817</td>\n      <td>(39.916670, 42.816670)</td>\n    </tr>\n    <tr>\n      <th>27</th>\n      <td>Alfianello</td>\n      <td>466</td>\n      <td>Valid</td>\n      <td>L6</td>\n      <td>228000.0</td>\n      <td>Fell</td>\n      <td>1883.0</td>\n      <td>45.267</td>\n      <td>10.150</td>\n      <td>(45.266670, 10.150000)</td>\n    </tr>\n    <tr>\n      <th>...</th>\n      <td>...</td>\n      <td>...</td>\n      <td>...</td>\n      <td>...</td>\n      <td>...</td>\n      <td>...</td>\n      <td>...</td>\n      <td>...</td>\n      <td>...</td>\n      <td>...</td>\n    </tr>\n    <tr>\n      <th>1096</th>\n      <td>Zaoyang</td>\n      <td>30391</td>\n      <td>Valid</td>\n      <td>H5</td>\n      <td>14250.0</td>\n      <td>Fell</td>\n      <td>1984.0</td>\n      <td>32.300</td>\n      <td>112.750</td>\n      <td>(32.300000, 112.750000)</td>\n    </tr>\n    <tr>\n      <th>1098</th>\n      <td>Zavid</td>\n      <td>30396</td>\n      <td>Valid</td>\n      <td>L6</td>\n      <td>95000.0</td>\n      <td>Fell</td>\n      <td>1897.0</td>\n      <td>44.400</td>\n      <td>19.117</td>\n      <td>(44.400000, 19.116670)</td>\n    </tr>\n    <tr>\n      <th>1100</th>\n      <td>Zemaitkiemis</td>\n      <td>30399</td>\n      <td>Valid</td>\n      <td>L6</td>\n      <td>44100.0</td>\n      <td>Fell</td>\n      <td>1933.0</td>\n      <td>55.300</td>\n      <td>25.000</td>\n      <td>(55.300000, 25.000000)</td>\n    </tr>\n    <tr>\n      <th>1101</th>\n      <td>Zhaodong</td>\n      <td>30404</td>\n      <td>Valid</td>\n      <td>L4</td>\n      <td>42000.0</td>\n      <td>Fell</td>\n      <td>1984.0</td>\n      <td>45.817</td>\n      <td>125.917</td>\n      <td>(45.816670, 125.916670)</td>\n    </tr>\n    <tr>\n      <th>1102</th>\n      <td>Zhovtnevyi</td>\n      <td>30407</td>\n      <td>Valid</td>\n      <td>H6</td>\n      <td>107000.0</td>\n      <td>Fell</td>\n      <td>1938.0</td>\n      <td>47.583</td>\n      <td>37.250</td>\n      <td>(47.583330, 37.250000)</td>\n    </tr>\n  </tbody>\n</table>\n<p>242 rows × 10 columns</p>\n</div>"
     },
     "execution_count": 159,
     "metadata": {},
     "output_type": "execute_result"
    }
   ],
   "source": [
    "# объединение 2-х предыдущих условий\n",
    "meteorite_landings.loc[(meteorite_landings['fall'] == 'Fell') & (meteorite_landings['mass'] > mean_mass)]"
   ],
   "metadata": {
    "collapsed": false,
    "pycharm": {
     "name": "#%%\n"
    }
   }
  },
  {
   "cell_type": "code",
   "execution_count": 160,
   "outputs": [],
   "source": [
    "students_performance = pd.read_csv('D:\\Home tasks\\Datasets\\StudentsPerformance.csv')"
   ],
   "metadata": {
    "collapsed": false,
    "pycharm": {
     "name": "#%%\n"
    }
   }
  },
  {
   "cell_type": "code",
   "execution_count": 161,
   "outputs": [
    {
     "data": {
      "text/plain": "     gender race/ethnicity parental_level_of_education         lunch  \\\n0    female        group B           bachelor's degree      standard   \n1    female        group C                some college      standard   \n2    female        group B             master's degree      standard   \n3      male        group A          associate's degree  free/reduced   \n4      male        group C                some college      standard   \n..      ...            ...                         ...           ...   \n995  female        group E             master's degree      standard   \n996    male        group C                 high school  free/reduced   \n997  female        group C                 high school  free/reduced   \n998  female        group D                some college      standard   \n999  female        group D                some college  free/reduced   \n\n    test_preparation_course  math_score  reading_score  writing_score  \n0                      none          72             72             74  \n1                 completed          69             90             88  \n2                      none          90             95             93  \n3                      none          47             57             44  \n4                      none          76             78             75  \n..                      ...         ...            ...            ...  \n995               completed          88             99             95  \n996                    none          62             55             55  \n997               completed          59             71             65  \n998               completed          68             78             77  \n999                    none          77             86             86  \n\n[1000 rows x 8 columns]",
      "text/html": "<div>\n<style scoped>\n    .dataframe tbody tr th:only-of-type {\n        vertical-align: middle;\n    }\n\n    .dataframe tbody tr th {\n        vertical-align: top;\n    }\n\n    .dataframe thead th {\n        text-align: right;\n    }\n</style>\n<table border=\"1\" class=\"dataframe\">\n  <thead>\n    <tr style=\"text-align: right;\">\n      <th></th>\n      <th>gender</th>\n      <th>race/ethnicity</th>\n      <th>parental_level_of_education</th>\n      <th>lunch</th>\n      <th>test_preparation_course</th>\n      <th>math_score</th>\n      <th>reading_score</th>\n      <th>writing_score</th>\n    </tr>\n  </thead>\n  <tbody>\n    <tr>\n      <th>0</th>\n      <td>female</td>\n      <td>group B</td>\n      <td>bachelor's degree</td>\n      <td>standard</td>\n      <td>none</td>\n      <td>72</td>\n      <td>72</td>\n      <td>74</td>\n    </tr>\n    <tr>\n      <th>1</th>\n      <td>female</td>\n      <td>group C</td>\n      <td>some college</td>\n      <td>standard</td>\n      <td>completed</td>\n      <td>69</td>\n      <td>90</td>\n      <td>88</td>\n    </tr>\n    <tr>\n      <th>2</th>\n      <td>female</td>\n      <td>group B</td>\n      <td>master's degree</td>\n      <td>standard</td>\n      <td>none</td>\n      <td>90</td>\n      <td>95</td>\n      <td>93</td>\n    </tr>\n    <tr>\n      <th>3</th>\n      <td>male</td>\n      <td>group A</td>\n      <td>associate's degree</td>\n      <td>free/reduced</td>\n      <td>none</td>\n      <td>47</td>\n      <td>57</td>\n      <td>44</td>\n    </tr>\n    <tr>\n      <th>4</th>\n      <td>male</td>\n      <td>group C</td>\n      <td>some college</td>\n      <td>standard</td>\n      <td>none</td>\n      <td>76</td>\n      <td>78</td>\n      <td>75</td>\n    </tr>\n    <tr>\n      <th>...</th>\n      <td>...</td>\n      <td>...</td>\n      <td>...</td>\n      <td>...</td>\n      <td>...</td>\n      <td>...</td>\n      <td>...</td>\n      <td>...</td>\n    </tr>\n    <tr>\n      <th>995</th>\n      <td>female</td>\n      <td>group E</td>\n      <td>master's degree</td>\n      <td>standard</td>\n      <td>completed</td>\n      <td>88</td>\n      <td>99</td>\n      <td>95</td>\n    </tr>\n    <tr>\n      <th>996</th>\n      <td>male</td>\n      <td>group C</td>\n      <td>high school</td>\n      <td>free/reduced</td>\n      <td>none</td>\n      <td>62</td>\n      <td>55</td>\n      <td>55</td>\n    </tr>\n    <tr>\n      <th>997</th>\n      <td>female</td>\n      <td>group C</td>\n      <td>high school</td>\n      <td>free/reduced</td>\n      <td>completed</td>\n      <td>59</td>\n      <td>71</td>\n      <td>65</td>\n    </tr>\n    <tr>\n      <th>998</th>\n      <td>female</td>\n      <td>group D</td>\n      <td>some college</td>\n      <td>standard</td>\n      <td>completed</td>\n      <td>68</td>\n      <td>78</td>\n      <td>77</td>\n    </tr>\n    <tr>\n      <th>999</th>\n      <td>female</td>\n      <td>group D</td>\n      <td>some college</td>\n      <td>free/reduced</td>\n      <td>none</td>\n      <td>77</td>\n      <td>86</td>\n      <td>86</td>\n    </tr>\n  </tbody>\n</table>\n<p>1000 rows × 8 columns</p>\n</div>"
     },
     "execution_count": 161,
     "metadata": {},
     "output_type": "execute_result"
    }
   ],
   "source": [
    "# переименование колонок\n",
    "students_performance = students_performance\\\n",
    "                                    .rename(columns=\n",
    "                                            {'parental level of education': 'parental_level_of_education',\n",
    "                                            'test preparation course': 'test_preparation_course',\n",
    "                                            'math score': 'math_score',\n",
    "                                            'reading score': 'reading_score',\n",
    "                                            'writing score': 'writing_score'})\n",
    "# students_performance = students_performance.rename(\n",
    "#     columns={column: column.replace(\" \", \"_\") for column in students_performance.columns}\n",
    "# )\n",
    "# students_performance.columns = [x.replace(\" \", \"_\") for x in students_performance.columns]\n",
    "students_performance"
   ],
   "metadata": {
    "collapsed": false,
    "pycharm": {
     "name": "#%%\n"
    }
   }
  },
  {
   "cell_type": "code",
   "execution_count": 162,
   "outputs": [
    {
     "data": {
      "text/plain": "     gender race/ethnicity parental_level_of_education         lunch  \\\n2    female        group B             master's degree      standard   \n6    female        group B                some college      standard   \n38   female        group D          associate's degree  free/reduced   \n56   female        group E          associate's degree      standard   \n86   female        group C                some college  free/reduced   \n..      ...            ...                         ...           ...   \n970  female        group D           bachelor's degree      standard   \n979  female        group C          associate's degree      standard   \n983  female        group A                some college      standard   \n995  female        group E             master's degree      standard   \n999  female        group D                some college  free/reduced   \n\n    test_preparation_course  math_score  reading_score  writing_score  \n2                      none          90             95             93  \n6                 completed          88             95             92  \n38                completed          75             90             88  \n56                completed          82             85             86  \n86                     none          76             83             88  \n..                      ...         ...            ...            ...  \n970                    none          89            100            100  \n979                    none          91             95             94  \n983               completed          78             87             91  \n995               completed          88             99             95  \n999                    none          77             86             86  \n\n[122 rows x 8 columns]",
      "text/html": "<div>\n<style scoped>\n    .dataframe tbody tr th:only-of-type {\n        vertical-align: middle;\n    }\n\n    .dataframe tbody tr th {\n        vertical-align: top;\n    }\n\n    .dataframe thead th {\n        text-align: right;\n    }\n</style>\n<table border=\"1\" class=\"dataframe\">\n  <thead>\n    <tr style=\"text-align: right;\">\n      <th></th>\n      <th>gender</th>\n      <th>race/ethnicity</th>\n      <th>parental_level_of_education</th>\n      <th>lunch</th>\n      <th>test_preparation_course</th>\n      <th>math_score</th>\n      <th>reading_score</th>\n      <th>writing_score</th>\n    </tr>\n  </thead>\n  <tbody>\n    <tr>\n      <th>2</th>\n      <td>female</td>\n      <td>group B</td>\n      <td>master's degree</td>\n      <td>standard</td>\n      <td>none</td>\n      <td>90</td>\n      <td>95</td>\n      <td>93</td>\n    </tr>\n    <tr>\n      <th>6</th>\n      <td>female</td>\n      <td>group B</td>\n      <td>some college</td>\n      <td>standard</td>\n      <td>completed</td>\n      <td>88</td>\n      <td>95</td>\n      <td>92</td>\n    </tr>\n    <tr>\n      <th>38</th>\n      <td>female</td>\n      <td>group D</td>\n      <td>associate's degree</td>\n      <td>free/reduced</td>\n      <td>completed</td>\n      <td>75</td>\n      <td>90</td>\n      <td>88</td>\n    </tr>\n    <tr>\n      <th>56</th>\n      <td>female</td>\n      <td>group E</td>\n      <td>associate's degree</td>\n      <td>standard</td>\n      <td>completed</td>\n      <td>82</td>\n      <td>85</td>\n      <td>86</td>\n    </tr>\n    <tr>\n      <th>86</th>\n      <td>female</td>\n      <td>group C</td>\n      <td>some college</td>\n      <td>free/reduced</td>\n      <td>none</td>\n      <td>76</td>\n      <td>83</td>\n      <td>88</td>\n    </tr>\n    <tr>\n      <th>...</th>\n      <td>...</td>\n      <td>...</td>\n      <td>...</td>\n      <td>...</td>\n      <td>...</td>\n      <td>...</td>\n      <td>...</td>\n      <td>...</td>\n    </tr>\n    <tr>\n      <th>970</th>\n      <td>female</td>\n      <td>group D</td>\n      <td>bachelor's degree</td>\n      <td>standard</td>\n      <td>none</td>\n      <td>89</td>\n      <td>100</td>\n      <td>100</td>\n    </tr>\n    <tr>\n      <th>979</th>\n      <td>female</td>\n      <td>group C</td>\n      <td>associate's degree</td>\n      <td>standard</td>\n      <td>none</td>\n      <td>91</td>\n      <td>95</td>\n      <td>94</td>\n    </tr>\n    <tr>\n      <th>983</th>\n      <td>female</td>\n      <td>group A</td>\n      <td>some college</td>\n      <td>standard</td>\n      <td>completed</td>\n      <td>78</td>\n      <td>87</td>\n      <td>91</td>\n    </tr>\n    <tr>\n      <th>995</th>\n      <td>female</td>\n      <td>group E</td>\n      <td>master's degree</td>\n      <td>standard</td>\n      <td>completed</td>\n      <td>88</td>\n      <td>99</td>\n      <td>95</td>\n    </tr>\n    <tr>\n      <th>999</th>\n      <td>female</td>\n      <td>group D</td>\n      <td>some college</td>\n      <td>free/reduced</td>\n      <td>none</td>\n      <td>77</td>\n      <td>86</td>\n      <td>86</td>\n    </tr>\n  </tbody>\n</table>\n<p>122 rows × 8 columns</p>\n</div>"
     },
     "execution_count": 162,
     "metadata": {},
     "output_type": "execute_result"
    }
   ],
   "source": [
    "# query() - запрос на данные, принимает строку в кавычках (можно исп. операнды внутри строки для объединения условий)\n",
    "# students.performance.query('math_score > 74')\n",
    "# students_performance.query(\"gender == 'female'\") # двойные кавычки!!!\n",
    "students_performance.query(\"gender == 'female' & math_score > 74\") # комбинация"
   ],
   "metadata": {
    "collapsed": false,
    "pycharm": {
     "name": "#%%\n"
    }
   }
  },
  {
   "cell_type": "code",
   "execution_count": 163,
   "outputs": [
    {
     "data": {
      "text/plain": "     gender race/ethnicity parental_level_of_education         lunch  \\\n2    female        group B             master's degree      standard   \n6    female        group B                some college      standard   \n16     male        group C                 high school      standard   \n34     male        group E                some college      standard   \n35     male        group E          associate's degree      standard   \n..      ...            ...                         ...           ...   \n979  female        group C          associate's degree      standard   \n981    male        group D            some high school      standard   \n987    male        group E            some high school      standard   \n990    male        group E                 high school  free/reduced   \n995  female        group E             master's degree      standard   \n\n    test_preparation_course  math_score  reading_score  writing_score  \n2                      none          90             95             93  \n6                 completed          88             95             92  \n16                     none          88             89             86  \n34                     none          97             87             82  \n35                completed          81             81             79  \n..                      ...         ...            ...            ...  \n979                    none          91             95             94  \n981                    none          81             78             78  \n987               completed          81             75             76  \n990               completed          86             81             75  \n995               completed          88             99             95  \n\n[176 rows x 8 columns]",
      "text/html": "<div>\n<style scoped>\n    .dataframe tbody tr th:only-of-type {\n        vertical-align: middle;\n    }\n\n    .dataframe tbody tr th {\n        vertical-align: top;\n    }\n\n    .dataframe thead th {\n        text-align: right;\n    }\n</style>\n<table border=\"1\" class=\"dataframe\">\n  <thead>\n    <tr style=\"text-align: right;\">\n      <th></th>\n      <th>gender</th>\n      <th>race/ethnicity</th>\n      <th>parental_level_of_education</th>\n      <th>lunch</th>\n      <th>test_preparation_course</th>\n      <th>math_score</th>\n      <th>reading_score</th>\n      <th>writing_score</th>\n    </tr>\n  </thead>\n  <tbody>\n    <tr>\n      <th>2</th>\n      <td>female</td>\n      <td>group B</td>\n      <td>master's degree</td>\n      <td>standard</td>\n      <td>none</td>\n      <td>90</td>\n      <td>95</td>\n      <td>93</td>\n    </tr>\n    <tr>\n      <th>6</th>\n      <td>female</td>\n      <td>group B</td>\n      <td>some college</td>\n      <td>standard</td>\n      <td>completed</td>\n      <td>88</td>\n      <td>95</td>\n      <td>92</td>\n    </tr>\n    <tr>\n      <th>16</th>\n      <td>male</td>\n      <td>group C</td>\n      <td>high school</td>\n      <td>standard</td>\n      <td>none</td>\n      <td>88</td>\n      <td>89</td>\n      <td>86</td>\n    </tr>\n    <tr>\n      <th>34</th>\n      <td>male</td>\n      <td>group E</td>\n      <td>some college</td>\n      <td>standard</td>\n      <td>none</td>\n      <td>97</td>\n      <td>87</td>\n      <td>82</td>\n    </tr>\n    <tr>\n      <th>35</th>\n      <td>male</td>\n      <td>group E</td>\n      <td>associate's degree</td>\n      <td>standard</td>\n      <td>completed</td>\n      <td>81</td>\n      <td>81</td>\n      <td>79</td>\n    </tr>\n    <tr>\n      <th>...</th>\n      <td>...</td>\n      <td>...</td>\n      <td>...</td>\n      <td>...</td>\n      <td>...</td>\n      <td>...</td>\n      <td>...</td>\n      <td>...</td>\n    </tr>\n    <tr>\n      <th>979</th>\n      <td>female</td>\n      <td>group C</td>\n      <td>associate's degree</td>\n      <td>standard</td>\n      <td>none</td>\n      <td>91</td>\n      <td>95</td>\n      <td>94</td>\n    </tr>\n    <tr>\n      <th>981</th>\n      <td>male</td>\n      <td>group D</td>\n      <td>some high school</td>\n      <td>standard</td>\n      <td>none</td>\n      <td>81</td>\n      <td>78</td>\n      <td>78</td>\n    </tr>\n    <tr>\n      <th>987</th>\n      <td>male</td>\n      <td>group E</td>\n      <td>some high school</td>\n      <td>standard</td>\n      <td>completed</td>\n      <td>81</td>\n      <td>75</td>\n      <td>76</td>\n    </tr>\n    <tr>\n      <th>990</th>\n      <td>male</td>\n      <td>group E</td>\n      <td>high school</td>\n      <td>free/reduced</td>\n      <td>completed</td>\n      <td>86</td>\n      <td>81</td>\n      <td>75</td>\n    </tr>\n    <tr>\n      <th>995</th>\n      <td>female</td>\n      <td>group E</td>\n      <td>master's degree</td>\n      <td>standard</td>\n      <td>completed</td>\n      <td>88</td>\n      <td>99</td>\n      <td>95</td>\n    </tr>\n  </tbody>\n</table>\n<p>176 rows × 8 columns</p>\n</div>"
     },
     "execution_count": 163,
     "metadata": {},
     "output_type": "execute_result"
    }
   ],
   "source": [
    "math_score_query = 80\n",
    "students_performance.query('math_score > @math_score_query') # @ обязательна!!!"
   ],
   "metadata": {
    "collapsed": false,
    "pycharm": {
     "name": "#%%\n"
    }
   }
  },
  {
   "cell_type": "code",
   "execution_count": 164,
   "outputs": [
    {
     "data": {
      "text/plain": "     math_score  reading_score  writing_score\n0            72             72             74\n1            69             90             88\n2            90             95             93\n3            47             57             44\n4            76             78             75\n..          ...            ...            ...\n995          88             99             95\n996          62             55             55\n997          59             71             65\n998          68             78             77\n999          77             86             86\n\n[1000 rows x 3 columns]",
      "text/html": "<div>\n<style scoped>\n    .dataframe tbody tr th:only-of-type {\n        vertical-align: middle;\n    }\n\n    .dataframe tbody tr th {\n        vertical-align: top;\n    }\n\n    .dataframe thead th {\n        text-align: right;\n    }\n</style>\n<table border=\"1\" class=\"dataframe\">\n  <thead>\n    <tr style=\"text-align: right;\">\n      <th></th>\n      <th>math_score</th>\n      <th>reading_score</th>\n      <th>writing_score</th>\n    </tr>\n  </thead>\n  <tbody>\n    <tr>\n      <th>0</th>\n      <td>72</td>\n      <td>72</td>\n      <td>74</td>\n    </tr>\n    <tr>\n      <th>1</th>\n      <td>69</td>\n      <td>90</td>\n      <td>88</td>\n    </tr>\n    <tr>\n      <th>2</th>\n      <td>90</td>\n      <td>95</td>\n      <td>93</td>\n    </tr>\n    <tr>\n      <th>3</th>\n      <td>47</td>\n      <td>57</td>\n      <td>44</td>\n    </tr>\n    <tr>\n      <th>4</th>\n      <td>76</td>\n      <td>78</td>\n      <td>75</td>\n    </tr>\n    <tr>\n      <th>...</th>\n      <td>...</td>\n      <td>...</td>\n      <td>...</td>\n    </tr>\n    <tr>\n      <th>995</th>\n      <td>88</td>\n      <td>99</td>\n      <td>95</td>\n    </tr>\n    <tr>\n      <th>996</th>\n      <td>62</td>\n      <td>55</td>\n      <td>55</td>\n    </tr>\n    <tr>\n      <th>997</th>\n      <td>59</td>\n      <td>71</td>\n      <td>65</td>\n    </tr>\n    <tr>\n      <th>998</th>\n      <td>68</td>\n      <td>78</td>\n      <td>77</td>\n    </tr>\n    <tr>\n      <th>999</th>\n      <td>77</td>\n      <td>86</td>\n      <td>86</td>\n    </tr>\n  </tbody>\n</table>\n<p>1000 rows × 3 columns</p>\n</div>"
     },
     "execution_count": 164,
     "metadata": {},
     "output_type": "execute_result"
    }
   ],
   "source": [
    "# отбираем колонки с содержанием 'score' в имени (неправославный метод)\n",
    "score_columns = [i for i in list(students_performance) if 'score' in i]\n",
    "# list(students_performance) - выведет список колонок\n",
    "students_performance[score_columns]"
   ],
   "metadata": {
    "collapsed": false,
    "pycharm": {
     "name": "#%%\n"
    }
   }
  },
  {
   "cell_type": "code",
   "execution_count": 165,
   "outputs": [
    {
     "data": {
      "text/plain": "     math_score  reading_score  writing_score\n0            72             72             74\n1            69             90             88\n2            90             95             93\n3            47             57             44\n4            76             78             75\n..          ...            ...            ...\n995          88             99             95\n996          62             55             55\n997          59             71             65\n998          68             78             77\n999          77             86             86\n\n[1000 rows x 3 columns]",
      "text/html": "<div>\n<style scoped>\n    .dataframe tbody tr th:only-of-type {\n        vertical-align: middle;\n    }\n\n    .dataframe tbody tr th {\n        vertical-align: top;\n    }\n\n    .dataframe thead th {\n        text-align: right;\n    }\n</style>\n<table border=\"1\" class=\"dataframe\">\n  <thead>\n    <tr style=\"text-align: right;\">\n      <th></th>\n      <th>math_score</th>\n      <th>reading_score</th>\n      <th>writing_score</th>\n    </tr>\n  </thead>\n  <tbody>\n    <tr>\n      <th>0</th>\n      <td>72</td>\n      <td>72</td>\n      <td>74</td>\n    </tr>\n    <tr>\n      <th>1</th>\n      <td>69</td>\n      <td>90</td>\n      <td>88</td>\n    </tr>\n    <tr>\n      <th>2</th>\n      <td>90</td>\n      <td>95</td>\n      <td>93</td>\n    </tr>\n    <tr>\n      <th>3</th>\n      <td>47</td>\n      <td>57</td>\n      <td>44</td>\n    </tr>\n    <tr>\n      <th>4</th>\n      <td>76</td>\n      <td>78</td>\n      <td>75</td>\n    </tr>\n    <tr>\n      <th>...</th>\n      <td>...</td>\n      <td>...</td>\n      <td>...</td>\n    </tr>\n    <tr>\n      <th>995</th>\n      <td>88</td>\n      <td>99</td>\n      <td>95</td>\n    </tr>\n    <tr>\n      <th>996</th>\n      <td>62</td>\n      <td>55</td>\n      <td>55</td>\n    </tr>\n    <tr>\n      <th>997</th>\n      <td>59</td>\n      <td>71</td>\n      <td>65</td>\n    </tr>\n    <tr>\n      <th>998</th>\n      <td>68</td>\n      <td>78</td>\n      <td>77</td>\n    </tr>\n    <tr>\n      <th>999</th>\n      <td>77</td>\n      <td>86</td>\n      <td>86</td>\n    </tr>\n  </tbody>\n</table>\n<p>1000 rows × 3 columns</p>\n</div>"
     },
     "execution_count": 165,
     "metadata": {},
     "output_type": "execute_result"
    }
   ],
   "source": [
    "# отбираем колонки с содержанием 'score' в имени (православный метод)\n",
    "students_performance.filter(like='score') # есть параметр axis"
   ],
   "metadata": {
    "collapsed": false,
    "pycharm": {
     "name": "#%%\n"
    }
   }
  },
  {
   "cell_type": "code",
   "execution_count": 166,
   "outputs": [],
   "source": [
    "#ГРУППИРОВКА"
   ],
   "metadata": {
    "collapsed": false,
    "pycharm": {
     "name": "#%%\n"
    }
   }
  },
  {
   "cell_type": "code",
   "execution_count": 167,
   "outputs": [
    {
     "data": {
      "text/plain": "        math_score  reading_score\ngender                           \nfemale      63.633         72.608\nmale        68.728         65.473",
      "text/html": "<div>\n<style scoped>\n    .dataframe tbody tr th:only-of-type {\n        vertical-align: middle;\n    }\n\n    .dataframe tbody tr th {\n        vertical-align: top;\n    }\n\n    .dataframe thead th {\n        text-align: right;\n    }\n</style>\n<table border=\"1\" class=\"dataframe\">\n  <thead>\n    <tr style=\"text-align: right;\">\n      <th></th>\n      <th>math_score</th>\n      <th>reading_score</th>\n    </tr>\n    <tr>\n      <th>gender</th>\n      <th></th>\n      <th></th>\n    </tr>\n  </thead>\n  <tbody>\n    <tr>\n      <th>female</th>\n      <td>63.633</td>\n      <td>72.608</td>\n    </tr>\n    <tr>\n      <th>male</th>\n      <td>68.728</td>\n      <td>65.473</td>\n    </tr>\n  </tbody>\n</table>\n</div>"
     },
     "execution_count": 167,
     "metadata": {},
     "output_type": "execute_result"
    }
   ],
   "source": [
    "#группировка по полу и вывод средних значений по колонкам\n",
    "students_performance.groupby('gender').aggregate({'math_score' : 'mean', 'reading_score' : 'mean'})"
   ],
   "metadata": {
    "collapsed": false,
    "pycharm": {
     "name": "#%%\n"
    }
   }
  },
  {
   "cell_type": "code",
   "execution_count": 168,
   "outputs": [
    {
     "data": {
      "text/plain": "   gender  mean_math_score  mean_reading_score\n0  female           63.633              72.608\n1    male           68.728              65.473",
      "text/html": "<div>\n<style scoped>\n    .dataframe tbody tr th:only-of-type {\n        vertical-align: middle;\n    }\n\n    .dataframe tbody tr th {\n        vertical-align: top;\n    }\n\n    .dataframe thead th {\n        text-align: right;\n    }\n</style>\n<table border=\"1\" class=\"dataframe\">\n  <thead>\n    <tr style=\"text-align: right;\">\n      <th></th>\n      <th>gender</th>\n      <th>mean_math_score</th>\n      <th>mean_reading_score</th>\n    </tr>\n  </thead>\n  <tbody>\n    <tr>\n      <th>0</th>\n      <td>female</td>\n      <td>63.633</td>\n      <td>72.608</td>\n    </tr>\n    <tr>\n      <th>1</th>\n      <td>male</td>\n      <td>68.728</td>\n      <td>65.473</td>\n    </tr>\n  </tbody>\n</table>\n</div>"
     },
     "execution_count": 168,
     "metadata": {},
     "output_type": "execute_result"
    }
   ],
   "source": [
    "#делаем gender колонкой и переименовываем остальные колонки\n",
    "students_performance.groupby('gender', as_index=False) \\\n",
    "    .aggregate({'math_score' : 'mean', 'reading_score' : 'mean'}) \\\n",
    "    .rename(columns = {'math_score' : 'mean_math_score', 'reading_score' : 'mean_reading_score'})"
   ],
   "metadata": {
    "collapsed": false,
    "pycharm": {
     "name": "#%%\n"
    }
   }
  },
  {
   "cell_type": "code",
   "execution_count": 169,
   "outputs": [
    {
     "data": {
      "text/plain": "   gender race/ethnicity  mean_math_score  mean_reading_score\n0  female        group A           58.528              69.000\n1  female        group B           61.404              71.077\n2  female        group C           62.033              71.944\n3  female        group D           65.248              74.047\n4  female        group E           70.812              75.841\n5    male        group A           63.736              61.736\n6    male        group B           65.930              62.849\n7    male        group C           67.612              65.424\n8    male        group D           69.414              66.135\n9    male        group E           76.746              70.296",
      "text/html": "<div>\n<style scoped>\n    .dataframe tbody tr th:only-of-type {\n        vertical-align: middle;\n    }\n\n    .dataframe tbody tr th {\n        vertical-align: top;\n    }\n\n    .dataframe thead th {\n        text-align: right;\n    }\n</style>\n<table border=\"1\" class=\"dataframe\">\n  <thead>\n    <tr style=\"text-align: right;\">\n      <th></th>\n      <th>gender</th>\n      <th>race/ethnicity</th>\n      <th>mean_math_score</th>\n      <th>mean_reading_score</th>\n    </tr>\n  </thead>\n  <tbody>\n    <tr>\n      <th>0</th>\n      <td>female</td>\n      <td>group A</td>\n      <td>58.528</td>\n      <td>69.000</td>\n    </tr>\n    <tr>\n      <th>1</th>\n      <td>female</td>\n      <td>group B</td>\n      <td>61.404</td>\n      <td>71.077</td>\n    </tr>\n    <tr>\n      <th>2</th>\n      <td>female</td>\n      <td>group C</td>\n      <td>62.033</td>\n      <td>71.944</td>\n    </tr>\n    <tr>\n      <th>3</th>\n      <td>female</td>\n      <td>group D</td>\n      <td>65.248</td>\n      <td>74.047</td>\n    </tr>\n    <tr>\n      <th>4</th>\n      <td>female</td>\n      <td>group E</td>\n      <td>70.812</td>\n      <td>75.841</td>\n    </tr>\n    <tr>\n      <th>5</th>\n      <td>male</td>\n      <td>group A</td>\n      <td>63.736</td>\n      <td>61.736</td>\n    </tr>\n    <tr>\n      <th>6</th>\n      <td>male</td>\n      <td>group B</td>\n      <td>65.930</td>\n      <td>62.849</td>\n    </tr>\n    <tr>\n      <th>7</th>\n      <td>male</td>\n      <td>group C</td>\n      <td>67.612</td>\n      <td>65.424</td>\n    </tr>\n    <tr>\n      <th>8</th>\n      <td>male</td>\n      <td>group D</td>\n      <td>69.414</td>\n      <td>66.135</td>\n    </tr>\n    <tr>\n      <th>9</th>\n      <td>male</td>\n      <td>group E</td>\n      <td>76.746</td>\n      <td>70.296</td>\n    </tr>\n  </tbody>\n</table>\n</div>"
     },
     "execution_count": 169,
     "metadata": {},
     "output_type": "execute_result"
    }
   ],
   "source": [
    "# добавляем ещё один критерий для группировки\n",
    "students_performance.groupby(['gender', 'race/ethnicity'], as_index=False) \\\n",
    "    .aggregate({'math_score' : 'mean', 'reading_score' : 'mean'}) \\\n",
    "    .rename(columns = {'math_score' : 'mean_math_score', 'reading_score' : 'mean_reading_score'})"
   ],
   "metadata": {
    "collapsed": false,
    "pycharm": {
     "name": "#%%\n"
    }
   }
  },
  {
   "cell_type": "code",
   "execution_count": 170,
   "outputs": [
    {
     "data": {
      "text/plain": "                       mean_math_score  mean_reading_score\ngender race/ethnicity                                     \nfemale group A                  58.528              69.000\n       group B                  61.404              71.077\n       group C                  62.033              71.944\n       group D                  65.248              74.047\n       group E                  70.812              75.841\nmale   group A                  63.736              61.736\n       group B                  65.930              62.849\n       group C                  67.612              65.424\n       group D                  69.414              66.135\n       group E                  76.746              70.296",
      "text/html": "<div>\n<style scoped>\n    .dataframe tbody tr th:only-of-type {\n        vertical-align: middle;\n    }\n\n    .dataframe tbody tr th {\n        vertical-align: top;\n    }\n\n    .dataframe thead th {\n        text-align: right;\n    }\n</style>\n<table border=\"1\" class=\"dataframe\">\n  <thead>\n    <tr style=\"text-align: right;\">\n      <th></th>\n      <th></th>\n      <th>mean_math_score</th>\n      <th>mean_reading_score</th>\n    </tr>\n    <tr>\n      <th>gender</th>\n      <th>race/ethnicity</th>\n      <th></th>\n      <th></th>\n    </tr>\n  </thead>\n  <tbody>\n    <tr>\n      <th rowspan=\"5\" valign=\"top\">female</th>\n      <th>group A</th>\n      <td>58.528</td>\n      <td>69.000</td>\n    </tr>\n    <tr>\n      <th>group B</th>\n      <td>61.404</td>\n      <td>71.077</td>\n    </tr>\n    <tr>\n      <th>group C</th>\n      <td>62.033</td>\n      <td>71.944</td>\n    </tr>\n    <tr>\n      <th>group D</th>\n      <td>65.248</td>\n      <td>74.047</td>\n    </tr>\n    <tr>\n      <th>group E</th>\n      <td>70.812</td>\n      <td>75.841</td>\n    </tr>\n    <tr>\n      <th rowspan=\"5\" valign=\"top\">male</th>\n      <th>group A</th>\n      <td>63.736</td>\n      <td>61.736</td>\n    </tr>\n    <tr>\n      <th>group B</th>\n      <td>65.930</td>\n      <td>62.849</td>\n    </tr>\n    <tr>\n      <th>group C</th>\n      <td>67.612</td>\n      <td>65.424</td>\n    </tr>\n    <tr>\n      <th>group D</th>\n      <td>69.414</td>\n      <td>66.135</td>\n    </tr>\n    <tr>\n      <th>group E</th>\n      <td>76.746</td>\n      <td>70.296</td>\n    </tr>\n  </tbody>\n</table>\n</div>"
     },
     "execution_count": 170,
     "metadata": {},
     "output_type": "execute_result"
    }
   ],
   "source": [
    "# as_index=True (multiple indexes df)\n",
    "mean_scores = students_performance.groupby(['gender', 'race/ethnicity']) \\\n",
    "    .aggregate({'math_score' : 'mean', 'reading_score' : 'mean'}) \\\n",
    "    .rename(columns = {'math_score' : 'mean_math_score', 'reading_score' : 'mean_reading_score'})\n",
    "mean_scores"
   ],
   "metadata": {
    "collapsed": false,
    "pycharm": {
     "name": "#%%\n"
    }
   }
  },
  {
   "cell_type": "code",
   "execution_count": 171,
   "outputs": [
    {
     "data": {
      "text/plain": "                       mean_math_score  mean_reading_score\ngender race/ethnicity                                     \nfemale group A                  58.528              69.000\nmale   group B                  65.930              62.849",
      "text/html": "<div>\n<style scoped>\n    .dataframe tbody tr th:only-of-type {\n        vertical-align: middle;\n    }\n\n    .dataframe tbody tr th {\n        vertical-align: top;\n    }\n\n    .dataframe thead th {\n        text-align: right;\n    }\n</style>\n<table border=\"1\" class=\"dataframe\">\n  <thead>\n    <tr style=\"text-align: right;\">\n      <th></th>\n      <th></th>\n      <th>mean_math_score</th>\n      <th>mean_reading_score</th>\n    </tr>\n    <tr>\n      <th>gender</th>\n      <th>race/ethnicity</th>\n      <th></th>\n      <th></th>\n    </tr>\n  </thead>\n  <tbody>\n    <tr>\n      <th>female</th>\n      <th>group A</th>\n      <td>58.528</td>\n      <td>69.000</td>\n    </tr>\n    <tr>\n      <th>male</th>\n      <th>group B</th>\n      <td>65.930</td>\n      <td>62.849</td>\n    </tr>\n  </tbody>\n</table>\n</div>"
     },
     "execution_count": 171,
     "metadata": {},
     "output_type": "execute_result"
    }
   ],
   "source": [
    "# если надо работать с multiple indexes\n",
    "mean_scores.loc[[('female', 'group A'), ('male', 'group B')]]"
   ],
   "metadata": {
    "collapsed": false,
    "pycharm": {
     "name": "#%%\n"
    }
   }
  },
  {
   "cell_type": "code",
   "execution_count": 172,
   "outputs": [
    {
     "data": {
      "text/plain": "MultiIndex([('female', 'group A'),\n            ('female', 'group B'),\n            ('female', 'group C'),\n            ('female', 'group D'),\n            ('female', 'group E'),\n            (  'male', 'group A'),\n            (  'male', 'group B'),\n            (  'male', 'group C'),\n            (  'male', 'group D'),\n            (  'male', 'group E')],\n           names=['gender', 'race/ethnicity'])"
     },
     "execution_count": 172,
     "metadata": {},
     "output_type": "execute_result"
    }
   ],
   "source": [
    "mean_scores.index"
   ],
   "metadata": {
    "collapsed": false,
    "pycharm": {
     "name": "#%%\n"
    }
   }
  },
  {
   "cell_type": "code",
   "execution_count": 173,
   "outputs": [
    {
     "data": {
      "text/plain": "     gender race/ethnicity parental_level_of_education         lunch  \\\n149    male        group E          associate's degree  free/reduced   \n623    male        group A                some college      standard   \n625    male        group D                some college      standard   \n916    male        group E           bachelor's degree      standard   \n306    male        group E                some college      standard   \n451  female        group E                some college      standard   \n458  female        group E           bachelor's degree      standard   \n962  female        group E          associate's degree      standard   \n114  female        group E           bachelor's degree      standard   \n263  female        group E                 high school      standard   \n\n    test_preparation_course  math_score  reading_score  writing_score  \n149               completed         100            100             93  \n623               completed         100             96             86  \n625               completed         100             97             99  \n916               completed         100            100            100  \n306               completed          99             87             81  \n451                    none         100             92             97  \n458                    none         100            100            100  \n962                    none         100            100            100  \n114               completed          99            100            100  \n263                    none          99             93             90  ",
      "text/html": "<div>\n<style scoped>\n    .dataframe tbody tr th:only-of-type {\n        vertical-align: middle;\n    }\n\n    .dataframe tbody tr th {\n        vertical-align: top;\n    }\n\n    .dataframe thead th {\n        text-align: right;\n    }\n</style>\n<table border=\"1\" class=\"dataframe\">\n  <thead>\n    <tr style=\"text-align: right;\">\n      <th></th>\n      <th>gender</th>\n      <th>race/ethnicity</th>\n      <th>parental_level_of_education</th>\n      <th>lunch</th>\n      <th>test_preparation_course</th>\n      <th>math_score</th>\n      <th>reading_score</th>\n      <th>writing_score</th>\n    </tr>\n  </thead>\n  <tbody>\n    <tr>\n      <th>149</th>\n      <td>male</td>\n      <td>group E</td>\n      <td>associate's degree</td>\n      <td>free/reduced</td>\n      <td>completed</td>\n      <td>100</td>\n      <td>100</td>\n      <td>93</td>\n    </tr>\n    <tr>\n      <th>623</th>\n      <td>male</td>\n      <td>group A</td>\n      <td>some college</td>\n      <td>standard</td>\n      <td>completed</td>\n      <td>100</td>\n      <td>96</td>\n      <td>86</td>\n    </tr>\n    <tr>\n      <th>625</th>\n      <td>male</td>\n      <td>group D</td>\n      <td>some college</td>\n      <td>standard</td>\n      <td>completed</td>\n      <td>100</td>\n      <td>97</td>\n      <td>99</td>\n    </tr>\n    <tr>\n      <th>916</th>\n      <td>male</td>\n      <td>group E</td>\n      <td>bachelor's degree</td>\n      <td>standard</td>\n      <td>completed</td>\n      <td>100</td>\n      <td>100</td>\n      <td>100</td>\n    </tr>\n    <tr>\n      <th>306</th>\n      <td>male</td>\n      <td>group E</td>\n      <td>some college</td>\n      <td>standard</td>\n      <td>completed</td>\n      <td>99</td>\n      <td>87</td>\n      <td>81</td>\n    </tr>\n    <tr>\n      <th>451</th>\n      <td>female</td>\n      <td>group E</td>\n      <td>some college</td>\n      <td>standard</td>\n      <td>none</td>\n      <td>100</td>\n      <td>92</td>\n      <td>97</td>\n    </tr>\n    <tr>\n      <th>458</th>\n      <td>female</td>\n      <td>group E</td>\n      <td>bachelor's degree</td>\n      <td>standard</td>\n      <td>none</td>\n      <td>100</td>\n      <td>100</td>\n      <td>100</td>\n    </tr>\n    <tr>\n      <th>962</th>\n      <td>female</td>\n      <td>group E</td>\n      <td>associate's degree</td>\n      <td>standard</td>\n      <td>none</td>\n      <td>100</td>\n      <td>100</td>\n      <td>100</td>\n    </tr>\n    <tr>\n      <th>114</th>\n      <td>female</td>\n      <td>group E</td>\n      <td>bachelor's degree</td>\n      <td>standard</td>\n      <td>completed</td>\n      <td>99</td>\n      <td>100</td>\n      <td>100</td>\n    </tr>\n    <tr>\n      <th>263</th>\n      <td>female</td>\n      <td>group E</td>\n      <td>high school</td>\n      <td>standard</td>\n      <td>none</td>\n      <td>99</td>\n      <td>93</td>\n      <td>90</td>\n    </tr>\n  </tbody>\n</table>\n</div>"
     },
     "execution_count": 173,
     "metadata": {},
     "output_type": "execute_result"
    }
   ],
   "source": [
    "# вывод топ-5 математиков по полу\n",
    "students_performance.sort_values(['gender', 'math_score'], ascending=False) \\\n",
    "    .groupby('gender').head()"
   ],
   "metadata": {
    "collapsed": false,
    "pycharm": {
     "name": "#%%\n"
    }
   }
  },
  {
   "cell_type": "code",
   "execution_count": 174,
   "outputs": [
    {
     "data": {
      "text/plain": "gender\nfemale    518\nmale      482\ndtype: int64"
     },
     "execution_count": 174,
     "metadata": {},
     "output_type": "execute_result"
    }
   ],
   "source": [
    "# считаем кол-во девочек и мальчиков\n",
    "students_performance.value_counts('gender').groupby('gender').head()"
   ],
   "metadata": {
    "collapsed": false,
    "pycharm": {
     "name": "#%%\n"
    }
   }
  },
  {
   "cell_type": "code",
   "execution_count": 175,
   "outputs": [
    {
     "data": {
      "text/plain": "                     lunch\ngender lunch              \nfemale free/reduced    189\n       standard        329\nmale   free/reduced    166\n       standard        316",
      "text/html": "<div>\n<style scoped>\n    .dataframe tbody tr th:only-of-type {\n        vertical-align: middle;\n    }\n\n    .dataframe tbody tr th {\n        vertical-align: top;\n    }\n\n    .dataframe thead th {\n        text-align: right;\n    }\n</style>\n<table border=\"1\" class=\"dataframe\">\n  <thead>\n    <tr style=\"text-align: right;\">\n      <th></th>\n      <th></th>\n      <th>lunch</th>\n    </tr>\n    <tr>\n      <th>gender</th>\n      <th>lunch</th>\n      <th></th>\n    </tr>\n  </thead>\n  <tbody>\n    <tr>\n      <th rowspan=\"2\" valign=\"top\">female</th>\n      <th>free/reduced</th>\n      <td>189</td>\n    </tr>\n    <tr>\n      <th>standard</th>\n      <td>329</td>\n    </tr>\n    <tr>\n      <th rowspan=\"2\" valign=\"top\">male</th>\n      <th>free/reduced</th>\n      <td>166</td>\n    </tr>\n    <tr>\n      <th>standard</th>\n      <td>316</td>\n    </tr>\n  </tbody>\n</table>\n</div>"
     },
     "execution_count": 175,
     "metadata": {},
     "output_type": "execute_result"
    }
   ],
   "source": [
    "# также считаем кол-во девочек и мальчиков по типу обедов\n",
    "students_performance.groupby(['gender', 'lunch']).agg({'lunch' : 'count'})"
   ],
   "metadata": {
    "collapsed": false,
    "pycharm": {
     "name": "#%%\n"
    }
   }
  },
  {
   "cell_type": "code",
   "execution_count": 177,
   "outputs": [
    {
     "data": {
      "text/plain": "     gender race/ethnicity parental_level_of_education         lunch  \\\n0    female        group B           bachelor's degree      standard   \n1    female        group C                some college      standard   \n2    female        group B             master's degree      standard   \n3      male        group A          associate's degree  free/reduced   \n4      male        group C                some college      standard   \n..      ...            ...                         ...           ...   \n995  female        group E             master's degree      standard   \n996    male        group C                 high school  free/reduced   \n997  female        group C                 high school  free/reduced   \n998  female        group D                some college      standard   \n999  female        group D                some college  free/reduced   \n\n    test_preparation_course  math_score  reading_score  writing_score  \n0                      none           0             72             74  \n1                 completed           0             90             88  \n2                      none          90             95             93  \n3                      none           0             57             44  \n4                      none           0             78             75  \n..                      ...         ...            ...            ...  \n995               completed          88             99             95  \n996                    none           0             55             55  \n997               completed           0             71             65  \n998               completed           0             78             77  \n999                    none           0             86             86  \n\n[1000 rows x 8 columns]",
      "text/html": "<div>\n<style scoped>\n    .dataframe tbody tr th:only-of-type {\n        vertical-align: middle;\n    }\n\n    .dataframe tbody tr th {\n        vertical-align: top;\n    }\n\n    .dataframe thead th {\n        text-align: right;\n    }\n</style>\n<table border=\"1\" class=\"dataframe\">\n  <thead>\n    <tr style=\"text-align: right;\">\n      <th></th>\n      <th>gender</th>\n      <th>race/ethnicity</th>\n      <th>parental_level_of_education</th>\n      <th>lunch</th>\n      <th>test_preparation_course</th>\n      <th>math_score</th>\n      <th>reading_score</th>\n      <th>writing_score</th>\n    </tr>\n  </thead>\n  <tbody>\n    <tr>\n      <th>0</th>\n      <td>female</td>\n      <td>group B</td>\n      <td>bachelor's degree</td>\n      <td>standard</td>\n      <td>none</td>\n      <td>0</td>\n      <td>72</td>\n      <td>74</td>\n    </tr>\n    <tr>\n      <th>1</th>\n      <td>female</td>\n      <td>group C</td>\n      <td>some college</td>\n      <td>standard</td>\n      <td>completed</td>\n      <td>0</td>\n      <td>90</td>\n      <td>88</td>\n    </tr>\n    <tr>\n      <th>2</th>\n      <td>female</td>\n      <td>group B</td>\n      <td>master's degree</td>\n      <td>standard</td>\n      <td>none</td>\n      <td>90</td>\n      <td>95</td>\n      <td>93</td>\n    </tr>\n    <tr>\n      <th>3</th>\n      <td>male</td>\n      <td>group A</td>\n      <td>associate's degree</td>\n      <td>free/reduced</td>\n      <td>none</td>\n      <td>0</td>\n      <td>57</td>\n      <td>44</td>\n    </tr>\n    <tr>\n      <th>4</th>\n      <td>male</td>\n      <td>group C</td>\n      <td>some college</td>\n      <td>standard</td>\n      <td>none</td>\n      <td>0</td>\n      <td>78</td>\n      <td>75</td>\n    </tr>\n    <tr>\n      <th>...</th>\n      <td>...</td>\n      <td>...</td>\n      <td>...</td>\n      <td>...</td>\n      <td>...</td>\n      <td>...</td>\n      <td>...</td>\n      <td>...</td>\n    </tr>\n    <tr>\n      <th>995</th>\n      <td>female</td>\n      <td>group E</td>\n      <td>master's degree</td>\n      <td>standard</td>\n      <td>completed</td>\n      <td>88</td>\n      <td>99</td>\n      <td>95</td>\n    </tr>\n    <tr>\n      <th>996</th>\n      <td>male</td>\n      <td>group C</td>\n      <td>high school</td>\n      <td>free/reduced</td>\n      <td>none</td>\n      <td>0</td>\n      <td>55</td>\n      <td>55</td>\n    </tr>\n    <tr>\n      <th>997</th>\n      <td>female</td>\n      <td>group C</td>\n      <td>high school</td>\n      <td>free/reduced</td>\n      <td>completed</td>\n      <td>0</td>\n      <td>71</td>\n      <td>65</td>\n    </tr>\n    <tr>\n      <th>998</th>\n      <td>female</td>\n      <td>group D</td>\n      <td>some college</td>\n      <td>standard</td>\n      <td>completed</td>\n      <td>0</td>\n      <td>78</td>\n      <td>77</td>\n    </tr>\n    <tr>\n      <th>999</th>\n      <td>female</td>\n      <td>group D</td>\n      <td>some college</td>\n      <td>free/reduced</td>\n      <td>none</td>\n      <td>0</td>\n      <td>86</td>\n      <td>86</td>\n    </tr>\n  </tbody>\n</table>\n<p>1000 rows × 8 columns</p>\n</div>"
     },
     "execution_count": 177,
     "metadata": {},
     "output_type": "execute_result"
    }
   ],
   "source": [
    "#замена оценок math_score ниже 80 на 0\n",
    "students_performance.loc[students_performance['math_score'] < 80, 'math_score'] = 0\n",
    "students_performance\n",
    "# изменяет исходный фрейм!!!"
   ],
   "metadata": {
    "collapsed": false,
    "pycharm": {
     "name": "#%%\n"
    }
   }
  },
  {
   "cell_type": "code",
   "execution_count": 3,
   "outputs": [
    {
     "data": {
      "text/plain": "   step_id   timestamp      action  user_id                date\n0    32815  1434340848      viewed    17632 2015-06-15 04:00:48\n1    32815  1434340848      passed    17632 2015-06-15 04:00:48\n2    32815  1434340848  discovered    17632 2015-06-15 04:00:48\n3    32811  1434340895  discovered    17632 2015-06-15 04:01:35\n4    32811  1434340895      viewed    17632 2015-06-15 04:01:35",
      "text/html": "<div>\n<style scoped>\n    .dataframe tbody tr th:only-of-type {\n        vertical-align: middle;\n    }\n\n    .dataframe tbody tr th {\n        vertical-align: top;\n    }\n\n    .dataframe thead th {\n        text-align: right;\n    }\n</style>\n<table border=\"1\" class=\"dataframe\">\n  <thead>\n    <tr style=\"text-align: right;\">\n      <th></th>\n      <th>step_id</th>\n      <th>timestamp</th>\n      <th>action</th>\n      <th>user_id</th>\n      <th>date</th>\n    </tr>\n  </thead>\n  <tbody>\n    <tr>\n      <th>0</th>\n      <td>32815</td>\n      <td>1434340848</td>\n      <td>viewed</td>\n      <td>17632</td>\n      <td>2015-06-15 04:00:48</td>\n    </tr>\n    <tr>\n      <th>1</th>\n      <td>32815</td>\n      <td>1434340848</td>\n      <td>passed</td>\n      <td>17632</td>\n      <td>2015-06-15 04:00:48</td>\n    </tr>\n    <tr>\n      <th>2</th>\n      <td>32815</td>\n      <td>1434340848</td>\n      <td>discovered</td>\n      <td>17632</td>\n      <td>2015-06-15 04:00:48</td>\n    </tr>\n    <tr>\n      <th>3</th>\n      <td>32811</td>\n      <td>1434340895</td>\n      <td>discovered</td>\n      <td>17632</td>\n      <td>2015-06-15 04:01:35</td>\n    </tr>\n    <tr>\n      <th>4</th>\n      <td>32811</td>\n      <td>1434340895</td>\n      <td>viewed</td>\n      <td>17632</td>\n      <td>2015-06-15 04:01:35</td>\n    </tr>\n  </tbody>\n</table>\n</div>"
     },
     "execution_count": 3,
     "metadata": {},
     "output_type": "execute_result"
    }
   ],
   "source": [
    "events_data = pd.read_csv('D:\\Home tasks\\Datasets\\event_data_train.csv')\n",
    "events_data.head(15)\n",
    "\n",
    "events_data.action.unique()\n",
    "\n",
    "# to_datetime - переводит данные в формат даты и времени (в данном случае из секунд в дату)\n",
    "events_data['date'] = pd.to_datetime(events_data['timestamp'], unit='s')\n",
    "events_data.head()\n",
    "#pd.get_dummies() - разбивает колонку на 0 и 1 по принадлежности (one-hot coding)"
   ],
   "metadata": {
    "collapsed": false,
    "pycharm": {
     "name": "#%%\n"
    }
   }
  },
  {
   "cell_type": "code",
   "execution_count": 4,
   "outputs": [
    {
     "data": {
      "text/plain": "   step_id   timestamp      action  user_id                date         day\n0    32815  1434340848      viewed    17632 2015-06-15 04:00:48  2015-06-15\n1    32815  1434340848      passed    17632 2015-06-15 04:00:48  2015-06-15\n2    32815  1434340848  discovered    17632 2015-06-15 04:00:48  2015-06-15\n3    32811  1434340895  discovered    17632 2015-06-15 04:01:35  2015-06-15\n4    32811  1434340895      viewed    17632 2015-06-15 04:01:35  2015-06-15",
      "text/html": "<div>\n<style scoped>\n    .dataframe tbody tr th:only-of-type {\n        vertical-align: middle;\n    }\n\n    .dataframe tbody tr th {\n        vertical-align: top;\n    }\n\n    .dataframe thead th {\n        text-align: right;\n    }\n</style>\n<table border=\"1\" class=\"dataframe\">\n  <thead>\n    <tr style=\"text-align: right;\">\n      <th></th>\n      <th>step_id</th>\n      <th>timestamp</th>\n      <th>action</th>\n      <th>user_id</th>\n      <th>date</th>\n      <th>day</th>\n    </tr>\n  </thead>\n  <tbody>\n    <tr>\n      <th>0</th>\n      <td>32815</td>\n      <td>1434340848</td>\n      <td>viewed</td>\n      <td>17632</td>\n      <td>2015-06-15 04:00:48</td>\n      <td>2015-06-15</td>\n    </tr>\n    <tr>\n      <th>1</th>\n      <td>32815</td>\n      <td>1434340848</td>\n      <td>passed</td>\n      <td>17632</td>\n      <td>2015-06-15 04:00:48</td>\n      <td>2015-06-15</td>\n    </tr>\n    <tr>\n      <th>2</th>\n      <td>32815</td>\n      <td>1434340848</td>\n      <td>discovered</td>\n      <td>17632</td>\n      <td>2015-06-15 04:00:48</td>\n      <td>2015-06-15</td>\n    </tr>\n    <tr>\n      <th>3</th>\n      <td>32811</td>\n      <td>1434340895</td>\n      <td>discovered</td>\n      <td>17632</td>\n      <td>2015-06-15 04:01:35</td>\n      <td>2015-06-15</td>\n    </tr>\n    <tr>\n      <th>4</th>\n      <td>32811</td>\n      <td>1434340895</td>\n      <td>viewed</td>\n      <td>17632</td>\n      <td>2015-06-15 04:01:35</td>\n      <td>2015-06-15</td>\n    </tr>\n  </tbody>\n</table>\n</div>"
     },
     "execution_count": 4,
     "metadata": {},
     "output_type": "execute_result"
    }
   ],
   "source": [
    "# оставляем только дату\n",
    "events_data['day'] = events_data.date.dt.date\n",
    "events_data.head()"
   ],
   "metadata": {
    "collapsed": false,
    "pycharm": {
     "name": "#%%\n"
    }
   }
  },
  {
   "cell_type": "code",
   "execution_count": 5,
   "outputs": [
    {
     "data": {
      "text/plain": "action  user_id  discovered  passed  started_attempt  viewed\n0             1           1       0                0       1\n1             2           9       9                2      10\n2             3          91      87               30     192\n3             5          11      11                4      12\n4             7           1       1                0       1",
      "text/html": "<div>\n<style scoped>\n    .dataframe tbody tr th:only-of-type {\n        vertical-align: middle;\n    }\n\n    .dataframe tbody tr th {\n        vertical-align: top;\n    }\n\n    .dataframe thead th {\n        text-align: right;\n    }\n</style>\n<table border=\"1\" class=\"dataframe\">\n  <thead>\n    <tr style=\"text-align: right;\">\n      <th>action</th>\n      <th>user_id</th>\n      <th>discovered</th>\n      <th>passed</th>\n      <th>started_attempt</th>\n      <th>viewed</th>\n    </tr>\n  </thead>\n  <tbody>\n    <tr>\n      <th>0</th>\n      <td>1</td>\n      <td>1</td>\n      <td>0</td>\n      <td>0</td>\n      <td>1</td>\n    </tr>\n    <tr>\n      <th>1</th>\n      <td>2</td>\n      <td>9</td>\n      <td>9</td>\n      <td>2</td>\n      <td>10</td>\n    </tr>\n    <tr>\n      <th>2</th>\n      <td>3</td>\n      <td>91</td>\n      <td>87</td>\n      <td>30</td>\n      <td>192</td>\n    </tr>\n    <tr>\n      <th>3</th>\n      <td>5</td>\n      <td>11</td>\n      <td>11</td>\n      <td>4</td>\n      <td>12</td>\n    </tr>\n    <tr>\n      <th>4</th>\n      <td>7</td>\n      <td>1</td>\n      <td>1</td>\n      <td>0</td>\n      <td>1</td>\n    </tr>\n  </tbody>\n</table>\n</div>"
     },
     "execution_count": 5,
     "metadata": {},
     "output_type": "execute_result"
    }
   ],
   "source": [
    "# мульти - индекс таблица\n",
    "pt = events_data.pivot_table(index='user_id',\n",
    "                        columns='action',\n",
    "                        values='step_id',\n",
    "                        aggfunc='count',\n",
    "                        fill_value=0).reset_index()\n",
    "pt.head()"
   ],
   "metadata": {
    "collapsed": false,
    "pycharm": {
     "name": "#%%\n"
    }
   }
  },
  {
   "cell_type": "code",
   "execution_count": null,
   "outputs": [],
   "source": [
    "#rolling\n",
    "#expanding\n",
    "#ewm\n",
    "#resample"
   ],
   "metadata": {
    "collapsed": false,
    "pycharm": {
     "name": "#%%\n"
    }
   }
  },
  {
   "cell_type": "code",
   "execution_count": 2,
   "outputs": [
    {
     "data": {
      "text/plain": "   PassengerId  Survived  Pclass  \\\n0            1         0       3   \n1            2         1       1   \n2            3         1       3   \n3            4         1       1   \n4            5         0       3   \n\n                                                Name     Sex   Age  SibSp  \\\n0                            Braund, Mr. Owen Harris    male  22.0      1   \n1  Cumings, Mrs. John Bradley (Florence Briggs Th...  female  38.0      1   \n2                             Heikkinen, Miss. Laina  female  26.0      0   \n3       Futrelle, Mrs. Jacques Heath (Lily May Peel)  female  35.0      1   \n4                           Allen, Mr. William Henry    male  35.0      0   \n\n   Parch            Ticket     Fare Cabin Embarked  \n0      0         A/5 21171   7.2500   NaN        S  \n1      0          PC 17599  71.2833   C85        C  \n2      0  STON/O2. 3101282   7.9250   NaN        S  \n3      0            113803  53.1000  C123        S  \n4      0            373450   8.0500   NaN        S  ",
      "text/html": "<div>\n<style scoped>\n    .dataframe tbody tr th:only-of-type {\n        vertical-align: middle;\n    }\n\n    .dataframe tbody tr th {\n        vertical-align: top;\n    }\n\n    .dataframe thead th {\n        text-align: right;\n    }\n</style>\n<table border=\"1\" class=\"dataframe\">\n  <thead>\n    <tr style=\"text-align: right;\">\n      <th></th>\n      <th>PassengerId</th>\n      <th>Survived</th>\n      <th>Pclass</th>\n      <th>Name</th>\n      <th>Sex</th>\n      <th>Age</th>\n      <th>SibSp</th>\n      <th>Parch</th>\n      <th>Ticket</th>\n      <th>Fare</th>\n      <th>Cabin</th>\n      <th>Embarked</th>\n    </tr>\n  </thead>\n  <tbody>\n    <tr>\n      <th>0</th>\n      <td>1</td>\n      <td>0</td>\n      <td>3</td>\n      <td>Braund, Mr. Owen Harris</td>\n      <td>male</td>\n      <td>22.0</td>\n      <td>1</td>\n      <td>0</td>\n      <td>A/5 21171</td>\n      <td>7.2500</td>\n      <td>NaN</td>\n      <td>S</td>\n    </tr>\n    <tr>\n      <th>1</th>\n      <td>2</td>\n      <td>1</td>\n      <td>1</td>\n      <td>Cumings, Mrs. John Bradley (Florence Briggs Th...</td>\n      <td>female</td>\n      <td>38.0</td>\n      <td>1</td>\n      <td>0</td>\n      <td>PC 17599</td>\n      <td>71.2833</td>\n      <td>C85</td>\n      <td>C</td>\n    </tr>\n    <tr>\n      <th>2</th>\n      <td>3</td>\n      <td>1</td>\n      <td>3</td>\n      <td>Heikkinen, Miss. Laina</td>\n      <td>female</td>\n      <td>26.0</td>\n      <td>0</td>\n      <td>0</td>\n      <td>STON/O2. 3101282</td>\n      <td>7.9250</td>\n      <td>NaN</td>\n      <td>S</td>\n    </tr>\n    <tr>\n      <th>3</th>\n      <td>4</td>\n      <td>1</td>\n      <td>1</td>\n      <td>Futrelle, Mrs. Jacques Heath (Lily May Peel)</td>\n      <td>female</td>\n      <td>35.0</td>\n      <td>1</td>\n      <td>0</td>\n      <td>113803</td>\n      <td>53.1000</td>\n      <td>C123</td>\n      <td>S</td>\n    </tr>\n    <tr>\n      <th>4</th>\n      <td>5</td>\n      <td>0</td>\n      <td>3</td>\n      <td>Allen, Mr. William Henry</td>\n      <td>male</td>\n      <td>35.0</td>\n      <td>0</td>\n      <td>0</td>\n      <td>373450</td>\n      <td>8.0500</td>\n      <td>NaN</td>\n      <td>S</td>\n    </tr>\n  </tbody>\n</table>\n</div>"
     },
     "execution_count": 2,
     "metadata": {},
     "output_type": "execute_result"
    }
   ],
   "source": [
    "titanic = pd.read_csv('C:/Users/nowic/Desktop/Home tasks/Datasets/titanic.csv')\n",
    "titanic.head()"
   ],
   "metadata": {
    "collapsed": false,
    "pycharm": {
     "name": "#%%\n"
    }
   }
  },
  {
   "cell_type": "code",
   "execution_count": 3,
   "outputs": [
    {
     "data": {
      "text/plain": "0.3838383838383838"
     },
     "execution_count": 3,
     "metadata": {},
     "output_type": "execute_result"
    }
   ],
   "source": [
    "titanic['Survived'].mean()"
   ],
   "metadata": {
    "collapsed": false,
    "pycharm": {
     "name": "#%%\n"
    }
   }
  },
  {
   "cell_type": "code",
   "execution_count": 4,
   "outputs": [
    {
     "name": "stderr",
     "output_type": "stream",
     "text": [
      "C:\\Users\\nowic\\AppData\\Local\\Temp/ipykernel_2032/830683447.py:2: FutureWarning: Dropping of nuisance columns in DataFrame reductions (with 'numeric_only=None') is deprecated; in a future version this will raise TypeError.  Select only valid columns before calling the reduction.\n",
      "  titanic[titanic['Survived'] == 1].mean()\n"
     ]
    },
    {
     "data": {
      "text/plain": "PassengerId    444.368421\nSurvived         1.000000\nPclass           1.950292\nAge             28.343690\nSibSp            0.473684\nParch            0.464912\nFare            48.395408\ndtype: float64"
     },
     "execution_count": 4,
     "metadata": {},
     "output_type": "execute_result"
    }
   ],
   "source": [
    "# узнаём средние числовые значения для выживших\n",
    "titanic[titanic['Survived'] == 1].mean()"
   ],
   "metadata": {
    "collapsed": false,
    "pycharm": {
     "name": "#%%\n"
    }
   }
  },
  {
   "cell_type": "code",
   "execution_count": 5,
   "outputs": [
    {
     "data": {
      "text/plain": "1.9502923976608186"
     },
     "execution_count": 5,
     "metadata": {},
     "output_type": "execute_result"
    }
   ],
   "source": [
    "# узнаём среднее значение класса для выживших\n",
    "titanic[titanic['Survived'] == 1]['Pclass'].mean()"
   ],
   "metadata": {
    "collapsed": false,
    "pycharm": {
     "name": "#%%\n"
    }
   }
  },
  {
   "cell_type": "code",
   "execution_count": 6,
   "outputs": [
    {
     "data": {
      "text/plain": "63.0"
     },
     "execution_count": 6,
     "metadata": {},
     "output_type": "execute_result"
    }
   ],
   "source": [
    "# находим самого старшего выжившего из 3-его класса\n",
    "titanic[(titanic['Survived'] == 1) & (titanic['Pclass'] == 3)]['Age'].max()"
   ],
   "metadata": {
    "collapsed": false,
    "pycharm": {
     "name": "#%%\n"
    }
   }
  },
  {
   "cell_type": "code",
   "execution_count": 7,
   "outputs": [
    {
     "data": {
      "text/plain": "   PassengerId  Survived  Pclass  \\\n0            1     False       3   \n1            2      True       1   \n2            3      True       3   \n3            4      True       1   \n4            5     False       3   \n\n                                                Name     Sex   Age  SibSp  \\\n0                            Braund, Mr. Owen Harris    male  22.0      1   \n1  Cumings, Mrs. John Bradley (Florence Briggs Th...  female  38.0      1   \n2                             Heikkinen, Miss. Laina  female  26.0      0   \n3       Futrelle, Mrs. Jacques Heath (Lily May Peel)  female  35.0      1   \n4                           Allen, Mr. William Henry    male  35.0      0   \n\n   Parch            Ticket     Fare Cabin Embarked  \n0      0         A/5 21171   7.2500   NaN        S  \n1      0          PC 17599  71.2833   C85        C  \n2      0  STON/O2. 3101282   7.9250   NaN        S  \n3      0            113803  53.1000  C123        S  \n4      0            373450   8.0500   NaN        S  ",
      "text/html": "<div>\n<style scoped>\n    .dataframe tbody tr th:only-of-type {\n        vertical-align: middle;\n    }\n\n    .dataframe tbody tr th {\n        vertical-align: top;\n    }\n\n    .dataframe thead th {\n        text-align: right;\n    }\n</style>\n<table border=\"1\" class=\"dataframe\">\n  <thead>\n    <tr style=\"text-align: right;\">\n      <th></th>\n      <th>PassengerId</th>\n      <th>Survived</th>\n      <th>Pclass</th>\n      <th>Name</th>\n      <th>Sex</th>\n      <th>Age</th>\n      <th>SibSp</th>\n      <th>Parch</th>\n      <th>Ticket</th>\n      <th>Fare</th>\n      <th>Cabin</th>\n      <th>Embarked</th>\n    </tr>\n  </thead>\n  <tbody>\n    <tr>\n      <th>0</th>\n      <td>1</td>\n      <td>False</td>\n      <td>3</td>\n      <td>Braund, Mr. Owen Harris</td>\n      <td>male</td>\n      <td>22.0</td>\n      <td>1</td>\n      <td>0</td>\n      <td>A/5 21171</td>\n      <td>7.2500</td>\n      <td>NaN</td>\n      <td>S</td>\n    </tr>\n    <tr>\n      <th>1</th>\n      <td>2</td>\n      <td>True</td>\n      <td>1</td>\n      <td>Cumings, Mrs. John Bradley (Florence Briggs Th...</td>\n      <td>female</td>\n      <td>38.0</td>\n      <td>1</td>\n      <td>0</td>\n      <td>PC 17599</td>\n      <td>71.2833</td>\n      <td>C85</td>\n      <td>C</td>\n    </tr>\n    <tr>\n      <th>2</th>\n      <td>3</td>\n      <td>True</td>\n      <td>3</td>\n      <td>Heikkinen, Miss. Laina</td>\n      <td>female</td>\n      <td>26.0</td>\n      <td>0</td>\n      <td>0</td>\n      <td>STON/O2. 3101282</td>\n      <td>7.9250</td>\n      <td>NaN</td>\n      <td>S</td>\n    </tr>\n    <tr>\n      <th>3</th>\n      <td>4</td>\n      <td>True</td>\n      <td>1</td>\n      <td>Futrelle, Mrs. Jacques Heath (Lily May Peel)</td>\n      <td>female</td>\n      <td>35.0</td>\n      <td>1</td>\n      <td>0</td>\n      <td>113803</td>\n      <td>53.1000</td>\n      <td>C123</td>\n      <td>S</td>\n    </tr>\n    <tr>\n      <th>4</th>\n      <td>5</td>\n      <td>False</td>\n      <td>3</td>\n      <td>Allen, Mr. William Henry</td>\n      <td>male</td>\n      <td>35.0</td>\n      <td>0</td>\n      <td>0</td>\n      <td>373450</td>\n      <td>8.0500</td>\n      <td>NaN</td>\n      <td>S</td>\n    </tr>\n  </tbody>\n</table>\n</div>"
     },
     "execution_count": 7,
     "metadata": {},
     "output_type": "execute_result"
    }
   ],
   "source": [
    "# замена значений\n",
    "d = {0: False, 1: True}\n",
    "titanic['Survived'] = titanic['Survived'].map(d)\n",
    "# то же самое: titanic = titanic.replace({'Survived': d})\n",
    "titanic.head()"
   ],
   "metadata": {
    "collapsed": false,
    "pycharm": {
     "name": "#%%\n"
    }
   }
  },
  {
   "cell_type": "code",
   "execution_count": 8,
   "outputs": [
    {
     "data": {
      "text/plain": "Pclass      1   2    3\nSurvived              \nFalse      80  97  372\nTrue      136  87  119",
      "text/html": "<div>\n<style scoped>\n    .dataframe tbody tr th:only-of-type {\n        vertical-align: middle;\n    }\n\n    .dataframe tbody tr th {\n        vertical-align: top;\n    }\n\n    .dataframe thead th {\n        text-align: right;\n    }\n</style>\n<table border=\"1\" class=\"dataframe\">\n  <thead>\n    <tr style=\"text-align: right;\">\n      <th>Pclass</th>\n      <th>1</th>\n      <th>2</th>\n      <th>3</th>\n    </tr>\n    <tr>\n      <th>Survived</th>\n      <th></th>\n      <th></th>\n      <th></th>\n    </tr>\n  </thead>\n  <tbody>\n    <tr>\n      <th>False</th>\n      <td>80</td>\n      <td>97</td>\n      <td>372</td>\n    </tr>\n    <tr>\n      <th>True</th>\n      <td>136</td>\n      <td>87</td>\n      <td>119</td>\n    </tr>\n  </tbody>\n</table>\n</div>"
     },
     "execution_count": 8,
     "metadata": {},
     "output_type": "execute_result"
    }
   ],
   "source": [
    "# статистика по кол-ву выживших/умерших по классу пасажиров\n",
    "pd.crosstab(titanic['Survived'], titanic['Pclass'])"
   ],
   "metadata": {
    "collapsed": false,
    "pycharm": {
     "name": "#%%\n"
    }
   }
  },
  {
   "cell_type": "code",
   "execution_count": 11,
   "outputs": [
    {
     "data": {
      "text/plain": "                 count       mean        std   min    25%   50%    75%   max\nSurvived Sex                                                                \nFalse    female   64.0  25.046875  13.618591  2.00  16.75  24.5  33.25  57.0\n         male    360.0  31.618056  14.056019  1.00  21.75  29.0  39.25  74.0\nTrue     female  197.0  28.847716  14.175073  0.75  19.00  28.0  38.00  63.0\n         male     93.0  27.276022  16.504803  0.42  18.00  28.0  36.00  80.0",
      "text/html": "<div>\n<style scoped>\n    .dataframe tbody tr th:only-of-type {\n        vertical-align: middle;\n    }\n\n    .dataframe tbody tr th {\n        vertical-align: top;\n    }\n\n    .dataframe thead th {\n        text-align: right;\n    }\n</style>\n<table border=\"1\" class=\"dataframe\">\n  <thead>\n    <tr style=\"text-align: right;\">\n      <th></th>\n      <th></th>\n      <th>count</th>\n      <th>mean</th>\n      <th>std</th>\n      <th>min</th>\n      <th>25%</th>\n      <th>50%</th>\n      <th>75%</th>\n      <th>max</th>\n    </tr>\n    <tr>\n      <th>Survived</th>\n      <th>Sex</th>\n      <th></th>\n      <th></th>\n      <th></th>\n      <th></th>\n      <th></th>\n      <th></th>\n      <th></th>\n      <th></th>\n    </tr>\n  </thead>\n  <tbody>\n    <tr>\n      <th rowspan=\"2\" valign=\"top\">False</th>\n      <th>female</th>\n      <td>64.0</td>\n      <td>25.046875</td>\n      <td>13.618591</td>\n      <td>2.00</td>\n      <td>16.75</td>\n      <td>24.5</td>\n      <td>33.25</td>\n      <td>57.0</td>\n    </tr>\n    <tr>\n      <th>male</th>\n      <td>360.0</td>\n      <td>31.618056</td>\n      <td>14.056019</td>\n      <td>1.00</td>\n      <td>21.75</td>\n      <td>29.0</td>\n      <td>39.25</td>\n      <td>74.0</td>\n    </tr>\n    <tr>\n      <th rowspan=\"2\" valign=\"top\">True</th>\n      <th>female</th>\n      <td>197.0</td>\n      <td>28.847716</td>\n      <td>14.175073</td>\n      <td>0.75</td>\n      <td>19.00</td>\n      <td>28.0</td>\n      <td>38.00</td>\n      <td>63.0</td>\n    </tr>\n    <tr>\n      <th>male</th>\n      <td>93.0</td>\n      <td>27.276022</td>\n      <td>16.504803</td>\n      <td>0.42</td>\n      <td>18.00</td>\n      <td>28.0</td>\n      <td>36.00</td>\n      <td>80.0</td>\n    </tr>\n  </tbody>\n</table>\n</div>"
     },
     "execution_count": 11,
     "metadata": {},
     "output_type": "execute_result"
    }
   ],
   "source": [
    "# узнаём стат. данные об возрасте по полу и выживаемости\n",
    "titanic.groupby(['Survived', 'Sex'])['Age'].describe()"
   ],
   "metadata": {
    "collapsed": false,
    "pycharm": {
     "name": "#%%\n"
    }
   }
  },
  {
   "cell_type": "code",
   "execution_count": null,
   "outputs": [],
   "source": [],
   "metadata": {
    "collapsed": false,
    "pycharm": {
     "name": "#%%\n"
    }
   }
  }
 ],
 "metadata": {
  "kernelspec": {
   "name": "python3",
   "language": "python",
   "display_name": "Python 3 (ipykernel)"
  },
  "language_info": {
   "codemirror_mode": {
    "name": "ipython",
    "version": 2
   },
   "file_extension": ".py",
   "mimetype": "text/x-python",
   "name": "python",
   "nbconvert_exporter": "python",
   "pygments_lexer": "ipython2",
   "version": "2.7.6"
  }
 },
 "nbformat": 4,
 "nbformat_minor": 0
}