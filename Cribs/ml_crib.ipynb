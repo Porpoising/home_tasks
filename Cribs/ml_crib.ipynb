{
 "cells": [
  {
   "cell_type": "code",
   "execution_count": 1,
   "metadata": {
    "collapsed": true
   },
   "outputs": [],
   "source": [
    "from sklearn import tree\n",
    "from sklearn import model_selection\n",
    "from sklearn import metrics\n",
    "from sklearn.ensemble import RandomForestClassifier\n",
    "import numpy as np\n",
    "import pandas as pd\n",
    "import seaborn as sns\n",
    "import math as m\n",
    "\n",
    "# entropy\n",
    "# information gain (IG)"
   ]
  },
  {
   "cell_type": "code",
   "execution_count": 2,
   "outputs": [
    {
     "data": {
      "text/plain": "    Unnamed: 0  sepal length  sepal width  petal length  petal width  species\n0          114           5.8          2.8           5.1          2.4        2\n1           70           5.9          3.2           4.8          1.8        1\n2          138           6.0          3.0           4.8          1.8        2\n3           59           5.2          2.7           3.9          1.4        1\n4           44           5.1          3.8           1.9          0.4        0\n5          125           7.2          3.2           6.0          1.8        2\n6           36           5.5          3.5           1.3          0.2        0\n7          141           6.9          3.1           5.1          2.3        2\n8           12           4.8          3.0           1.4          0.1        0\n9           63           6.1          2.9           4.7          1.4        1\n10         106           4.9          2.5           4.5          1.7        2\n11          96           5.7          2.9           4.2          1.3        1\n12         103           6.3          2.9           5.6          1.8        2\n13          22           4.6          3.6           1.0          0.2        0\n14          26           5.0          3.4           1.6          0.4        0\n15         104           6.5          3.0           5.8          2.2        2\n16          84           5.4          3.0           4.5          1.5        1\n17          32           5.2          4.1           1.5          0.1        0\n18          18           5.7          3.8           1.7          0.3        0\n19          67           5.8          2.7           4.1          1.0        1\n20          53           5.5          2.3           4.0          1.3        1\n21         137           6.4          3.1           5.5          1.8        2\n22          33           5.5          4.2           1.4          0.2        0\n23           6           4.6          3.4           1.4          0.3        0\n24          60           5.0          2.0           3.5          1.0        1\n25          29           4.7          3.2           1.6          0.2        0\n26          16           5.4          3.9           1.3          0.4        0\n27          83           6.0          2.7           5.1          1.6        1\n28          15           5.7          4.4           1.5          0.4        0\n29           2           4.7          3.2           1.3          0.2        0\n30          95           5.7          3.0           4.2          1.2        1\n31          52           6.9          3.1           4.9          1.5        1\n32          90           5.5          2.6           4.4          1.2        1\n33          81           5.5          2.4           3.7          1.0        1\n34         101           5.8          2.7           5.1          1.9        2\n35          92           5.8          2.6           4.0          1.2        1\n36         129           7.2          3.0           5.8          1.6        2\n37          71           6.1          2.8           4.0          1.3        1\n38         108           6.7          2.5           5.8          1.8        2\n39         143           6.8          3.2           5.9          2.3        2\n40           5           5.4          3.9           1.7          0.4        0\n41          56           6.3          3.3           4.7          1.6        1\n42         102           7.1          3.0           5.9          2.1        2\n43          97           6.2          2.9           4.3          1.3        1\n44          78           6.0          2.9           4.5          1.5        1\n45         128           6.4          2.8           5.6          2.1        2\n46          99           5.7          2.8           4.1          1.3        1\n47         131           7.9          3.8           6.4          2.0        2\n48           8           4.4          2.9           1.4          0.2        0\n49          54           6.5          2.8           4.6          1.5        1",
      "text/html": "<div>\n<style scoped>\n    .dataframe tbody tr th:only-of-type {\n        vertical-align: middle;\n    }\n\n    .dataframe tbody tr th {\n        vertical-align: top;\n    }\n\n    .dataframe thead th {\n        text-align: right;\n    }\n</style>\n<table border=\"1\" class=\"dataframe\">\n  <thead>\n    <tr style=\"text-align: right;\">\n      <th></th>\n      <th>Unnamed: 0</th>\n      <th>sepal length</th>\n      <th>sepal width</th>\n      <th>petal length</th>\n      <th>petal width</th>\n      <th>species</th>\n    </tr>\n  </thead>\n  <tbody>\n    <tr>\n      <th>0</th>\n      <td>114</td>\n      <td>5.8</td>\n      <td>2.8</td>\n      <td>5.1</td>\n      <td>2.4</td>\n      <td>2</td>\n    </tr>\n    <tr>\n      <th>1</th>\n      <td>70</td>\n      <td>5.9</td>\n      <td>3.2</td>\n      <td>4.8</td>\n      <td>1.8</td>\n      <td>1</td>\n    </tr>\n    <tr>\n      <th>2</th>\n      <td>138</td>\n      <td>6.0</td>\n      <td>3.0</td>\n      <td>4.8</td>\n      <td>1.8</td>\n      <td>2</td>\n    </tr>\n    <tr>\n      <th>3</th>\n      <td>59</td>\n      <td>5.2</td>\n      <td>2.7</td>\n      <td>3.9</td>\n      <td>1.4</td>\n      <td>1</td>\n    </tr>\n    <tr>\n      <th>4</th>\n      <td>44</td>\n      <td>5.1</td>\n      <td>3.8</td>\n      <td>1.9</td>\n      <td>0.4</td>\n      <td>0</td>\n    </tr>\n    <tr>\n      <th>5</th>\n      <td>125</td>\n      <td>7.2</td>\n      <td>3.2</td>\n      <td>6.0</td>\n      <td>1.8</td>\n      <td>2</td>\n    </tr>\n    <tr>\n      <th>6</th>\n      <td>36</td>\n      <td>5.5</td>\n      <td>3.5</td>\n      <td>1.3</td>\n      <td>0.2</td>\n      <td>0</td>\n    </tr>\n    <tr>\n      <th>7</th>\n      <td>141</td>\n      <td>6.9</td>\n      <td>3.1</td>\n      <td>5.1</td>\n      <td>2.3</td>\n      <td>2</td>\n    </tr>\n    <tr>\n      <th>8</th>\n      <td>12</td>\n      <td>4.8</td>\n      <td>3.0</td>\n      <td>1.4</td>\n      <td>0.1</td>\n      <td>0</td>\n    </tr>\n    <tr>\n      <th>9</th>\n      <td>63</td>\n      <td>6.1</td>\n      <td>2.9</td>\n      <td>4.7</td>\n      <td>1.4</td>\n      <td>1</td>\n    </tr>\n    <tr>\n      <th>10</th>\n      <td>106</td>\n      <td>4.9</td>\n      <td>2.5</td>\n      <td>4.5</td>\n      <td>1.7</td>\n      <td>2</td>\n    </tr>\n    <tr>\n      <th>11</th>\n      <td>96</td>\n      <td>5.7</td>\n      <td>2.9</td>\n      <td>4.2</td>\n      <td>1.3</td>\n      <td>1</td>\n    </tr>\n    <tr>\n      <th>12</th>\n      <td>103</td>\n      <td>6.3</td>\n      <td>2.9</td>\n      <td>5.6</td>\n      <td>1.8</td>\n      <td>2</td>\n    </tr>\n    <tr>\n      <th>13</th>\n      <td>22</td>\n      <td>4.6</td>\n      <td>3.6</td>\n      <td>1.0</td>\n      <td>0.2</td>\n      <td>0</td>\n    </tr>\n    <tr>\n      <th>14</th>\n      <td>26</td>\n      <td>5.0</td>\n      <td>3.4</td>\n      <td>1.6</td>\n      <td>0.4</td>\n      <td>0</td>\n    </tr>\n    <tr>\n      <th>15</th>\n      <td>104</td>\n      <td>6.5</td>\n      <td>3.0</td>\n      <td>5.8</td>\n      <td>2.2</td>\n      <td>2</td>\n    </tr>\n    <tr>\n      <th>16</th>\n      <td>84</td>\n      <td>5.4</td>\n      <td>3.0</td>\n      <td>4.5</td>\n      <td>1.5</td>\n      <td>1</td>\n    </tr>\n    <tr>\n      <th>17</th>\n      <td>32</td>\n      <td>5.2</td>\n      <td>4.1</td>\n      <td>1.5</td>\n      <td>0.1</td>\n      <td>0</td>\n    </tr>\n    <tr>\n      <th>18</th>\n      <td>18</td>\n      <td>5.7</td>\n      <td>3.8</td>\n      <td>1.7</td>\n      <td>0.3</td>\n      <td>0</td>\n    </tr>\n    <tr>\n      <th>19</th>\n      <td>67</td>\n      <td>5.8</td>\n      <td>2.7</td>\n      <td>4.1</td>\n      <td>1.0</td>\n      <td>1</td>\n    </tr>\n    <tr>\n      <th>20</th>\n      <td>53</td>\n      <td>5.5</td>\n      <td>2.3</td>\n      <td>4.0</td>\n      <td>1.3</td>\n      <td>1</td>\n    </tr>\n    <tr>\n      <th>21</th>\n      <td>137</td>\n      <td>6.4</td>\n      <td>3.1</td>\n      <td>5.5</td>\n      <td>1.8</td>\n      <td>2</td>\n    </tr>\n    <tr>\n      <th>22</th>\n      <td>33</td>\n      <td>5.5</td>\n      <td>4.2</td>\n      <td>1.4</td>\n      <td>0.2</td>\n      <td>0</td>\n    </tr>\n    <tr>\n      <th>23</th>\n      <td>6</td>\n      <td>4.6</td>\n      <td>3.4</td>\n      <td>1.4</td>\n      <td>0.3</td>\n      <td>0</td>\n    </tr>\n    <tr>\n      <th>24</th>\n      <td>60</td>\n      <td>5.0</td>\n      <td>2.0</td>\n      <td>3.5</td>\n      <td>1.0</td>\n      <td>1</td>\n    </tr>\n    <tr>\n      <th>25</th>\n      <td>29</td>\n      <td>4.7</td>\n      <td>3.2</td>\n      <td>1.6</td>\n      <td>0.2</td>\n      <td>0</td>\n    </tr>\n    <tr>\n      <th>26</th>\n      <td>16</td>\n      <td>5.4</td>\n      <td>3.9</td>\n      <td>1.3</td>\n      <td>0.4</td>\n      <td>0</td>\n    </tr>\n    <tr>\n      <th>27</th>\n      <td>83</td>\n      <td>6.0</td>\n      <td>2.7</td>\n      <td>5.1</td>\n      <td>1.6</td>\n      <td>1</td>\n    </tr>\n    <tr>\n      <th>28</th>\n      <td>15</td>\n      <td>5.7</td>\n      <td>4.4</td>\n      <td>1.5</td>\n      <td>0.4</td>\n      <td>0</td>\n    </tr>\n    <tr>\n      <th>29</th>\n      <td>2</td>\n      <td>4.7</td>\n      <td>3.2</td>\n      <td>1.3</td>\n      <td>0.2</td>\n      <td>0</td>\n    </tr>\n    <tr>\n      <th>30</th>\n      <td>95</td>\n      <td>5.7</td>\n      <td>3.0</td>\n      <td>4.2</td>\n      <td>1.2</td>\n      <td>1</td>\n    </tr>\n    <tr>\n      <th>31</th>\n      <td>52</td>\n      <td>6.9</td>\n      <td>3.1</td>\n      <td>4.9</td>\n      <td>1.5</td>\n      <td>1</td>\n    </tr>\n    <tr>\n      <th>32</th>\n      <td>90</td>\n      <td>5.5</td>\n      <td>2.6</td>\n      <td>4.4</td>\n      <td>1.2</td>\n      <td>1</td>\n    </tr>\n    <tr>\n      <th>33</th>\n      <td>81</td>\n      <td>5.5</td>\n      <td>2.4</td>\n      <td>3.7</td>\n      <td>1.0</td>\n      <td>1</td>\n    </tr>\n    <tr>\n      <th>34</th>\n      <td>101</td>\n      <td>5.8</td>\n      <td>2.7</td>\n      <td>5.1</td>\n      <td>1.9</td>\n      <td>2</td>\n    </tr>\n    <tr>\n      <th>35</th>\n      <td>92</td>\n      <td>5.8</td>\n      <td>2.6</td>\n      <td>4.0</td>\n      <td>1.2</td>\n      <td>1</td>\n    </tr>\n    <tr>\n      <th>36</th>\n      <td>129</td>\n      <td>7.2</td>\n      <td>3.0</td>\n      <td>5.8</td>\n      <td>1.6</td>\n      <td>2</td>\n    </tr>\n    <tr>\n      <th>37</th>\n      <td>71</td>\n      <td>6.1</td>\n      <td>2.8</td>\n      <td>4.0</td>\n      <td>1.3</td>\n      <td>1</td>\n    </tr>\n    <tr>\n      <th>38</th>\n      <td>108</td>\n      <td>6.7</td>\n      <td>2.5</td>\n      <td>5.8</td>\n      <td>1.8</td>\n      <td>2</td>\n    </tr>\n    <tr>\n      <th>39</th>\n      <td>143</td>\n      <td>6.8</td>\n      <td>3.2</td>\n      <td>5.9</td>\n      <td>2.3</td>\n      <td>2</td>\n    </tr>\n    <tr>\n      <th>40</th>\n      <td>5</td>\n      <td>5.4</td>\n      <td>3.9</td>\n      <td>1.7</td>\n      <td>0.4</td>\n      <td>0</td>\n    </tr>\n    <tr>\n      <th>41</th>\n      <td>56</td>\n      <td>6.3</td>\n      <td>3.3</td>\n      <td>4.7</td>\n      <td>1.6</td>\n      <td>1</td>\n    </tr>\n    <tr>\n      <th>42</th>\n      <td>102</td>\n      <td>7.1</td>\n      <td>3.0</td>\n      <td>5.9</td>\n      <td>2.1</td>\n      <td>2</td>\n    </tr>\n    <tr>\n      <th>43</th>\n      <td>97</td>\n      <td>6.2</td>\n      <td>2.9</td>\n      <td>4.3</td>\n      <td>1.3</td>\n      <td>1</td>\n    </tr>\n    <tr>\n      <th>44</th>\n      <td>78</td>\n      <td>6.0</td>\n      <td>2.9</td>\n      <td>4.5</td>\n      <td>1.5</td>\n      <td>1</td>\n    </tr>\n    <tr>\n      <th>45</th>\n      <td>128</td>\n      <td>6.4</td>\n      <td>2.8</td>\n      <td>5.6</td>\n      <td>2.1</td>\n      <td>2</td>\n    </tr>\n    <tr>\n      <th>46</th>\n      <td>99</td>\n      <td>5.7</td>\n      <td>2.8</td>\n      <td>4.1</td>\n      <td>1.3</td>\n      <td>1</td>\n    </tr>\n    <tr>\n      <th>47</th>\n      <td>131</td>\n      <td>7.9</td>\n      <td>3.8</td>\n      <td>6.4</td>\n      <td>2.0</td>\n      <td>2</td>\n    </tr>\n    <tr>\n      <th>48</th>\n      <td>8</td>\n      <td>4.4</td>\n      <td>2.9</td>\n      <td>1.4</td>\n      <td>0.2</td>\n      <td>0</td>\n    </tr>\n    <tr>\n      <th>49</th>\n      <td>54</td>\n      <td>6.5</td>\n      <td>2.8</td>\n      <td>4.6</td>\n      <td>1.5</td>\n      <td>1</td>\n    </tr>\n  </tbody>\n</table>\n</div>"
     },
     "execution_count": 2,
     "metadata": {},
     "output_type": "execute_result"
    }
   ],
   "source": [
    "iris_train = pd.read_csv('D:/Home tasks/Datasets/train_iris.csv')\n",
    "iris_test = pd.read_csv('D:/Home tasks/Datasets/test_iris.csv')\n",
    "iris_test"
   ],
   "metadata": {
    "collapsed": false,
    "pycharm": {
     "name": "#%%\n"
    }
   }
  },
  {
   "cell_type": "code",
   "execution_count": 3,
   "outputs": [],
   "source": [
    "# разделяем данные на обучаемые и целевые в обоих фреймах\n",
    "X_train = iris_train.drop(['Unnamed: 0', 'species'], axis=1)\n",
    "X_test = iris_test.drop(['Unnamed: 0', 'species'], axis=1)\n",
    "y_train = iris_train.species\n",
    "y_test = iris_test.species\n",
    "\n",
    "# случайное разделение на выборки, если исходные данные не были изначально поделены\n",
    "# X_train, y_train, X_test, y_test = model_selection.train_test_split(X, y, test_size=0.33, random_state=9)\n"
   ],
   "metadata": {
    "collapsed": false,
    "pycharm": {
     "name": "#%%\n"
    }
   }
  },
  {
   "cell_type": "code",
   "execution_count": 10,
   "outputs": [
    {
     "data": {
      "text/plain": "    max_depth  train_score  test_score  cv_score\n0           1         0.70        0.60      0.70\n0           2         0.97        0.94      0.95\n0           3         0.99        0.94      0.96\n0           4         1.00        0.92      0.96\n0           5         1.00        0.92      0.96\n..        ...          ...         ...       ...\n0          96         1.00        0.94      0.96\n0          97         1.00        0.92      0.96\n0          98         1.00        0.92      0.96\n0          99         1.00        0.92      0.96\n0         100         1.00        0.92      0.96\n\n[100 rows x 4 columns]",
      "text/html": "<div>\n<style scoped>\n    .dataframe tbody tr th:only-of-type {\n        vertical-align: middle;\n    }\n\n    .dataframe tbody tr th {\n        vertical-align: top;\n    }\n\n    .dataframe thead th {\n        text-align: right;\n    }\n</style>\n<table border=\"1\" class=\"dataframe\">\n  <thead>\n    <tr style=\"text-align: right;\">\n      <th></th>\n      <th>max_depth</th>\n      <th>train_score</th>\n      <th>test_score</th>\n      <th>cv_score</th>\n    </tr>\n  </thead>\n  <tbody>\n    <tr>\n      <th>0</th>\n      <td>1</td>\n      <td>0.70</td>\n      <td>0.60</td>\n      <td>0.70</td>\n    </tr>\n    <tr>\n      <th>0</th>\n      <td>2</td>\n      <td>0.97</td>\n      <td>0.94</td>\n      <td>0.95</td>\n    </tr>\n    <tr>\n      <th>0</th>\n      <td>3</td>\n      <td>0.99</td>\n      <td>0.94</td>\n      <td>0.96</td>\n    </tr>\n    <tr>\n      <th>0</th>\n      <td>4</td>\n      <td>1.00</td>\n      <td>0.92</td>\n      <td>0.96</td>\n    </tr>\n    <tr>\n      <th>0</th>\n      <td>5</td>\n      <td>1.00</td>\n      <td>0.92</td>\n      <td>0.96</td>\n    </tr>\n    <tr>\n      <th>...</th>\n      <td>...</td>\n      <td>...</td>\n      <td>...</td>\n      <td>...</td>\n    </tr>\n    <tr>\n      <th>0</th>\n      <td>96</td>\n      <td>1.00</td>\n      <td>0.94</td>\n      <td>0.96</td>\n    </tr>\n    <tr>\n      <th>0</th>\n      <td>97</td>\n      <td>1.00</td>\n      <td>0.92</td>\n      <td>0.96</td>\n    </tr>\n    <tr>\n      <th>0</th>\n      <td>98</td>\n      <td>1.00</td>\n      <td>0.92</td>\n      <td>0.96</td>\n    </tr>\n    <tr>\n      <th>0</th>\n      <td>99</td>\n      <td>1.00</td>\n      <td>0.92</td>\n      <td>0.96</td>\n    </tr>\n    <tr>\n      <th>0</th>\n      <td>100</td>\n      <td>1.00</td>\n      <td>0.92</td>\n      <td>0.96</td>\n    </tr>\n  </tbody>\n</table>\n<p>100 rows × 4 columns</p>\n</div>"
     },
     "execution_count": 10,
     "metadata": {},
     "output_type": "execute_result"
    }
   ],
   "source": [
    "score_data = pd.DataFrame()\n",
    "max_depth_values = range(1, 101)\n",
    "seed = np.random.seed(9)\n",
    "\n",
    "for max_depth in max_depth_values:\n",
    "    decision_tree = tree.DecisionTreeClassifier(criterion='entropy', max_depth=max_depth,\n",
    "                                                random_state=seed)\n",
    "    decision_tree.fit(X_train,y_train)\n",
    "    train_score = decision_tree.score(X_train, y_train)\n",
    "    test_score = decision_tree.score(X_test, y_test)\n",
    "\n",
    "    # k-fold кросс-валидация\n",
    "    mean_cv_score = model_selection.cross_val_score(decision_tree, X_train, y_train, cv=5).mean()\n",
    "\n",
    "    temp_score_data = pd.DataFrame({'max_depth': [max_depth],\n",
    "                                    'train_score': [train_score],\n",
    "                                    'test_score': [test_score],\n",
    "                                    'cv_score': [mean_cv_score]})\n",
    "    score_data = score_data.append(temp_score_data)\n",
    "\n",
    "score_data"
   ],
   "metadata": {
    "collapsed": false,
    "pycharm": {
     "name": "#%%\n"
    }
   }
  },
  {
   "cell_type": "code",
   "execution_count": 11,
   "outputs": [
    {
     "data": {
      "text/plain": "     max_depth     set_type  score\n0            1  train_score   0.70\n1            2  train_score   0.97\n2            3  train_score   0.99\n3            4  train_score   1.00\n4            5  train_score   1.00\n..         ...          ...    ...\n295         96     cv_score   0.96\n296         97     cv_score   0.96\n297         98     cv_score   0.96\n298         99     cv_score   0.96\n299        100     cv_score   0.96\n\n[300 rows x 3 columns]",
      "text/html": "<div>\n<style scoped>\n    .dataframe tbody tr th:only-of-type {\n        vertical-align: middle;\n    }\n\n    .dataframe tbody tr th {\n        vertical-align: top;\n    }\n\n    .dataframe thead th {\n        text-align: right;\n    }\n</style>\n<table border=\"1\" class=\"dataframe\">\n  <thead>\n    <tr style=\"text-align: right;\">\n      <th></th>\n      <th>max_depth</th>\n      <th>set_type</th>\n      <th>score</th>\n    </tr>\n  </thead>\n  <tbody>\n    <tr>\n      <th>0</th>\n      <td>1</td>\n      <td>train_score</td>\n      <td>0.70</td>\n    </tr>\n    <tr>\n      <th>1</th>\n      <td>2</td>\n      <td>train_score</td>\n      <td>0.97</td>\n    </tr>\n    <tr>\n      <th>2</th>\n      <td>3</td>\n      <td>train_score</td>\n      <td>0.99</td>\n    </tr>\n    <tr>\n      <th>3</th>\n      <td>4</td>\n      <td>train_score</td>\n      <td>1.00</td>\n    </tr>\n    <tr>\n      <th>4</th>\n      <td>5</td>\n      <td>train_score</td>\n      <td>1.00</td>\n    </tr>\n    <tr>\n      <th>...</th>\n      <td>...</td>\n      <td>...</td>\n      <td>...</td>\n    </tr>\n    <tr>\n      <th>295</th>\n      <td>96</td>\n      <td>cv_score</td>\n      <td>0.96</td>\n    </tr>\n    <tr>\n      <th>296</th>\n      <td>97</td>\n      <td>cv_score</td>\n      <td>0.96</td>\n    </tr>\n    <tr>\n      <th>297</th>\n      <td>98</td>\n      <td>cv_score</td>\n      <td>0.96</td>\n    </tr>\n    <tr>\n      <th>298</th>\n      <td>99</td>\n      <td>cv_score</td>\n      <td>0.96</td>\n    </tr>\n    <tr>\n      <th>299</th>\n      <td>100</td>\n      <td>cv_score</td>\n      <td>0.96</td>\n    </tr>\n  </tbody>\n</table>\n<p>300 rows × 3 columns</p>\n</div>"
     },
     "execution_count": 11,
     "metadata": {},
     "output_type": "execute_result"
    }
   ],
   "source": [
    "#собираем score - колонки в одну\n",
    "score_data_long = pd.melt(score_data, id_vars=['max_depth'],\n",
    "                          value_vars=['train_score', 'test_score', 'cv_score'],\n",
    "                          var_name='set_type', value_name='score')\n",
    "score_data_long"
   ],
   "metadata": {
    "collapsed": false,
    "pycharm": {
     "name": "#%%\n"
    }
   }
  },
  {
   "cell_type": "code",
   "execution_count": 12,
   "outputs": [
    {
     "data": {
      "text/plain": "GridSearchCV(cv=5, estimator=DecisionTreeClassifier(),\n             param_grid={'criterion': ['gini', 'entropy'],\n                         'max_depth': range(1, 30)})"
     },
     "execution_count": 12,
     "metadata": {},
     "output_type": "execute_result"
    }
   ],
   "source": [
    "clf = tree.DecisionTreeClassifier()\n",
    "params = {'criterion': ['gini', 'entropy'], 'max_depth': range(1, 30)}\n",
    "\n",
    "# ищем лучшую модель с помощью GridSearchCV (cv - кросс-валидация)\n",
    "gsc_clf = model_selection.GridSearchCV(clf, params, cv=5)\n",
    "gsc_clf.fit(X_train, y_train)"
   ],
   "metadata": {
    "collapsed": false,
    "pycharm": {
     "name": "#%%\n"
    }
   }
  },
  {
   "cell_type": "code",
   "execution_count": 14,
   "outputs": [
    {
     "data": {
      "text/plain": "{'criterion': 'gini', 'max_depth': 3}"
     },
     "execution_count": 14,
     "metadata": {},
     "output_type": "execute_result"
    }
   ],
   "source": [
    "# записываем лучшую модель в переменную и смотрим её лучшие параметры\n",
    "best_estimator = gsc_clf.best_estimator_\n",
    "gsc_clf.best_params_"
   ],
   "metadata": {
    "collapsed": false,
    "pycharm": {
     "name": "#%%\n"
    }
   }
  },
  {
   "cell_type": "code",
   "execution_count": 15,
   "outputs": [
    {
     "data": {
      "text/plain": "0.94"
     },
     "execution_count": 15,
     "metadata": {},
     "output_type": "execute_result"
    }
   ],
   "source": [
    "# смотрим результат на лучшей получившейся модели\n",
    "best_estimator.score(X_test, y_test)"
   ],
   "metadata": {
    "collapsed": false,
    "pycharm": {
     "name": "#%%\n"
    }
   }
  },
  {
   "cell_type": "code",
   "execution_count": 16,
   "outputs": [
    {
     "name": "stdout",
     "output_type": "stream",
     "text": [
      "0.9407894736842105\n",
      "0.9444444444444443\n"
     ]
    }
   ],
   "source": [
    "# precision и recall\n",
    "print(metrics.precision_score(y_test, best_estimator.predict(X_test), average='macro'),\n",
    "    metrics.recall_score(y_test, best_estimator.predict(X_test), average='macro'), sep='\\n')"
   ],
   "metadata": {
    "collapsed": false,
    "pycharm": {
     "name": "#%%\n"
    }
   }
  },
  {
   "cell_type": "code",
   "execution_count": 17,
   "outputs": [
    {
     "data": {
      "text/plain": "[Text(133.92000000000002, 190.26, 'X[2] <= 2.45\\ngini = 0.665\\nsamples = 100\\nvalue = [35, 30, 35]'),\n Text(66.96000000000001, 135.9, 'gini = 0.0\\nsamples = 35\\nvalue = [35, 0, 0]'),\n Text(200.88000000000002, 135.9, 'X[3] <= 1.75\\ngini = 0.497\\nsamples = 65\\nvalue = [0, 30, 35]'),\n Text(133.92000000000002, 81.53999999999999, 'X[2] <= 4.95\\ngini = 0.165\\nsamples = 33\\nvalue = [0, 30, 3]'),\n Text(66.96000000000001, 27.180000000000007, 'gini = 0.0\\nsamples = 29\\nvalue = [0, 29, 0]'),\n Text(200.88000000000002, 27.180000000000007, 'gini = 0.375\\nsamples = 4\\nvalue = [0, 1, 3]'),\n Text(267.84000000000003, 81.53999999999999, 'gini = 0.0\\nsamples = 32\\nvalue = [0, 0, 32]')]"
     },
     "execution_count": 17,
     "metadata": {},
     "output_type": "execute_result"
    },
    {
     "data": {
      "text/plain": "<Figure size 432x288 with 1 Axes>",
      "image/png": "[encoded data removed]"
     },
     "metadata": {
      "needs_background": "light"
     },
     "output_type": "display_data"
    }
   ],
   "source": [
    "# визуализация дерева решений\n",
    "tree.plot_tree(best_estimator, filled=True)"
   ],
   "metadata": {
    "collapsed": false,
    "pycharm": {
     "name": "#%%\n"
    }
   }
  },
  {
   "cell_type": "code",
   "execution_count": 4,
   "outputs": [],
   "source": [
    "# Random Forest\n",
    "rf = RandomForestClassifier()\n",
    "\n",
    "params = {'n_estimators': range(1, 11),\n",
    "          'criterion': ['gini', 'entropy'],\n",
    "          'max_depth': range(1, 30),}\n",
    "\n",
    "gsc_clf_rf = model_selection.GridSearchCV(rf, params, cv=5)\n",
    "gsc_clf_rf.fit(X_train, y_train)\n",
    "\n",
    "best_rf = gsc_clf_rf.best_estimator_"
   ],
   "metadata": {
    "collapsed": false,
    "pycharm": {
     "name": "#%%\n"
    }
   }
  },
  {
   "cell_type": "code",
   "execution_count": 6,
   "outputs": [],
   "source": [
    "# предсказать значения\n",
    "predictions = best_rf.predict(X_test)"
   ],
   "metadata": {
    "collapsed": false,
    "pycharm": {
     "name": "#%%\n"
    }
   }
  },
  {
   "cell_type": "code",
   "execution_count": 7,
   "outputs": [
    {
     "data": {
      "text/plain": "<AxesSubplot:>"
     },
     "execution_count": 7,
     "metadata": {},
     "output_type": "execute_result"
    },
    {
     "data": {
      "text/plain": "<Figure size 432x288 with 2 Axes>",
      "image/png": "[encoded data removed]"
     },
     "metadata": {
      "needs_background": "light"
     },
     "output_type": "display_data"
    }
   ],
   "source": [
    "# Confusion matrix\n",
    "cf_matrix = metrics.confusion_matrix(y_test, predictions)\n",
    "sns.heatmap(cf_matrix, annot=True)"
   ],
   "metadata": {
    "collapsed": false,
    "pycharm": {
     "name": "#%%\n"
    }
   }
  },
  {
   "cell_type": "code",
   "execution_count": 8,
   "outputs": [
    {
     "data": {
      "text/plain": "<AxesSubplot:xlabel='feature_importances', ylabel='features'>"
     },
     "execution_count": 8,
     "metadata": {},
     "output_type": "execute_result"
    },
    {
     "data": {
      "text/plain": "<Figure size 432x288 with 1 Axes>",
      "image/png": "[encoded data removed]"
     },
     "metadata": {
      "needs_background": "light"
     },
     "output_type": "display_data"
    }
   ],
   "source": [
    "# меры влияния данных на обучение\n",
    "fi = best_rf.feature_importances_\n",
    "fi_2_df = pd.DataFrame({'features': X_train.columns,\n",
    "                       'feature_importances': fi})\n",
    "fi_2_df = fi_2_df.sort_values(['feature_importances'], ascending=False)\n",
    "sns.barplot(x=\"feature_importances\", y=\"features\", data=fi_2_df,\n",
    "            label=\"importance\", color=\"b\")"
   ],
   "metadata": {
    "collapsed": false,
    "pycharm": {
     "name": "#%%\n"
    }
   }
  },
  {
   "cell_type": "code",
   "execution_count": null,
   "outputs": [],
   "source": [],
   "metadata": {
    "collapsed": false,
    "pycharm": {
     "name": "#%%\n"
    }
   }
  }
 ],
 "metadata": {
  "kernelspec": {
   "name": "conda-env-keras-py",
   "language": "python",
   "display_name": "Python [conda env:keras] *"
  },
  "language_info": {
   "codemirror_mode": {
    "name": "ipython",
    "version": 2
   },
   "file_extension": ".py",
   "mimetype": "text/x-python",
   "name": "python",
   "nbconvert_exporter": "python",
   "pygments_lexer": "ipython2",
   "version": "2.7.6"
  }
 },
 "nbformat": 4,
 "nbformat_minor": 0
}