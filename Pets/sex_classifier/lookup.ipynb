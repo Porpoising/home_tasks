{
 "cells": [
  {
   "cell_type": "markdown",
   "metadata": {
    "collapsed": true,
    "pycharm": {
     "name": "#%% md\n"
    }
   },
   "source": [
    "# Purpose\n",
    "predict client's sex through transactions"
   ]
  },
  {
   "cell_type": "code",
   "execution_count": 1,
   "outputs": [],
   "source": [
    "import pandas as pd\n",
    "import numpy as np"
   ],
   "metadata": {
    "collapsed": false,
    "pycharm": {
     "name": "#%%\n"
    }
   }
  },
  {
   "cell_type": "code",
   "execution_count": 2,
   "outputs": [],
   "source": [
    "filepath = 'C:/Users/nowic/Desktop/home_tasks/pets/sex_classifier/raw_data/'"
   ],
   "metadata": {
    "collapsed": false,
    "pycharm": {
     "name": "#%%\n"
    }
   }
  },
  {
   "cell_type": "markdown",
   "source": [
    "## codes"
   ],
   "metadata": {
    "collapsed": false,
    "pycharm": {
     "name": "#%% md\n"
    }
   }
  },
  {
   "cell_type": "code",
   "execution_count": 3,
   "outputs": [
    {
     "data": {
      "text/plain": "     code                                   code_description\n0    5944  Магазины по продаже часов, ювелирных изделий и...\n1    5621                           Готовые сумочные изделия\n2    5697       Услуги по переделке, починке и пошиву одежды\n3    7995                       Транзакции по азартным играм\n4    5137             Мужская, женская и детская спец-одежда\n..    ...                                                ...\n179  5044  Офисное, фотографическое, фотокопировальное, и...\n180  5983  Горючее топливо — уголь, нефть, разжиженный бе...\n181  5994               Дилеры по продаже печатной продукции\n182  5192              Книги, периодические издания и газеты\n183  7922                 Театральные продюсерские агентства\n\n[184 rows x 2 columns]",
      "text/html": "<div>\n<style scoped>\n    .dataframe tbody tr th:only-of-type {\n        vertical-align: middle;\n    }\n\n    .dataframe tbody tr th {\n        vertical-align: top;\n    }\n\n    .dataframe thead th {\n        text-align: right;\n    }\n</style>\n<table border=\"1\" class=\"dataframe\">\n  <thead>\n    <tr style=\"text-align: right;\">\n      <th></th>\n      <th>code</th>\n      <th>code_description</th>\n    </tr>\n  </thead>\n  <tbody>\n    <tr>\n      <th>0</th>\n      <td>5944</td>\n      <td>Магазины по продаже часов, ювелирных изделий и...</td>\n    </tr>\n    <tr>\n      <th>1</th>\n      <td>5621</td>\n      <td>Готовые сумочные изделия</td>\n    </tr>\n    <tr>\n      <th>2</th>\n      <td>5697</td>\n      <td>Услуги по переделке, починке и пошиву одежды</td>\n    </tr>\n    <tr>\n      <th>3</th>\n      <td>7995</td>\n      <td>Транзакции по азартным играм</td>\n    </tr>\n    <tr>\n      <th>4</th>\n      <td>5137</td>\n      <td>Мужская, женская и детская спец-одежда</td>\n    </tr>\n    <tr>\n      <th>...</th>\n      <td>...</td>\n      <td>...</td>\n    </tr>\n    <tr>\n      <th>179</th>\n      <td>5044</td>\n      <td>Офисное, фотографическое, фотокопировальное, и...</td>\n    </tr>\n    <tr>\n      <th>180</th>\n      <td>5983</td>\n      <td>Горючее топливо — уголь, нефть, разжиженный бе...</td>\n    </tr>\n    <tr>\n      <th>181</th>\n      <td>5994</td>\n      <td>Дилеры по продаже печатной продукции</td>\n    </tr>\n    <tr>\n      <th>182</th>\n      <td>5192</td>\n      <td>Книги, периодические издания и газеты</td>\n    </tr>\n    <tr>\n      <th>183</th>\n      <td>7922</td>\n      <td>Театральные продюсерские агентства</td>\n    </tr>\n  </tbody>\n</table>\n<p>184 rows × 2 columns</p>\n</div>"
     },
     "execution_count": 3,
     "metadata": {},
     "output_type": "execute_result"
    }
   ],
   "source": [
    "codes = pd.read_csv(f'{filepath}codes.csv', sep=';')\n",
    "codes"
   ],
   "metadata": {
    "collapsed": false,
    "pycharm": {
     "name": "#%%\n"
    }
   }
  },
  {
   "cell_type": "code",
   "execution_count": 4,
   "outputs": [
    {
     "name": "stdout",
     "output_type": "stream",
     "text": [
      "<class 'pandas.core.frame.DataFrame'>\n",
      "RangeIndex: 184 entries, 0 to 183\n",
      "Data columns (total 2 columns):\n",
      " #   Column            Non-Null Count  Dtype \n",
      "---  ------            --------------  ----- \n",
      " 0   code              184 non-null    int64 \n",
      " 1   code_description  184 non-null    object\n",
      "dtypes: int64(1), object(1)\n",
      "memory usage: 3.0+ KB\n"
     ]
    }
   ],
   "source": [
    "codes.info()"
   ],
   "metadata": {
    "collapsed": false,
    "pycharm": {
     "name": "#%%\n"
    }
   }
  },
  {
   "cell_type": "markdown",
   "source": [
    "## types"
   ],
   "metadata": {
    "collapsed": false,
    "pycharm": {
     "name": "#%% md\n"
    }
   }
  },
  {
   "cell_type": "code",
   "execution_count": 5,
   "outputs": [
    {
     "data": {
      "text/plain": "     type                                   type_description\n0    8001                 Установление расх. лимита по карте\n1    2411  Перевод с карты на счет др.лица в одном тер. б...\n2    4035                                    н/д(нет данных)\n3    3001            Комиссия за обслуживание ссудного счета\n4    2420  Перевод с карты на счет физ.лица в другом тер....\n..    ...                                                ...\n150  4110                 Плата за получение наличных в АТМ.\n151  2320     Безналичный перевод денежных средств через POS\n152  7040  Перевод на карту (с карты) через POS (в предел...\n153  2433  Перевод с карты на счет физ.лица в другом банк...\n154  2431  Перевод с карты на счет физ.лица в другом банк...\n\n[155 rows x 2 columns]",
      "text/html": "<div>\n<style scoped>\n    .dataframe tbody tr th:only-of-type {\n        vertical-align: middle;\n    }\n\n    .dataframe tbody tr th {\n        vertical-align: top;\n    }\n\n    .dataframe thead th {\n        text-align: right;\n    }\n</style>\n<table border=\"1\" class=\"dataframe\">\n  <thead>\n    <tr style=\"text-align: right;\">\n      <th></th>\n      <th>type</th>\n      <th>type_description</th>\n    </tr>\n  </thead>\n  <tbody>\n    <tr>\n      <th>0</th>\n      <td>8001</td>\n      <td>Установление расх. лимита по карте</td>\n    </tr>\n    <tr>\n      <th>1</th>\n      <td>2411</td>\n      <td>Перевод с карты на счет др.лица в одном тер. б...</td>\n    </tr>\n    <tr>\n      <th>2</th>\n      <td>4035</td>\n      <td>н/д(нет данных)</td>\n    </tr>\n    <tr>\n      <th>3</th>\n      <td>3001</td>\n      <td>Комиссия за обслуживание ссудного счета</td>\n    </tr>\n    <tr>\n      <th>4</th>\n      <td>2420</td>\n      <td>Перевод с карты на счет физ.лица в другом тер....</td>\n    </tr>\n    <tr>\n      <th>...</th>\n      <td>...</td>\n      <td>...</td>\n    </tr>\n    <tr>\n      <th>150</th>\n      <td>4110</td>\n      <td>Плата за получение наличных в АТМ.</td>\n    </tr>\n    <tr>\n      <th>151</th>\n      <td>2320</td>\n      <td>Безналичный перевод денежных средств через POS</td>\n    </tr>\n    <tr>\n      <th>152</th>\n      <td>7040</td>\n      <td>Перевод на карту (с карты) через POS (в предел...</td>\n    </tr>\n    <tr>\n      <th>153</th>\n      <td>2433</td>\n      <td>Перевод с карты на счет физ.лица в другом банк...</td>\n    </tr>\n    <tr>\n      <th>154</th>\n      <td>2431</td>\n      <td>Перевод с карты на счет физ.лица в другом банк...</td>\n    </tr>\n  </tbody>\n</table>\n<p>155 rows × 2 columns</p>\n</div>"
     },
     "execution_count": 5,
     "metadata": {},
     "output_type": "execute_result"
    }
   ],
   "source": [
    "types = pd.read_csv(f'{filepath}types.csv', sep=';')\n",
    "types"
   ],
   "metadata": {
    "collapsed": false,
    "pycharm": {
     "name": "#%%\n"
    }
   }
  },
  {
   "cell_type": "code",
   "execution_count": 6,
   "outputs": [
    {
     "name": "stdout",
     "output_type": "stream",
     "text": [
      "<class 'pandas.core.frame.DataFrame'>\n",
      "RangeIndex: 155 entries, 0 to 154\n",
      "Data columns (total 2 columns):\n",
      " #   Column            Non-Null Count  Dtype \n",
      "---  ------            --------------  ----- \n",
      " 0   type              155 non-null    int64 \n",
      " 1   type_description  155 non-null    object\n",
      "dtypes: int64(1), object(1)\n",
      "memory usage: 2.5+ KB\n"
     ]
    }
   ],
   "source": [
    "types.info()"
   ],
   "metadata": {
    "collapsed": false,
    "pycharm": {
     "name": "#%%\n"
    }
   }
  },
  {
   "cell_type": "code",
   "execution_count": 7,
   "outputs": [
    {
     "data": {
      "text/plain": "type                0\ntype_description    0\ndtype: int64"
     },
     "execution_count": 7,
     "metadata": {},
     "output_type": "execute_result"
    }
   ],
   "source": [
    "types.isnull().sum()"
   ],
   "metadata": {
    "collapsed": false,
    "pycharm": {
     "name": "#%%\n"
    }
   }
  },
  {
   "cell_type": "markdown",
   "source": [
    "## train"
   ],
   "metadata": {
    "collapsed": false,
    "pycharm": {
     "name": "#%% md\n"
    }
   }
  },
  {
   "cell_type": "code",
   "execution_count": 8,
   "outputs": [
    {
     "data": {
      "text/plain": "      client_id      datetime  code  type    amount  target\n0      16004843  245 22:10:18  5411  1010  -7928.08       0\n1      20873616  433 07:44:21  4814  1030    -56.15       0\n2      65231233  164 15:58:23  5411  1010  -4689.47       1\n3      29536165  413 11:47:51  5411  1010  -3703.52       1\n4      66473821  280 05:17:26  6010  7030  67377.47       1\n...         ...           ...   ...   ...       ...     ...\n4395   15762885  435 00:00:00  5499  1110  -6288.56       1\n4396   32301971  395 21:29:06  5411  1010  -4289.70       0\n4397   28558979   41 06:09:09  6011  2011 -89836.63       1\n4398   87252636  438 15:04:44  6010  7071  59584.15       0\n4399    7654410    5 14:50:16  4814  1030  -5614.79       0\n\n[4400 rows x 6 columns]",
      "text/html": "<div>\n<style scoped>\n    .dataframe tbody tr th:only-of-type {\n        vertical-align: middle;\n    }\n\n    .dataframe tbody tr th {\n        vertical-align: top;\n    }\n\n    .dataframe thead th {\n        text-align: right;\n    }\n</style>\n<table border=\"1\" class=\"dataframe\">\n  <thead>\n    <tr style=\"text-align: right;\">\n      <th></th>\n      <th>client_id</th>\n      <th>datetime</th>\n      <th>code</th>\n      <th>type</th>\n      <th>amount</th>\n      <th>target</th>\n    </tr>\n  </thead>\n  <tbody>\n    <tr>\n      <th>0</th>\n      <td>16004843</td>\n      <td>245 22:10:18</td>\n      <td>5411</td>\n      <td>1010</td>\n      <td>-7928.08</td>\n      <td>0</td>\n    </tr>\n    <tr>\n      <th>1</th>\n      <td>20873616</td>\n      <td>433 07:44:21</td>\n      <td>4814</td>\n      <td>1030</td>\n      <td>-56.15</td>\n      <td>0</td>\n    </tr>\n    <tr>\n      <th>2</th>\n      <td>65231233</td>\n      <td>164 15:58:23</td>\n      <td>5411</td>\n      <td>1010</td>\n      <td>-4689.47</td>\n      <td>1</td>\n    </tr>\n    <tr>\n      <th>3</th>\n      <td>29536165</td>\n      <td>413 11:47:51</td>\n      <td>5411</td>\n      <td>1010</td>\n      <td>-3703.52</td>\n      <td>1</td>\n    </tr>\n    <tr>\n      <th>4</th>\n      <td>66473821</td>\n      <td>280 05:17:26</td>\n      <td>6010</td>\n      <td>7030</td>\n      <td>67377.47</td>\n      <td>1</td>\n    </tr>\n    <tr>\n      <th>...</th>\n      <td>...</td>\n      <td>...</td>\n      <td>...</td>\n      <td>...</td>\n      <td>...</td>\n      <td>...</td>\n    </tr>\n    <tr>\n      <th>4395</th>\n      <td>15762885</td>\n      <td>435 00:00:00</td>\n      <td>5499</td>\n      <td>1110</td>\n      <td>-6288.56</td>\n      <td>1</td>\n    </tr>\n    <tr>\n      <th>4396</th>\n      <td>32301971</td>\n      <td>395 21:29:06</td>\n      <td>5411</td>\n      <td>1010</td>\n      <td>-4289.70</td>\n      <td>0</td>\n    </tr>\n    <tr>\n      <th>4397</th>\n      <td>28558979</td>\n      <td>41 06:09:09</td>\n      <td>6011</td>\n      <td>2011</td>\n      <td>-89836.63</td>\n      <td>1</td>\n    </tr>\n    <tr>\n      <th>4398</th>\n      <td>87252636</td>\n      <td>438 15:04:44</td>\n      <td>6010</td>\n      <td>7071</td>\n      <td>59584.15</td>\n      <td>0</td>\n    </tr>\n    <tr>\n      <th>4399</th>\n      <td>7654410</td>\n      <td>5 14:50:16</td>\n      <td>4814</td>\n      <td>1030</td>\n      <td>-5614.79</td>\n      <td>0</td>\n    </tr>\n  </tbody>\n</table>\n<p>4400 rows × 6 columns</p>\n</div>"
     },
     "execution_count": 8,
     "metadata": {},
     "output_type": "execute_result"
    }
   ],
   "source": [
    "train = pd.read_csv(f'{filepath}train.csv')\n",
    "train"
   ],
   "metadata": {
    "collapsed": false,
    "pycharm": {
     "name": "#%%\n"
    }
   }
  },
  {
   "cell_type": "code",
   "execution_count": 9,
   "outputs": [
    {
     "data": {
      "text/plain": "client_id    0\ndatetime     0\ncode         0\ntype         0\namount       0\ntarget       0\ndtype: int64"
     },
     "execution_count": 9,
     "metadata": {},
     "output_type": "execute_result"
    }
   ],
   "source": [
    "train.isnull().sum()"
   ],
   "metadata": {
    "collapsed": false,
    "pycharm": {
     "name": "#%%\n"
    }
   }
  },
  {
   "cell_type": "code",
   "execution_count": 10,
   "outputs": [
    {
     "data": {
      "text/plain": "          client_id         code         type        amount       target\ncount  4.400000e+03  4400.000000  4400.000000  4.400000e+03  4400.000000\nmean   5.118095e+07  5591.175909  2477.993636 -2.582942e+04     0.450455\nstd    2.845942e+07   618.250575  2239.280882  3.799930e+05     0.497596\nmin    3.138500e+04   742.000000  1010.000000 -1.122958e+07     0.000000\n25%    2.640954e+07  5211.000000  1030.000000 -2.245916e+04     0.000000\n50%    5.320309e+07  5541.000000  1110.000000 -5.362350e+03     0.000000\n75%    7.508276e+07  6010.000000  2370.000000 -1.122960e+03     1.000000\nmax    9.993895e+07  9399.000000  7075.000000  6.737747e+06     1.000000",
      "text/html": "<div>\n<style scoped>\n    .dataframe tbody tr th:only-of-type {\n        vertical-align: middle;\n    }\n\n    .dataframe tbody tr th {\n        vertical-align: top;\n    }\n\n    .dataframe thead th {\n        text-align: right;\n    }\n</style>\n<table border=\"1\" class=\"dataframe\">\n  <thead>\n    <tr style=\"text-align: right;\">\n      <th></th>\n      <th>client_id</th>\n      <th>code</th>\n      <th>type</th>\n      <th>amount</th>\n      <th>target</th>\n    </tr>\n  </thead>\n  <tbody>\n    <tr>\n      <th>count</th>\n      <td>4.400000e+03</td>\n      <td>4400.000000</td>\n      <td>4400.000000</td>\n      <td>4.400000e+03</td>\n      <td>4400.000000</td>\n    </tr>\n    <tr>\n      <th>mean</th>\n      <td>5.118095e+07</td>\n      <td>5591.175909</td>\n      <td>2477.993636</td>\n      <td>-2.582942e+04</td>\n      <td>0.450455</td>\n    </tr>\n    <tr>\n      <th>std</th>\n      <td>2.845942e+07</td>\n      <td>618.250575</td>\n      <td>2239.280882</td>\n      <td>3.799930e+05</td>\n      <td>0.497596</td>\n    </tr>\n    <tr>\n      <th>min</th>\n      <td>3.138500e+04</td>\n      <td>742.000000</td>\n      <td>1010.000000</td>\n      <td>-1.122958e+07</td>\n      <td>0.000000</td>\n    </tr>\n    <tr>\n      <th>25%</th>\n      <td>2.640954e+07</td>\n      <td>5211.000000</td>\n      <td>1030.000000</td>\n      <td>-2.245916e+04</td>\n      <td>0.000000</td>\n    </tr>\n    <tr>\n      <th>50%</th>\n      <td>5.320309e+07</td>\n      <td>5541.000000</td>\n      <td>1110.000000</td>\n      <td>-5.362350e+03</td>\n      <td>0.000000</td>\n    </tr>\n    <tr>\n      <th>75%</th>\n      <td>7.508276e+07</td>\n      <td>6010.000000</td>\n      <td>2370.000000</td>\n      <td>-1.122960e+03</td>\n      <td>1.000000</td>\n    </tr>\n    <tr>\n      <th>max</th>\n      <td>9.993895e+07</td>\n      <td>9399.000000</td>\n      <td>7075.000000</td>\n      <td>6.737747e+06</td>\n      <td>1.000000</td>\n    </tr>\n  </tbody>\n</table>\n</div>"
     },
     "execution_count": 10,
     "metadata": {},
     "output_type": "execute_result"
    }
   ],
   "source": [
    "train.describe()"
   ],
   "metadata": {
    "collapsed": false,
    "pycharm": {
     "name": "#%%\n"
    }
   }
  },
  {
   "cell_type": "code",
   "execution_count": 11,
   "outputs": [
    {
     "name": "stdout",
     "output_type": "stream",
     "text": [
      "<class 'pandas.core.frame.DataFrame'>\n",
      "RangeIndex: 4400 entries, 0 to 4399\n",
      "Data columns (total 6 columns):\n",
      " #   Column     Non-Null Count  Dtype  \n",
      "---  ------     --------------  -----  \n",
      " 0   client_id  4400 non-null   int64  \n",
      " 1   datetime   4400 non-null   object \n",
      " 2   code       4400 non-null   int64  \n",
      " 3   type       4400 non-null   int64  \n",
      " 4   amount     4400 non-null   float64\n",
      " 5   target     4400 non-null   int64  \n",
      "dtypes: float64(1), int64(4), object(1)\n",
      "memory usage: 206.4+ KB\n"
     ]
    }
   ],
   "source": [
    "train.info()"
   ],
   "metadata": {
    "collapsed": false,
    "pycharm": {
     "name": "#%%\n"
    }
   }
  },
  {
   "cell_type": "markdown",
   "source": [
    "## val"
   ],
   "metadata": {
    "collapsed": false,
    "pycharm": {
     "name": "#%% md\n"
    }
   }
  },
  {
   "cell_type": "code",
   "execution_count": 12,
   "outputs": [
    {
     "data": {
      "text/plain": "     client_id      datetime  code  type     amount  target\n0     32250029    5 18:47:13  6011  2010 -105558.04       0\n1     62912334  385 12:59:06  6011  2010   -8983.66       0\n2     78738215  320 15:13:17  6010  7070  269509.89       0\n3     72106418  370 18:02:14  5331  1010   -5540.67       1\n4     54271008  233 09:56:30  6011  7011   11229.58       0\n..         ...           ...   ...   ...        ...     ...\n795   66245004   14 13:42:20  6011  2010  -22459.16       1\n796   46562431  441 19:23:14  6010  7070   44918.32       1\n797   64504493  224 12:36:21  6011  2010 -128017.20       1\n798   47578863  264 17:24:29  5411  1010   -9334.03       1\n799   61830325    9 09:48:56  6011  7010   11229.58       0\n\n[800 rows x 6 columns]",
      "text/html": "<div>\n<style scoped>\n    .dataframe tbody tr th:only-of-type {\n        vertical-align: middle;\n    }\n\n    .dataframe tbody tr th {\n        vertical-align: top;\n    }\n\n    .dataframe thead th {\n        text-align: right;\n    }\n</style>\n<table border=\"1\" class=\"dataframe\">\n  <thead>\n    <tr style=\"text-align: right;\">\n      <th></th>\n      <th>client_id</th>\n      <th>datetime</th>\n      <th>code</th>\n      <th>type</th>\n      <th>amount</th>\n      <th>target</th>\n    </tr>\n  </thead>\n  <tbody>\n    <tr>\n      <th>0</th>\n      <td>32250029</td>\n      <td>5 18:47:13</td>\n      <td>6011</td>\n      <td>2010</td>\n      <td>-105558.04</td>\n      <td>0</td>\n    </tr>\n    <tr>\n      <th>1</th>\n      <td>62912334</td>\n      <td>385 12:59:06</td>\n      <td>6011</td>\n      <td>2010</td>\n      <td>-8983.66</td>\n      <td>0</td>\n    </tr>\n    <tr>\n      <th>2</th>\n      <td>78738215</td>\n      <td>320 15:13:17</td>\n      <td>6010</td>\n      <td>7070</td>\n      <td>269509.89</td>\n      <td>0</td>\n    </tr>\n    <tr>\n      <th>3</th>\n      <td>72106418</td>\n      <td>370 18:02:14</td>\n      <td>5331</td>\n      <td>1010</td>\n      <td>-5540.67</td>\n      <td>1</td>\n    </tr>\n    <tr>\n      <th>4</th>\n      <td>54271008</td>\n      <td>233 09:56:30</td>\n      <td>6011</td>\n      <td>7011</td>\n      <td>11229.58</td>\n      <td>0</td>\n    </tr>\n    <tr>\n      <th>...</th>\n      <td>...</td>\n      <td>...</td>\n      <td>...</td>\n      <td>...</td>\n      <td>...</td>\n      <td>...</td>\n    </tr>\n    <tr>\n      <th>795</th>\n      <td>66245004</td>\n      <td>14 13:42:20</td>\n      <td>6011</td>\n      <td>2010</td>\n      <td>-22459.16</td>\n      <td>1</td>\n    </tr>\n    <tr>\n      <th>796</th>\n      <td>46562431</td>\n      <td>441 19:23:14</td>\n      <td>6010</td>\n      <td>7070</td>\n      <td>44918.32</td>\n      <td>1</td>\n    </tr>\n    <tr>\n      <th>797</th>\n      <td>64504493</td>\n      <td>224 12:36:21</td>\n      <td>6011</td>\n      <td>2010</td>\n      <td>-128017.20</td>\n      <td>1</td>\n    </tr>\n    <tr>\n      <th>798</th>\n      <td>47578863</td>\n      <td>264 17:24:29</td>\n      <td>5411</td>\n      <td>1010</td>\n      <td>-9334.03</td>\n      <td>1</td>\n    </tr>\n    <tr>\n      <th>799</th>\n      <td>61830325</td>\n      <td>9 09:48:56</td>\n      <td>6011</td>\n      <td>7010</td>\n      <td>11229.58</td>\n      <td>0</td>\n    </tr>\n  </tbody>\n</table>\n<p>800 rows × 6 columns</p>\n</div>"
     },
     "execution_count": 12,
     "metadata": {},
     "output_type": "execute_result"
    }
   ],
   "source": [
    "val = pd.read_csv(f'{filepath}val.csv')\n",
    "val"
   ],
   "metadata": {
    "collapsed": false,
    "pycharm": {
     "name": "#%%\n"
    }
   }
  },
  {
   "cell_type": "code",
   "execution_count": 13,
   "outputs": [
    {
     "data": {
      "text/plain": "client_id    0\ndatetime     0\ncode         0\ntype         0\namount       0\ntarget       0\ndtype: int64"
     },
     "execution_count": 13,
     "metadata": {},
     "output_type": "execute_result"
    }
   ],
   "source": [
    "val.isnull().sum()"
   ],
   "metadata": {
    "collapsed": false,
    "pycharm": {
     "name": "#%%\n"
    }
   }
  },
  {
   "cell_type": "code",
   "execution_count": 14,
   "outputs": [
    {
     "data": {
      "text/plain": "          client_id         code         type        amount      target\ncount  8.000000e+02   800.000000   800.000000  8.000000e+02  800.000000\nmean   5.174563e+07  5598.836250  2468.247500 -2.007146e+04    0.432500\nstd    2.809688e+07   584.545301  2243.665371  2.874749e+05    0.495733\nmin    4.209600e+04  4112.000000  1010.000000 -3.593465e+06    0.000000\n25%    2.795721e+07  5331.000000  1025.000000 -2.245916e+04    0.000000\n50%    5.488868e+07  5541.000000  1110.000000 -5.614790e+03    0.000000\n75%    7.483523e+07  6011.000000  2370.000000 -1.209985e+03    1.000000\nmax    9.983442e+07  9399.000000  7071.000000  4.941015e+06    1.000000",
      "text/html": "<div>\n<style scoped>\n    .dataframe tbody tr th:only-of-type {\n        vertical-align: middle;\n    }\n\n    .dataframe tbody tr th {\n        vertical-align: top;\n    }\n\n    .dataframe thead th {\n        text-align: right;\n    }\n</style>\n<table border=\"1\" class=\"dataframe\">\n  <thead>\n    <tr style=\"text-align: right;\">\n      <th></th>\n      <th>client_id</th>\n      <th>code</th>\n      <th>type</th>\n      <th>amount</th>\n      <th>target</th>\n    </tr>\n  </thead>\n  <tbody>\n    <tr>\n      <th>count</th>\n      <td>8.000000e+02</td>\n      <td>800.000000</td>\n      <td>800.000000</td>\n      <td>8.000000e+02</td>\n      <td>800.000000</td>\n    </tr>\n    <tr>\n      <th>mean</th>\n      <td>5.174563e+07</td>\n      <td>5598.836250</td>\n      <td>2468.247500</td>\n      <td>-2.007146e+04</td>\n      <td>0.432500</td>\n    </tr>\n    <tr>\n      <th>std</th>\n      <td>2.809688e+07</td>\n      <td>584.545301</td>\n      <td>2243.665371</td>\n      <td>2.874749e+05</td>\n      <td>0.495733</td>\n    </tr>\n    <tr>\n      <th>min</th>\n      <td>4.209600e+04</td>\n      <td>4112.000000</td>\n      <td>1010.000000</td>\n      <td>-3.593465e+06</td>\n      <td>0.000000</td>\n    </tr>\n    <tr>\n      <th>25%</th>\n      <td>2.795721e+07</td>\n      <td>5331.000000</td>\n      <td>1025.000000</td>\n      <td>-2.245916e+04</td>\n      <td>0.000000</td>\n    </tr>\n    <tr>\n      <th>50%</th>\n      <td>5.488868e+07</td>\n      <td>5541.000000</td>\n      <td>1110.000000</td>\n      <td>-5.614790e+03</td>\n      <td>0.000000</td>\n    </tr>\n    <tr>\n      <th>75%</th>\n      <td>7.483523e+07</td>\n      <td>6011.000000</td>\n      <td>2370.000000</td>\n      <td>-1.209985e+03</td>\n      <td>1.000000</td>\n    </tr>\n    <tr>\n      <th>max</th>\n      <td>9.983442e+07</td>\n      <td>9399.000000</td>\n      <td>7071.000000</td>\n      <td>4.941015e+06</td>\n      <td>1.000000</td>\n    </tr>\n  </tbody>\n</table>\n</div>"
     },
     "execution_count": 14,
     "metadata": {},
     "output_type": "execute_result"
    }
   ],
   "source": [
    "val.describe()"
   ],
   "metadata": {
    "collapsed": false,
    "pycharm": {
     "name": "#%%\n"
    }
   }
  },
  {
   "cell_type": "code",
   "execution_count": 15,
   "outputs": [
    {
     "name": "stdout",
     "output_type": "stream",
     "text": [
      "<class 'pandas.core.frame.DataFrame'>\n",
      "RangeIndex: 800 entries, 0 to 799\n",
      "Data columns (total 6 columns):\n",
      " #   Column     Non-Null Count  Dtype  \n",
      "---  ------     --------------  -----  \n",
      " 0   client_id  800 non-null    int64  \n",
      " 1   datetime   800 non-null    object \n",
      " 2   code       800 non-null    int64  \n",
      " 3   type       800 non-null    int64  \n",
      " 4   amount     800 non-null    float64\n",
      " 5   target     800 non-null    int64  \n",
      "dtypes: float64(1), int64(4), object(1)\n",
      "memory usage: 37.6+ KB\n"
     ]
    }
   ],
   "source": [
    "val.info()"
   ],
   "metadata": {
    "collapsed": false,
    "pycharm": {
     "name": "#%%\n"
    }
   }
  },
  {
   "cell_type": "markdown",
   "source": [
    "## Final dataset to investigate"
   ],
   "metadata": {
    "collapsed": false,
    "pycharm": {
     "name": "#%% md\n"
    }
   }
  },
  {
   "cell_type": "code",
   "execution_count": 19,
   "outputs": [
    {
     "data": {
      "text/plain": "      client_id      datetime  code  type     amount  target\n0      16004843  245 22:10:18  5411  1010   -7928.08       0\n1      20873616  433 07:44:21  4814  1030     -56.15       0\n2      65231233  164 15:58:23  5411  1010   -4689.47       1\n3      29536165  413 11:47:51  5411  1010   -3703.52       1\n4      66473821  280 05:17:26  6010  7030   67377.47       1\n...         ...           ...   ...   ...        ...     ...\n5195   66245004   14 13:42:20  6011  2010  -22459.16       1\n5196   46562431  441 19:23:14  6010  7070   44918.32       1\n5197   64504493  224 12:36:21  6011  2010 -128017.20       1\n5198   47578863  264 17:24:29  5411  1010   -9334.03       1\n5199   61830325    9 09:48:56  6011  7010   11229.58       0\n\n[5200 rows x 6 columns]",
      "text/html": "<div>\n<style scoped>\n    .dataframe tbody tr th:only-of-type {\n        vertical-align: middle;\n    }\n\n    .dataframe tbody tr th {\n        vertical-align: top;\n    }\n\n    .dataframe thead th {\n        text-align: right;\n    }\n</style>\n<table border=\"1\" class=\"dataframe\">\n  <thead>\n    <tr style=\"text-align: right;\">\n      <th></th>\n      <th>client_id</th>\n      <th>datetime</th>\n      <th>code</th>\n      <th>type</th>\n      <th>amount</th>\n      <th>target</th>\n    </tr>\n  </thead>\n  <tbody>\n    <tr>\n      <th>0</th>\n      <td>16004843</td>\n      <td>245 22:10:18</td>\n      <td>5411</td>\n      <td>1010</td>\n      <td>-7928.08</td>\n      <td>0</td>\n    </tr>\n    <tr>\n      <th>1</th>\n      <td>20873616</td>\n      <td>433 07:44:21</td>\n      <td>4814</td>\n      <td>1030</td>\n      <td>-56.15</td>\n      <td>0</td>\n    </tr>\n    <tr>\n      <th>2</th>\n      <td>65231233</td>\n      <td>164 15:58:23</td>\n      <td>5411</td>\n      <td>1010</td>\n      <td>-4689.47</td>\n      <td>1</td>\n    </tr>\n    <tr>\n      <th>3</th>\n      <td>29536165</td>\n      <td>413 11:47:51</td>\n      <td>5411</td>\n      <td>1010</td>\n      <td>-3703.52</td>\n      <td>1</td>\n    </tr>\n    <tr>\n      <th>4</th>\n      <td>66473821</td>\n      <td>280 05:17:26</td>\n      <td>6010</td>\n      <td>7030</td>\n      <td>67377.47</td>\n      <td>1</td>\n    </tr>\n    <tr>\n      <th>...</th>\n      <td>...</td>\n      <td>...</td>\n      <td>...</td>\n      <td>...</td>\n      <td>...</td>\n      <td>...</td>\n    </tr>\n    <tr>\n      <th>5195</th>\n      <td>66245004</td>\n      <td>14 13:42:20</td>\n      <td>6011</td>\n      <td>2010</td>\n      <td>-22459.16</td>\n      <td>1</td>\n    </tr>\n    <tr>\n      <th>5196</th>\n      <td>46562431</td>\n      <td>441 19:23:14</td>\n      <td>6010</td>\n      <td>7070</td>\n      <td>44918.32</td>\n      <td>1</td>\n    </tr>\n    <tr>\n      <th>5197</th>\n      <td>64504493</td>\n      <td>224 12:36:21</td>\n      <td>6011</td>\n      <td>2010</td>\n      <td>-128017.20</td>\n      <td>1</td>\n    </tr>\n    <tr>\n      <th>5198</th>\n      <td>47578863</td>\n      <td>264 17:24:29</td>\n      <td>5411</td>\n      <td>1010</td>\n      <td>-9334.03</td>\n      <td>1</td>\n    </tr>\n    <tr>\n      <th>5199</th>\n      <td>61830325</td>\n      <td>9 09:48:56</td>\n      <td>6011</td>\n      <td>7010</td>\n      <td>11229.58</td>\n      <td>0</td>\n    </tr>\n  </tbody>\n</table>\n<p>5200 rows × 6 columns</p>\n</div>"
     },
     "execution_count": 19,
     "metadata": {},
     "output_type": "execute_result"
    }
   ],
   "source": [
    "# в val сете такой же бардак, как и в train, поэтому соединяем их для удобства\n",
    "transactions = pd.concat([train, val], ignore_index=True)\n",
    "transactions"
   ],
   "metadata": {
    "collapsed": false,
    "pycharm": {
     "name": "#%%\n"
    }
   }
  },
  {
   "cell_type": "code",
   "execution_count": 20,
   "outputs": [
    {
     "data": {
      "text/plain": "      client_id      datetime  code  type     amount  target  \\\n0      16004843  245 22:10:18  5411  1010   -7928.08       0   \n1      20873616  433 07:44:21  4814  1030     -56.15       0   \n2      65231233  164 15:58:23  5411  1010   -4689.47       1   \n3      29536165  413 11:47:51  5411  1010   -3703.52       1   \n4      66473821  280 05:17:26  6010  7030   67377.47       1   \n...         ...           ...   ...   ...        ...     ...   \n5195   66245004   14 13:42:20  6011  2010  -22459.16       1   \n5196   46562431  441 19:23:14  6010  7070   44918.32       1   \n5197   64504493  224 12:36:21  6011  2010 -128017.20       1   \n5198   47578863  264 17:24:29  5411  1010   -9334.03       1   \n5199   61830325    9 09:48:56  6011  7010   11229.58       0   \n\n                                       type_description  \n0                                         Покупка. POS   \n1                              Оплата услуги. Банкоматы  \n2                                         Покупка. POS   \n3                                         Покупка. POS   \n4     Перевод на карту (с карты) через АТМ (в предел...  \n...                                                 ...  \n5195                              Выдача наличных в АТМ  \n5196  Перевод на карту (с карты) через Мобильный бан...  \n5197                              Выдача наличных в АТМ  \n5198                                      Покупка. POS   \n5199       Взнос наличных через АТМ (в своем тер.банке)  \n\n[5200 rows x 7 columns]",
      "text/html": "<div>\n<style scoped>\n    .dataframe tbody tr th:only-of-type {\n        vertical-align: middle;\n    }\n\n    .dataframe tbody tr th {\n        vertical-align: top;\n    }\n\n    .dataframe thead th {\n        text-align: right;\n    }\n</style>\n<table border=\"1\" class=\"dataframe\">\n  <thead>\n    <tr style=\"text-align: right;\">\n      <th></th>\n      <th>client_id</th>\n      <th>datetime</th>\n      <th>code</th>\n      <th>type</th>\n      <th>amount</th>\n      <th>target</th>\n      <th>type_description</th>\n    </tr>\n  </thead>\n  <tbody>\n    <tr>\n      <th>0</th>\n      <td>16004843</td>\n      <td>245 22:10:18</td>\n      <td>5411</td>\n      <td>1010</td>\n      <td>-7928.08</td>\n      <td>0</td>\n      <td>Покупка. POS</td>\n    </tr>\n    <tr>\n      <th>1</th>\n      <td>20873616</td>\n      <td>433 07:44:21</td>\n      <td>4814</td>\n      <td>1030</td>\n      <td>-56.15</td>\n      <td>0</td>\n      <td>Оплата услуги. Банкоматы</td>\n    </tr>\n    <tr>\n      <th>2</th>\n      <td>65231233</td>\n      <td>164 15:58:23</td>\n      <td>5411</td>\n      <td>1010</td>\n      <td>-4689.47</td>\n      <td>1</td>\n      <td>Покупка. POS</td>\n    </tr>\n    <tr>\n      <th>3</th>\n      <td>29536165</td>\n      <td>413 11:47:51</td>\n      <td>5411</td>\n      <td>1010</td>\n      <td>-3703.52</td>\n      <td>1</td>\n      <td>Покупка. POS</td>\n    </tr>\n    <tr>\n      <th>4</th>\n      <td>66473821</td>\n      <td>280 05:17:26</td>\n      <td>6010</td>\n      <td>7030</td>\n      <td>67377.47</td>\n      <td>1</td>\n      <td>Перевод на карту (с карты) через АТМ (в предел...</td>\n    </tr>\n    <tr>\n      <th>...</th>\n      <td>...</td>\n      <td>...</td>\n      <td>...</td>\n      <td>...</td>\n      <td>...</td>\n      <td>...</td>\n      <td>...</td>\n    </tr>\n    <tr>\n      <th>5195</th>\n      <td>66245004</td>\n      <td>14 13:42:20</td>\n      <td>6011</td>\n      <td>2010</td>\n      <td>-22459.16</td>\n      <td>1</td>\n      <td>Выдача наличных в АТМ</td>\n    </tr>\n    <tr>\n      <th>5196</th>\n      <td>46562431</td>\n      <td>441 19:23:14</td>\n      <td>6010</td>\n      <td>7070</td>\n      <td>44918.32</td>\n      <td>1</td>\n      <td>Перевод на карту (с карты) через Мобильный бан...</td>\n    </tr>\n    <tr>\n      <th>5197</th>\n      <td>64504493</td>\n      <td>224 12:36:21</td>\n      <td>6011</td>\n      <td>2010</td>\n      <td>-128017.20</td>\n      <td>1</td>\n      <td>Выдача наличных в АТМ</td>\n    </tr>\n    <tr>\n      <th>5198</th>\n      <td>47578863</td>\n      <td>264 17:24:29</td>\n      <td>5411</td>\n      <td>1010</td>\n      <td>-9334.03</td>\n      <td>1</td>\n      <td>Покупка. POS</td>\n    </tr>\n    <tr>\n      <th>5199</th>\n      <td>61830325</td>\n      <td>9 09:48:56</td>\n      <td>6011</td>\n      <td>7010</td>\n      <td>11229.58</td>\n      <td>0</td>\n      <td>Взнос наличных через АТМ (в своем тер.банке)</td>\n    </tr>\n  </tbody>\n</table>\n<p>5200 rows × 7 columns</p>\n</div>"
     },
     "execution_count": 20,
     "metadata": {},
     "output_type": "execute_result"
    }
   ],
   "source": [
    "joined = transactions.join(types.set_index('type'), on='type')\n",
    "joined"
   ],
   "metadata": {
    "collapsed": false,
    "pycharm": {
     "name": "#%%\n"
    }
   }
  },
  {
   "cell_type": "code",
   "execution_count": 21,
   "outputs": [
    {
     "data": {
      "text/plain": "      client_id      datetime  code  type     amount  target  \\\n0      16004843  245 22:10:18  5411  1010   -7928.08       0   \n1      20873616  433 07:44:21  4814  1030     -56.15       0   \n2      65231233  164 15:58:23  5411  1010   -4689.47       1   \n3      29536165  413 11:47:51  5411  1010   -3703.52       1   \n4      66473821  280 05:17:26  6010  7030   67377.47       1   \n...         ...           ...   ...   ...        ...     ...   \n5195   66245004   14 13:42:20  6011  2010  -22459.16       1   \n5196   46562431  441 19:23:14  6010  7070   44918.32       1   \n5197   64504493  224 12:36:21  6011  2010 -128017.20       1   \n5198   47578863  264 17:24:29  5411  1010   -9334.03       1   \n5199   61830325    9 09:48:56  6011  7010   11229.58       0   \n\n                                       type_description  \\\n0                                         Покупка. POS    \n1                              Оплата услуги. Банкоматы   \n2                                         Покупка. POS    \n3                                         Покупка. POS    \n4     Перевод на карту (с карты) через АТМ (в предел...   \n...                                                 ...   \n5195                              Выдача наличных в АТМ   \n5196  Перевод на карту (с карты) через Мобильный бан...   \n5197                              Выдача наличных в АТМ   \n5198                                      Покупка. POS    \n5199       Взнос наличных через АТМ (в своем тер.банке)   \n\n                                       code_description  \n0                     Бакалейные магазины, супермаркеты  \n1     Звонки с использованием телефонов, считывающих...  \n2                     Бакалейные магазины, супермаркеты  \n3                     Бакалейные магазины, супермаркеты  \n4      Финансовые институты — снятие наличности вручную  \n...                                                 ...  \n5195  Финансовые институты — снятие наличности автом...  \n5196   Финансовые институты — снятие наличности вручную  \n5197  Финансовые институты — снятие наличности автом...  \n5198                  Бакалейные магазины, супермаркеты  \n5199  Финансовые институты — снятие наличности автом...  \n\n[5200 rows x 8 columns]",
      "text/html": "<div>\n<style scoped>\n    .dataframe tbody tr th:only-of-type {\n        vertical-align: middle;\n    }\n\n    .dataframe tbody tr th {\n        vertical-align: top;\n    }\n\n    .dataframe thead th {\n        text-align: right;\n    }\n</style>\n<table border=\"1\" class=\"dataframe\">\n  <thead>\n    <tr style=\"text-align: right;\">\n      <th></th>\n      <th>client_id</th>\n      <th>datetime</th>\n      <th>code</th>\n      <th>type</th>\n      <th>amount</th>\n      <th>target</th>\n      <th>type_description</th>\n      <th>code_description</th>\n    </tr>\n  </thead>\n  <tbody>\n    <tr>\n      <th>0</th>\n      <td>16004843</td>\n      <td>245 22:10:18</td>\n      <td>5411</td>\n      <td>1010</td>\n      <td>-7928.08</td>\n      <td>0</td>\n      <td>Покупка. POS</td>\n      <td>Бакалейные магазины, супермаркеты</td>\n    </tr>\n    <tr>\n      <th>1</th>\n      <td>20873616</td>\n      <td>433 07:44:21</td>\n      <td>4814</td>\n      <td>1030</td>\n      <td>-56.15</td>\n      <td>0</td>\n      <td>Оплата услуги. Банкоматы</td>\n      <td>Звонки с использованием телефонов, считывающих...</td>\n    </tr>\n    <tr>\n      <th>2</th>\n      <td>65231233</td>\n      <td>164 15:58:23</td>\n      <td>5411</td>\n      <td>1010</td>\n      <td>-4689.47</td>\n      <td>1</td>\n      <td>Покупка. POS</td>\n      <td>Бакалейные магазины, супермаркеты</td>\n    </tr>\n    <tr>\n      <th>3</th>\n      <td>29536165</td>\n      <td>413 11:47:51</td>\n      <td>5411</td>\n      <td>1010</td>\n      <td>-3703.52</td>\n      <td>1</td>\n      <td>Покупка. POS</td>\n      <td>Бакалейные магазины, супермаркеты</td>\n    </tr>\n    <tr>\n      <th>4</th>\n      <td>66473821</td>\n      <td>280 05:17:26</td>\n      <td>6010</td>\n      <td>7030</td>\n      <td>67377.47</td>\n      <td>1</td>\n      <td>Перевод на карту (с карты) через АТМ (в предел...</td>\n      <td>Финансовые институты — снятие наличности вручную</td>\n    </tr>\n    <tr>\n      <th>...</th>\n      <td>...</td>\n      <td>...</td>\n      <td>...</td>\n      <td>...</td>\n      <td>...</td>\n      <td>...</td>\n      <td>...</td>\n      <td>...</td>\n    </tr>\n    <tr>\n      <th>5195</th>\n      <td>66245004</td>\n      <td>14 13:42:20</td>\n      <td>6011</td>\n      <td>2010</td>\n      <td>-22459.16</td>\n      <td>1</td>\n      <td>Выдача наличных в АТМ</td>\n      <td>Финансовые институты — снятие наличности автом...</td>\n    </tr>\n    <tr>\n      <th>5196</th>\n      <td>46562431</td>\n      <td>441 19:23:14</td>\n      <td>6010</td>\n      <td>7070</td>\n      <td>44918.32</td>\n      <td>1</td>\n      <td>Перевод на карту (с карты) через Мобильный бан...</td>\n      <td>Финансовые институты — снятие наличности вручную</td>\n    </tr>\n    <tr>\n      <th>5197</th>\n      <td>64504493</td>\n      <td>224 12:36:21</td>\n      <td>6011</td>\n      <td>2010</td>\n      <td>-128017.20</td>\n      <td>1</td>\n      <td>Выдача наличных в АТМ</td>\n      <td>Финансовые институты — снятие наличности автом...</td>\n    </tr>\n    <tr>\n      <th>5198</th>\n      <td>47578863</td>\n      <td>264 17:24:29</td>\n      <td>5411</td>\n      <td>1010</td>\n      <td>-9334.03</td>\n      <td>1</td>\n      <td>Покупка. POS</td>\n      <td>Бакалейные магазины, супермаркеты</td>\n    </tr>\n    <tr>\n      <th>5199</th>\n      <td>61830325</td>\n      <td>9 09:48:56</td>\n      <td>6011</td>\n      <td>7010</td>\n      <td>11229.58</td>\n      <td>0</td>\n      <td>Взнос наличных через АТМ (в своем тер.банке)</td>\n      <td>Финансовые институты — снятие наличности автом...</td>\n    </tr>\n  </tbody>\n</table>\n<p>5200 rows × 8 columns</p>\n</div>"
     },
     "execution_count": 21,
     "metadata": {},
     "output_type": "execute_result"
    }
   ],
   "source": [
    "final = joined.join(codes.set_index('code'), on='code')\n",
    "final"
   ],
   "metadata": {
    "collapsed": false,
    "pycharm": {
     "name": "#%%\n"
    }
   }
  },
  {
   "cell_type": "code",
   "execution_count": 22,
   "outputs": [],
   "source": [
    "final.to_csv('C:/Users/nowic/Desktop/home_tasks/pets/sex_classifier/raw_data/final.csv', index=False)"
   ],
   "metadata": {
    "collapsed": false,
    "pycharm": {
     "name": "#%%\n"
    }
   }
  },
  {
   "cell_type": "code",
   "execution_count": null,
   "outputs": [],
   "source": [],
   "metadata": {
    "collapsed": false,
    "pycharm": {
     "name": "#%%\n"
    }
   }
  }
 ],
 "metadata": {
  "kernelspec": {
   "display_name": "Python 3",
   "language": "python",
   "name": "python3"
  },
  "language_info": {
   "codemirror_mode": {
    "name": "ipython",
    "version": 2
   },
   "file_extension": ".py",
   "mimetype": "text/x-python",
   "name": "python",
   "nbconvert_exporter": "python",
   "pygments_lexer": "ipython2",
   "version": "2.7.6"
  }
 },
 "nbformat": 4,
 "nbformat_minor": 0
}