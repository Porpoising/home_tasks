{
 "cells": [
  {
   "cell_type": "markdown",
   "source": [
    "# Purpose\n",
    "Predict total sales for every product and store in the next month"
   ],
   "metadata": {
    "collapsed": false,
    "pycharm": {
     "name": "#%% md\n"
    }
   }
  },
  {
   "cell_type": "code",
   "execution_count": 7,
   "outputs": [],
   "source": [
    "import pandas as pd\n",
    "import pyarrow as pa"
   ],
   "metadata": {
    "collapsed": false,
    "pycharm": {
     "name": "#%%\n"
    }
   }
  },
  {
   "cell_type": "markdown",
   "source": [
    "# Data lookup & preparation"
   ],
   "metadata": {
    "collapsed": false,
    "pycharm": {
     "name": "#%% md\n"
    }
   }
  },
  {
   "cell_type": "markdown",
   "source": [
    "## item_categories.csv\n",
    "Supplemental information about the items categories"
   ],
   "metadata": {
    "collapsed": false,
    "pycharm": {
     "name": "#%% md\n"
    }
   }
  },
  {
   "cell_type": "code",
   "execution_count": 8,
   "outputs": [
    {
     "data": {
      "text/plain": "           item_category_name  item_category_id\n0     PC - Гарнитуры/Наушники                 0\n1            Аксессуары - PS2                 1\n2            Аксессуары - PS3                 2\n3            Аксессуары - PS4                 3\n4            Аксессуары - PSP                 4\n..                        ...               ...\n79                  Служебные                79\n80         Служебные - Билеты                80\n81    Чистые носители (шпиль)                81\n82  Чистые носители (штучные)                82\n83           Элементы питания                83\n\n[84 rows x 2 columns]",
      "text/html": "<div>\n<style scoped>\n    .dataframe tbody tr th:only-of-type {\n        vertical-align: middle;\n    }\n\n    .dataframe tbody tr th {\n        vertical-align: top;\n    }\n\n    .dataframe thead th {\n        text-align: right;\n    }\n</style>\n<table border=\"1\" class=\"dataframe\">\n  <thead>\n    <tr style=\"text-align: right;\">\n      <th></th>\n      <th>item_category_name</th>\n      <th>item_category_id</th>\n    </tr>\n  </thead>\n  <tbody>\n    <tr>\n      <th>0</th>\n      <td>PC - Гарнитуры/Наушники</td>\n      <td>0</td>\n    </tr>\n    <tr>\n      <th>1</th>\n      <td>Аксессуары - PS2</td>\n      <td>1</td>\n    </tr>\n    <tr>\n      <th>2</th>\n      <td>Аксессуары - PS3</td>\n      <td>2</td>\n    </tr>\n    <tr>\n      <th>3</th>\n      <td>Аксессуары - PS4</td>\n      <td>3</td>\n    </tr>\n    <tr>\n      <th>4</th>\n      <td>Аксессуары - PSP</td>\n      <td>4</td>\n    </tr>\n    <tr>\n      <th>...</th>\n      <td>...</td>\n      <td>...</td>\n    </tr>\n    <tr>\n      <th>79</th>\n      <td>Служебные</td>\n      <td>79</td>\n    </tr>\n    <tr>\n      <th>80</th>\n      <td>Служебные - Билеты</td>\n      <td>80</td>\n    </tr>\n    <tr>\n      <th>81</th>\n      <td>Чистые носители (шпиль)</td>\n      <td>81</td>\n    </tr>\n    <tr>\n      <th>82</th>\n      <td>Чистые носители (штучные)</td>\n      <td>82</td>\n    </tr>\n    <tr>\n      <th>83</th>\n      <td>Элементы питания</td>\n      <td>83</td>\n    </tr>\n  </tbody>\n</table>\n<p>84 rows × 2 columns</p>\n</div>"
     },
     "execution_count": 8,
     "metadata": {},
     "output_type": "execute_result"
    }
   ],
   "source": [
    "# item_category_name - name of item category\n",
    "# item_category_id - unique identifier of item category\n",
    "item_categories = pd.read_csv('C:/Users/nowic/Desktop/Home tasks/Pets/Future Sales/Raw data preparation/item_categories.csv')\n",
    "item_categories"
   ],
   "metadata": {
    "collapsed": false,
    "pycharm": {
     "name": "#%%\n"
    }
   }
  },
  {
   "cell_type": "markdown",
   "source": [
    "### Info"
   ],
   "metadata": {
    "collapsed": false,
    "pycharm": {
     "name": "#%% md\n"
    }
   }
  },
  {
   "cell_type": "code",
   "execution_count": 9,
   "outputs": [
    {
     "name": "stdout",
     "output_type": "stream",
     "text": [
      "<class 'pandas.core.frame.DataFrame'>\n",
      "RangeIndex: 84 entries, 0 to 83\n",
      "Data columns (total 2 columns):\n",
      " #   Column              Non-Null Count  Dtype \n",
      "---  ------              --------------  ----- \n",
      " 0   item_category_name  84 non-null     object\n",
      " 1   item_category_id    84 non-null     int64 \n",
      "dtypes: int64(1), object(1)\n",
      "memory usage: 1.4+ KB\n"
     ]
    }
   ],
   "source": [
    "item_categories.info()"
   ],
   "metadata": {
    "collapsed": false,
    "pycharm": {
     "name": "#%%\n"
    }
   }
  },
  {
   "cell_type": "code",
   "execution_count": 10,
   "outputs": [
    {
     "data": {
      "text/plain": "83"
     },
     "execution_count": 10,
     "metadata": {},
     "output_type": "execute_result"
    }
   ],
   "source": [
    "item_categories['item_category_id'].max()"
   ],
   "metadata": {
    "collapsed": false,
    "pycharm": {
     "name": "#%%\n"
    }
   }
  },
  {
   "cell_type": "markdown",
   "source": [
    "### Type conversion + info"
   ],
   "metadata": {
    "collapsed": false,
    "pycharm": {
     "name": "#%% md\n"
    }
   },
   "execution_count": 1
  },
  {
   "cell_type": "code",
   "execution_count": 11,
   "outputs": [
    {
     "name": "stdout",
     "output_type": "stream",
     "text": [
      "<class 'pandas.core.frame.DataFrame'>\n",
      "RangeIndex: 84 entries, 0 to 83\n",
      "Data columns (total 2 columns):\n",
      " #   Column              Non-Null Count  Dtype \n",
      "---  ------              --------------  ----- \n",
      " 0   item_category_name  84 non-null     object\n",
      " 1   item_category_id    84 non-null     int16 \n",
      "dtypes: int16(1), object(1)\n",
      "memory usage: 968.0+ bytes\n"
     ]
    }
   ],
   "source": [
    "item_categories['item_category_id'] = item_categories['item_category_id'].astype('int16')\n",
    "item_categories.info()"
   ],
   "metadata": {
    "collapsed": false,
    "pycharm": {
     "name": "#%%\n"
    }
   }
  },
  {
   "cell_type": "markdown",
   "source": [
    "### Saving to .feather format"
   ],
   "metadata": {
    "collapsed": false,
    "pycharm": {
     "name": "#%% md\n"
    }
   }
  },
  {
   "cell_type": "code",
   "execution_count": 12,
   "outputs": [],
   "source": [
    "item_categories.to_feather('C:/Users/nowic/Desktop/Home tasks/Pets/Future Sales/EDA & feather data/item_categories.feather')"
   ],
   "metadata": {
    "collapsed": false,
    "pycharm": {
     "name": "#%%\n"
    }
   }
  },
  {
   "cell_type": "markdown",
   "source": [
    "## items.csv\n",
    "Supplemental information about the items/products"
   ],
   "metadata": {
    "collapsed": false,
    "pycharm": {
     "name": "#%% md\n"
    }
   }
  },
  {
   "cell_type": "code",
   "execution_count": 13,
   "outputs": [
    {
     "data": {
      "text/plain": "                                               item_name  item_id  \\\n0              ! ВО ВЛАСТИ НАВАЖДЕНИЯ (ПЛАСТ.)         D        0   \n1      !ABBYY FineReader 12 Professional Edition Full...        1   \n2          ***В ЛУЧАХ СЛАВЫ   (UNV)                    D        2   \n3        ***ГОЛУБАЯ ВОЛНА  (Univ)                      D        3   \n4            ***КОРОБКА (СТЕКЛО)                       D        4   \n...                                                  ...      ...   \n22165             Ядерный титбит 2 [PC, Цифровая версия]    22165   \n22166    Язык запросов 1С:Предприятия  [Цифровая версия]    22166   \n22167  Язык запросов 1С:Предприятия 8 (+CD). Хрустале...    22167   \n22168                                Яйцо для Little Inu    22168   \n22169                      Яйцо дракона (Игра престолов)    22169   \n\n       item_category_id  \n0                    40  \n1                    76  \n2                    40  \n3                    40  \n4                    40  \n...                 ...  \n22165                31  \n22166                54  \n22167                49  \n22168                62  \n22169                69  \n\n[22170 rows x 3 columns]",
      "text/html": "<div>\n<style scoped>\n    .dataframe tbody tr th:only-of-type {\n        vertical-align: middle;\n    }\n\n    .dataframe tbody tr th {\n        vertical-align: top;\n    }\n\n    .dataframe thead th {\n        text-align: right;\n    }\n</style>\n<table border=\"1\" class=\"dataframe\">\n  <thead>\n    <tr style=\"text-align: right;\">\n      <th></th>\n      <th>item_name</th>\n      <th>item_id</th>\n      <th>item_category_id</th>\n    </tr>\n  </thead>\n  <tbody>\n    <tr>\n      <th>0</th>\n      <td>! ВО ВЛАСТИ НАВАЖДЕНИЯ (ПЛАСТ.)         D</td>\n      <td>0</td>\n      <td>40</td>\n    </tr>\n    <tr>\n      <th>1</th>\n      <td>!ABBYY FineReader 12 Professional Edition Full...</td>\n      <td>1</td>\n      <td>76</td>\n    </tr>\n    <tr>\n      <th>2</th>\n      <td>***В ЛУЧАХ СЛАВЫ   (UNV)                    D</td>\n      <td>2</td>\n      <td>40</td>\n    </tr>\n    <tr>\n      <th>3</th>\n      <td>***ГОЛУБАЯ ВОЛНА  (Univ)                      D</td>\n      <td>3</td>\n      <td>40</td>\n    </tr>\n    <tr>\n      <th>4</th>\n      <td>***КОРОБКА (СТЕКЛО)                       D</td>\n      <td>4</td>\n      <td>40</td>\n    </tr>\n    <tr>\n      <th>...</th>\n      <td>...</td>\n      <td>...</td>\n      <td>...</td>\n    </tr>\n    <tr>\n      <th>22165</th>\n      <td>Ядерный титбит 2 [PC, Цифровая версия]</td>\n      <td>22165</td>\n      <td>31</td>\n    </tr>\n    <tr>\n      <th>22166</th>\n      <td>Язык запросов 1С:Предприятия  [Цифровая версия]</td>\n      <td>22166</td>\n      <td>54</td>\n    </tr>\n    <tr>\n      <th>22167</th>\n      <td>Язык запросов 1С:Предприятия 8 (+CD). Хрустале...</td>\n      <td>22167</td>\n      <td>49</td>\n    </tr>\n    <tr>\n      <th>22168</th>\n      <td>Яйцо для Little Inu</td>\n      <td>22168</td>\n      <td>62</td>\n    </tr>\n    <tr>\n      <th>22169</th>\n      <td>Яйцо дракона (Игра престолов)</td>\n      <td>22169</td>\n      <td>69</td>\n    </tr>\n  </tbody>\n</table>\n<p>22170 rows × 3 columns</p>\n</div>"
     },
     "execution_count": 13,
     "metadata": {},
     "output_type": "execute_result"
    }
   ],
   "source": [
    "# item_name - name of item\n",
    "# item_id - unique identifier of a product\n",
    "# item_category_id - unique identifier of item category\n",
    "items = pd.read_csv('C:/Users/nowic/Desktop/Home tasks/Pets/Future Sales/Raw data preparation/items.csv')\n",
    "items"
   ],
   "metadata": {
    "collapsed": false,
    "pycharm": {
     "name": "#%%\n"
    }
   }
  },
  {
   "cell_type": "markdown",
   "source": [
    "### Info"
   ],
   "metadata": {
    "collapsed": false,
    "pycharm": {
     "name": "#%% md\n"
    }
   }
  },
  {
   "cell_type": "code",
   "execution_count": 14,
   "outputs": [
    {
     "name": "stdout",
     "output_type": "stream",
     "text": [
      "<class 'pandas.core.frame.DataFrame'>\n",
      "RangeIndex: 22170 entries, 0 to 22169\n",
      "Data columns (total 3 columns):\n",
      " #   Column            Non-Null Count  Dtype \n",
      "---  ------            --------------  ----- \n",
      " 0   item_name         22170 non-null  object\n",
      " 1   item_id           22170 non-null  int64 \n",
      " 2   item_category_id  22170 non-null  int64 \n",
      "dtypes: int64(2), object(1)\n",
      "memory usage: 519.7+ KB\n"
     ]
    }
   ],
   "source": [
    "items.info()"
   ],
   "metadata": {
    "collapsed": false,
    "pycharm": {
     "name": "#%%\n"
    }
   }
  },
  {
   "cell_type": "markdown",
   "source": [
    "### Type conversion + info"
   ],
   "metadata": {
    "collapsed": false,
    "pycharm": {
     "name": "#%% md\n"
    }
   }
  },
  {
   "cell_type": "code",
   "execution_count": 15,
   "outputs": [
    {
     "name": "stdout",
     "output_type": "stream",
     "text": [
      "<class 'pandas.core.frame.DataFrame'>\n",
      "RangeIndex: 22170 entries, 0 to 22169\n",
      "Data columns (total 3 columns):\n",
      " #   Column            Non-Null Count  Dtype \n",
      "---  ------            --------------  ----- \n",
      " 0   item_name         22170 non-null  object\n",
      " 1   item_id           22170 non-null  int16 \n",
      " 2   item_category_id  22170 non-null  int16 \n",
      "dtypes: int16(2), object(1)\n",
      "memory usage: 259.9+ KB\n"
     ]
    }
   ],
   "source": [
    "items['item_category_id'] = items['item_category_id'].astype('int16')\n",
    "items['item_id'] = items['item_id'].astype('int16')\n",
    "items.info()"
   ],
   "metadata": {
    "collapsed": false,
    "pycharm": {
     "name": "#%%\n"
    }
   }
  },
  {
   "cell_type": "markdown",
   "source": [
    "### Saving to .feather format"
   ],
   "metadata": {
    "collapsed": false,
    "pycharm": {
     "name": "#%% md\n"
    }
   }
  },
  {
   "cell_type": "code",
   "execution_count": 16,
   "outputs": [],
   "source": [
    "items.to_feather('C:/Users/nowic/Desktop/Home tasks/Pets/Future Sales/EDA & feather data/items.feather')"
   ],
   "metadata": {
    "collapsed": false,
    "pycharm": {
     "name": "#%%\n"
    }
   }
  },
  {
   "cell_type": "markdown",
   "source": [
    "## sales_train.csv\n",
    "The training set. Daily historical data from January 2013 to October 2015"
   ],
   "metadata": {
    "collapsed": false,
    "pycharm": {
     "name": "#%% md\n"
    }
   }
  },
  {
   "cell_type": "code",
   "execution_count": 17,
   "outputs": [
    {
     "data": {
      "text/plain": "               date  date_block_num  shop_id  item_id  item_price  \\\n0        02.01.2013               0       59    22154      999.00   \n1        03.01.2013               0       25     2552      899.00   \n2        05.01.2013               0       25     2552      899.00   \n3        06.01.2013               0       25     2554     1709.05   \n4        15.01.2013               0       25     2555     1099.00   \n...             ...             ...      ...      ...         ...   \n2935844  10.10.2015              33       25     7409      299.00   \n2935845  09.10.2015              33       25     7460      299.00   \n2935846  14.10.2015              33       25     7459      349.00   \n2935847  22.10.2015              33       25     7440      299.00   \n2935848  03.10.2015              33       25     7460      299.00   \n\n         item_cnt_day  \n0                 1.0  \n1                 1.0  \n2                -1.0  \n3                 1.0  \n4                 1.0  \n...               ...  \n2935844           1.0  \n2935845           1.0  \n2935846           1.0  \n2935847           1.0  \n2935848           1.0  \n\n[2935849 rows x 6 columns]",
      "text/html": "<div>\n<style scoped>\n    .dataframe tbody tr th:only-of-type {\n        vertical-align: middle;\n    }\n\n    .dataframe tbody tr th {\n        vertical-align: top;\n    }\n\n    .dataframe thead th {\n        text-align: right;\n    }\n</style>\n<table border=\"1\" class=\"dataframe\">\n  <thead>\n    <tr style=\"text-align: right;\">\n      <th></th>\n      <th>date</th>\n      <th>date_block_num</th>\n      <th>shop_id</th>\n      <th>item_id</th>\n      <th>item_price</th>\n      <th>item_cnt_day</th>\n    </tr>\n  </thead>\n  <tbody>\n    <tr>\n      <th>0</th>\n      <td>02.01.2013</td>\n      <td>0</td>\n      <td>59</td>\n      <td>22154</td>\n      <td>999.00</td>\n      <td>1.0</td>\n    </tr>\n    <tr>\n      <th>1</th>\n      <td>03.01.2013</td>\n      <td>0</td>\n      <td>25</td>\n      <td>2552</td>\n      <td>899.00</td>\n      <td>1.0</td>\n    </tr>\n    <tr>\n      <th>2</th>\n      <td>05.01.2013</td>\n      <td>0</td>\n      <td>25</td>\n      <td>2552</td>\n      <td>899.00</td>\n      <td>-1.0</td>\n    </tr>\n    <tr>\n      <th>3</th>\n      <td>06.01.2013</td>\n      <td>0</td>\n      <td>25</td>\n      <td>2554</td>\n      <td>1709.05</td>\n      <td>1.0</td>\n    </tr>\n    <tr>\n      <th>4</th>\n      <td>15.01.2013</td>\n      <td>0</td>\n      <td>25</td>\n      <td>2555</td>\n      <td>1099.00</td>\n      <td>1.0</td>\n    </tr>\n    <tr>\n      <th>...</th>\n      <td>...</td>\n      <td>...</td>\n      <td>...</td>\n      <td>...</td>\n      <td>...</td>\n      <td>...</td>\n    </tr>\n    <tr>\n      <th>2935844</th>\n      <td>10.10.2015</td>\n      <td>33</td>\n      <td>25</td>\n      <td>7409</td>\n      <td>299.00</td>\n      <td>1.0</td>\n    </tr>\n    <tr>\n      <th>2935845</th>\n      <td>09.10.2015</td>\n      <td>33</td>\n      <td>25</td>\n      <td>7460</td>\n      <td>299.00</td>\n      <td>1.0</td>\n    </tr>\n    <tr>\n      <th>2935846</th>\n      <td>14.10.2015</td>\n      <td>33</td>\n      <td>25</td>\n      <td>7459</td>\n      <td>349.00</td>\n      <td>1.0</td>\n    </tr>\n    <tr>\n      <th>2935847</th>\n      <td>22.10.2015</td>\n      <td>33</td>\n      <td>25</td>\n      <td>7440</td>\n      <td>299.00</td>\n      <td>1.0</td>\n    </tr>\n    <tr>\n      <th>2935848</th>\n      <td>03.10.2015</td>\n      <td>33</td>\n      <td>25</td>\n      <td>7460</td>\n      <td>299.00</td>\n      <td>1.0</td>\n    </tr>\n  </tbody>\n</table>\n<p>2935849 rows × 6 columns</p>\n</div>"
     },
     "execution_count": 17,
     "metadata": {},
     "output_type": "execute_result"
    }
   ],
   "source": [
    "# date - date in format dd/mm/yyyy\n",
    "# date_block_num - a consecutive month number, used for convenience. January 2013 is 0, February 2013 is 1,..., October 2015 is 33\n",
    "# shop_id - unique identifier of a shop\n",
    "# item_id - unique identifier of a product\n",
    "# item_price - current price of an item\n",
    "# item_cnt_day - number of products sold. You are predicting a monthly amount of this measure\n",
    "sales_train = pd.read_csv('C:/Users/nowic/Desktop/Home tasks/Pets/Future Sales/Raw data preparation/sales_train.csv')\n",
    "sales_train"
   ],
   "metadata": {
    "collapsed": false,
    "pycharm": {
     "name": "#%%\n"
    }
   }
  },
  {
   "cell_type": "markdown",
   "source": [
    "### Info"
   ],
   "metadata": {
    "collapsed": false,
    "pycharm": {
     "name": "#%% md\n"
    }
   }
  },
  {
   "cell_type": "code",
   "execution_count": 18,
   "outputs": [
    {
     "name": "stdout",
     "output_type": "stream",
     "text": [
      "<class 'pandas.core.frame.DataFrame'>\n",
      "RangeIndex: 2935849 entries, 0 to 2935848\n",
      "Data columns (total 6 columns):\n",
      " #   Column          Dtype  \n",
      "---  ------          -----  \n",
      " 0   date            object \n",
      " 1   date_block_num  int64  \n",
      " 2   shop_id         int64  \n",
      " 3   item_id         int64  \n",
      " 4   item_price      float64\n",
      " 5   item_cnt_day    float64\n",
      "dtypes: float64(2), int64(3), object(1)\n",
      "memory usage: 134.4+ MB\n"
     ]
    }
   ],
   "source": [
    "sales_train.info()"
   ],
   "metadata": {
    "collapsed": false,
    "pycharm": {
     "name": "#%%\n"
    }
   }
  },
  {
   "cell_type": "markdown",
   "source": [
    "### Describe"
   ],
   "metadata": {
    "collapsed": false,
    "pycharm": {
     "name": "#%% md\n"
    }
   }
  },
  {
   "cell_type": "code",
   "execution_count": 19,
   "outputs": [
    {
     "data": {
      "text/plain": "       date_block_num       shop_id       item_id    item_price  item_cnt_day\ncount    2.935849e+06  2.935849e+06  2.935849e+06  2.935849e+06  2.935849e+06\nmean     1.456991e+01  3.300173e+01  1.019723e+04  8.908532e+02  1.242641e+00\nstd      9.422988e+00  1.622697e+01  6.324297e+03  1.729800e+03  2.618834e+00\nmin      0.000000e+00  0.000000e+00  0.000000e+00 -1.000000e+00 -2.200000e+01\n25%      7.000000e+00  2.200000e+01  4.476000e+03  2.490000e+02  1.000000e+00\n50%      1.400000e+01  3.100000e+01  9.343000e+03  3.990000e+02  1.000000e+00\n75%      2.300000e+01  4.700000e+01  1.568400e+04  9.990000e+02  1.000000e+00\nmax      3.300000e+01  5.900000e+01  2.216900e+04  3.079800e+05  2.169000e+03",
      "text/html": "<div>\n<style scoped>\n    .dataframe tbody tr th:only-of-type {\n        vertical-align: middle;\n    }\n\n    .dataframe tbody tr th {\n        vertical-align: top;\n    }\n\n    .dataframe thead th {\n        text-align: right;\n    }\n</style>\n<table border=\"1\" class=\"dataframe\">\n  <thead>\n    <tr style=\"text-align: right;\">\n      <th></th>\n      <th>date_block_num</th>\n      <th>shop_id</th>\n      <th>item_id</th>\n      <th>item_price</th>\n      <th>item_cnt_day</th>\n    </tr>\n  </thead>\n  <tbody>\n    <tr>\n      <th>count</th>\n      <td>2.935849e+06</td>\n      <td>2.935849e+06</td>\n      <td>2.935849e+06</td>\n      <td>2.935849e+06</td>\n      <td>2.935849e+06</td>\n    </tr>\n    <tr>\n      <th>mean</th>\n      <td>1.456991e+01</td>\n      <td>3.300173e+01</td>\n      <td>1.019723e+04</td>\n      <td>8.908532e+02</td>\n      <td>1.242641e+00</td>\n    </tr>\n    <tr>\n      <th>std</th>\n      <td>9.422988e+00</td>\n      <td>1.622697e+01</td>\n      <td>6.324297e+03</td>\n      <td>1.729800e+03</td>\n      <td>2.618834e+00</td>\n    </tr>\n    <tr>\n      <th>min</th>\n      <td>0.000000e+00</td>\n      <td>0.000000e+00</td>\n      <td>0.000000e+00</td>\n      <td>-1.000000e+00</td>\n      <td>-2.200000e+01</td>\n    </tr>\n    <tr>\n      <th>25%</th>\n      <td>7.000000e+00</td>\n      <td>2.200000e+01</td>\n      <td>4.476000e+03</td>\n      <td>2.490000e+02</td>\n      <td>1.000000e+00</td>\n    </tr>\n    <tr>\n      <th>50%</th>\n      <td>1.400000e+01</td>\n      <td>3.100000e+01</td>\n      <td>9.343000e+03</td>\n      <td>3.990000e+02</td>\n      <td>1.000000e+00</td>\n    </tr>\n    <tr>\n      <th>75%</th>\n      <td>2.300000e+01</td>\n      <td>4.700000e+01</td>\n      <td>1.568400e+04</td>\n      <td>9.990000e+02</td>\n      <td>1.000000e+00</td>\n    </tr>\n    <tr>\n      <th>max</th>\n      <td>3.300000e+01</td>\n      <td>5.900000e+01</td>\n      <td>2.216900e+04</td>\n      <td>3.079800e+05</td>\n      <td>2.169000e+03</td>\n    </tr>\n  </tbody>\n</table>\n</div>"
     },
     "execution_count": 19,
     "metadata": {},
     "output_type": "execute_result"
    }
   ],
   "source": [
    "sales_train.describe()"
   ],
   "metadata": {
    "collapsed": false,
    "pycharm": {
     "name": "#%%\n"
    }
   }
  },
  {
   "cell_type": "markdown",
   "source": [
    "### Type conversion + info"
   ],
   "metadata": {
    "collapsed": false,
    "pycharm": {
     "name": "#%% md\n"
    }
   }
  },
  {
   "cell_type": "code",
   "execution_count": 20,
   "outputs": [
    {
     "name": "stdout",
     "output_type": "stream",
     "text": [
      "<class 'pandas.core.frame.DataFrame'>\n",
      "RangeIndex: 2935849 entries, 0 to 2935848\n",
      "Data columns (total 6 columns):\n",
      " #   Column          Dtype  \n",
      "---  ------          -----  \n",
      " 0   date            object \n",
      " 1   date_block_num  int16  \n",
      " 2   shop_id         int16  \n",
      " 3   item_id         int16  \n",
      " 4   item_price      float32\n",
      " 5   item_cnt_day    float32\n",
      "dtypes: float32(2), int16(3), object(1)\n",
      "memory usage: 61.6+ MB\n"
     ]
    }
   ],
   "source": [
    "sales_train['date_block_num'] = sales_train['date_block_num'].astype('int16')\n",
    "sales_train['shop_id'] = sales_train['shop_id'].astype('int16')\n",
    "sales_train['item_id'] = sales_train['item_id'].astype('int16')\n",
    "sales_train['item_price'] = sales_train['item_price'].astype('float32')\n",
    "sales_train['item_cnt_day'] = sales_train['item_cnt_day'].astype('float32')\n",
    "sales_train.info()"
   ],
   "metadata": {
    "collapsed": false,
    "pycharm": {
     "name": "#%%\n"
    }
   }
  },
  {
   "cell_type": "markdown",
   "source": [
    "### Saving to .feather format"
   ],
   "metadata": {
    "collapsed": false,
    "pycharm": {
     "name": "#%% md\n"
    }
   }
  },
  {
   "cell_type": "code",
   "execution_count": 21,
   "outputs": [],
   "source": [
    "sales_train.to_feather('C:/Users/nowic/Desktop/Home tasks/Pets/Future Sales/EDA & feather data/sales_train.feather')"
   ],
   "metadata": {
    "collapsed": false,
    "pycharm": {
     "name": "#%%\n"
    }
   }
  },
  {
   "cell_type": "markdown",
   "source": [
    "## sample_submission.csv\n",
    "A sample submission file in the correct format"
   ],
   "metadata": {
    "collapsed": false,
    "pycharm": {
     "name": "#%% md\n"
    }
   }
  },
  {
   "cell_type": "code",
   "execution_count": 22,
   "outputs": [
    {
     "data": {
      "text/plain": "            ID  item_cnt_month\n0            0             0.5\n1            1             0.5\n2            2             0.5\n3            3             0.5\n4            4             0.5\n...        ...             ...\n214195  214195             0.5\n214196  214196             0.5\n214197  214197             0.5\n214198  214198             0.5\n214199  214199             0.5\n\n[214200 rows x 2 columns]",
      "text/html": "<div>\n<style scoped>\n    .dataframe tbody tr th:only-of-type {\n        vertical-align: middle;\n    }\n\n    .dataframe tbody tr th {\n        vertical-align: top;\n    }\n\n    .dataframe thead th {\n        text-align: right;\n    }\n</style>\n<table border=\"1\" class=\"dataframe\">\n  <thead>\n    <tr style=\"text-align: right;\">\n      <th></th>\n      <th>ID</th>\n      <th>item_cnt_month</th>\n    </tr>\n  </thead>\n  <tbody>\n    <tr>\n      <th>0</th>\n      <td>0</td>\n      <td>0.5</td>\n    </tr>\n    <tr>\n      <th>1</th>\n      <td>1</td>\n      <td>0.5</td>\n    </tr>\n    <tr>\n      <th>2</th>\n      <td>2</td>\n      <td>0.5</td>\n    </tr>\n    <tr>\n      <th>3</th>\n      <td>3</td>\n      <td>0.5</td>\n    </tr>\n    <tr>\n      <th>4</th>\n      <td>4</td>\n      <td>0.5</td>\n    </tr>\n    <tr>\n      <th>...</th>\n      <td>...</td>\n      <td>...</td>\n    </tr>\n    <tr>\n      <th>214195</th>\n      <td>214195</td>\n      <td>0.5</td>\n    </tr>\n    <tr>\n      <th>214196</th>\n      <td>214196</td>\n      <td>0.5</td>\n    </tr>\n    <tr>\n      <th>214197</th>\n      <td>214197</td>\n      <td>0.5</td>\n    </tr>\n    <tr>\n      <th>214198</th>\n      <td>214198</td>\n      <td>0.5</td>\n    </tr>\n    <tr>\n      <th>214199</th>\n      <td>214199</td>\n      <td>0.5</td>\n    </tr>\n  </tbody>\n</table>\n<p>214200 rows × 2 columns</p>\n</div>"
     },
     "execution_count": 22,
     "metadata": {},
     "output_type": "execute_result"
    }
   ],
   "source": [
    "# ID - an Id that represents a (Shop, Item) tuple within the test set\n",
    "# item_cnt_month - ???\n",
    "sample_submission = pd.read_csv('C:/Users/nowic/Desktop/Home tasks/Pets/Future Sales/Raw data preparation/sample_submission.csv')\n",
    "sample_submission"
   ],
   "metadata": {
    "collapsed": false,
    "pycharm": {
     "name": "#%%\n"
    }
   }
  },
  {
   "cell_type": "markdown",
   "source": [
    "### Info"
   ],
   "metadata": {
    "collapsed": false,
    "pycharm": {
     "name": "#%% md\n"
    }
   }
  },
  {
   "cell_type": "code",
   "execution_count": 23,
   "outputs": [
    {
     "name": "stdout",
     "output_type": "stream",
     "text": [
      "<class 'pandas.core.frame.DataFrame'>\n",
      "RangeIndex: 214200 entries, 0 to 214199\n",
      "Data columns (total 2 columns):\n",
      " #   Column          Non-Null Count   Dtype  \n",
      "---  ------          --------------   -----  \n",
      " 0   ID              214200 non-null  int64  \n",
      " 1   item_cnt_month  214200 non-null  float64\n",
      "dtypes: float64(1), int64(1)\n",
      "memory usage: 3.3 MB\n"
     ]
    }
   ],
   "source": [
    "sample_submission.info()"
   ],
   "metadata": {
    "collapsed": false,
    "pycharm": {
     "name": "#%%\n"
    }
   }
  },
  {
   "cell_type": "markdown",
   "source": [
    "### Describe"
   ],
   "metadata": {
    "collapsed": false,
    "pycharm": {
     "name": "#%% md\n"
    }
   }
  },
  {
   "cell_type": "code",
   "execution_count": 24,
   "outputs": [
    {
     "data": {
      "text/plain": "                  ID  item_cnt_month\ncount  214200.000000        214200.0\nmean   107099.500000             0.5\nstd     61834.358168             0.0\nmin         0.000000             0.5\n25%     53549.750000             0.5\n50%    107099.500000             0.5\n75%    160649.250000             0.5\nmax    214199.000000             0.5",
      "text/html": "<div>\n<style scoped>\n    .dataframe tbody tr th:only-of-type {\n        vertical-align: middle;\n    }\n\n    .dataframe tbody tr th {\n        vertical-align: top;\n    }\n\n    .dataframe thead th {\n        text-align: right;\n    }\n</style>\n<table border=\"1\" class=\"dataframe\">\n  <thead>\n    <tr style=\"text-align: right;\">\n      <th></th>\n      <th>ID</th>\n      <th>item_cnt_month</th>\n    </tr>\n  </thead>\n  <tbody>\n    <tr>\n      <th>count</th>\n      <td>214200.000000</td>\n      <td>214200.0</td>\n    </tr>\n    <tr>\n      <th>mean</th>\n      <td>107099.500000</td>\n      <td>0.5</td>\n    </tr>\n    <tr>\n      <th>std</th>\n      <td>61834.358168</td>\n      <td>0.0</td>\n    </tr>\n    <tr>\n      <th>min</th>\n      <td>0.000000</td>\n      <td>0.5</td>\n    </tr>\n    <tr>\n      <th>25%</th>\n      <td>53549.750000</td>\n      <td>0.5</td>\n    </tr>\n    <tr>\n      <th>50%</th>\n      <td>107099.500000</td>\n      <td>0.5</td>\n    </tr>\n    <tr>\n      <th>75%</th>\n      <td>160649.250000</td>\n      <td>0.5</td>\n    </tr>\n    <tr>\n      <th>max</th>\n      <td>214199.000000</td>\n      <td>0.5</td>\n    </tr>\n  </tbody>\n</table>\n</div>"
     },
     "execution_count": 24,
     "metadata": {},
     "output_type": "execute_result"
    }
   ],
   "source": [
    "sample_submission.describe()"
   ],
   "metadata": {
    "collapsed": false,
    "pycharm": {
     "name": "#%%\n"
    }
   }
  },
  {
   "cell_type": "markdown",
   "source": [
    "### Type conversion + info"
   ],
   "metadata": {
    "collapsed": false,
    "pycharm": {
     "name": "#%% md\n"
    }
   }
  },
  {
   "cell_type": "code",
   "execution_count": 25,
   "outputs": [
    {
     "name": "stdout",
     "output_type": "stream",
     "text": [
      "<class 'pandas.core.frame.DataFrame'>\n",
      "RangeIndex: 214200 entries, 0 to 214199\n",
      "Data columns (total 2 columns):\n",
      " #   Column          Non-Null Count   Dtype  \n",
      "---  ------          --------------   -----  \n",
      " 0   ID              214200 non-null  int32  \n",
      " 1   item_cnt_month  214200 non-null  float32\n",
      "dtypes: float32(1), int32(1)\n",
      "memory usage: 1.6 MB\n"
     ]
    }
   ],
   "source": [
    "sample_submission['ID'] = sample_submission['ID'].astype('int32')\n",
    "sample_submission['item_cnt_month'] = sample_submission['item_cnt_month'].astype('float32')\n",
    "sample_submission.info()"
   ],
   "metadata": {
    "collapsed": false,
    "pycharm": {
     "name": "#%%\n"
    }
   }
  },
  {
   "cell_type": "markdown",
   "source": [
    "### Saving to .feather format"
   ],
   "metadata": {
    "collapsed": false,
    "pycharm": {
     "name": "#%% md\n"
    }
   }
  },
  {
   "cell_type": "code",
   "execution_count": 26,
   "outputs": [],
   "source": [
    "sample_submission.to_feather('C:/Users/nowic/Desktop/Home tasks/Pets/Future Sales/EDA & feather data/sample_submission.feather')"
   ],
   "metadata": {
    "collapsed": false,
    "pycharm": {
     "name": "#%%\n"
    }
   }
  },
  {
   "cell_type": "markdown",
   "source": [
    "## shops.csv\n",
    "Supplemental information about the shops"
   ],
   "metadata": {
    "collapsed": false,
    "pycharm": {
     "name": "#%% md\n"
    }
   }
  },
  {
   "cell_type": "code",
   "execution_count": 27,
   "outputs": [
    {
     "data": {
      "text/plain": "                                          shop_name  shop_id\n0                     !Якутск Орджоникидзе, 56 фран        0\n1                     !Якутск ТЦ \"Центральный\" фран        1\n2                                  Адыгея ТЦ \"Мега\"        2\n3                    Балашиха ТРК \"Октябрь-Киномир\"        3\n4                          Волжский ТЦ \"Волга Молл\"        4\n5                            Вологда ТРЦ \"Мармелад\"        5\n6                        Воронеж (Плехановская, 13)        6\n7                            Воронеж ТРЦ \"Максимир\"        7\n8                      Воронеж ТРЦ Сити-Парк \"Град\"        8\n9                                 Выездная Торговля        9\n10                       Жуковский ул. Чкалова 39м?       10\n11                       Жуковский ул. Чкалова 39м²       11\n12                              Интернет-магазин ЧС       12\n13                              Казань ТЦ \"Бехетле\"       13\n14                          Казань ТЦ \"ПаркХаус\" II       14\n15                             Калуга ТРЦ \"XXI век\"       15\n16                                 Коломна ТЦ \"Рио\"       16\n17                    Красноярск ТЦ \"Взлетка Плаза\"       17\n18                             Красноярск ТЦ \"Июнь\"       18\n19                            Курск ТЦ \"Пушкинский\"       19\n20                              Москва \"Распродажа\"       20\n21                           Москва МТРЦ \"Афи Молл\"       21\n22                               Москва Магазин С21       22\n23                 Москва ТК \"Буденовский\" (пав.А2)       23\n24                 Москва ТК \"Буденовский\" (пав.К7)       24\n25                              Москва ТРК \"Атриум\"       25\n26                      Москва ТЦ \"Ареал\" (Беляево)       26\n27                   Москва ТЦ \"МЕГА Белая Дача II\"       27\n28                  Москва ТЦ \"МЕГА Теплый Стан\" II       28\n29               Москва ТЦ \"Новый век\" (Новокосино)       29\n30                           Москва ТЦ \"Перловский\"       30\n31                          Москва ТЦ \"Семеновский\"       31\n32                       Москва ТЦ \"Серебряный Дом\"       32\n33                                Мытищи ТРК \"XL-3\"       33\n34                             Н.Новгород ТРЦ \"РИО\"       34\n35                      Н.Новгород ТРЦ \"Фантастика\"       35\n36            Новосибирск ТРЦ \"Галерея Новосибирск\"       36\n37                            Новосибирск ТЦ \"Мега\"       37\n38                                   Омск ТЦ \"Мега\"       38\n39            РостовНаДону ТРК \"Мегацентр Горизонт\"       39\n40  РостовНаДону ТРК \"Мегацентр Горизонт\" Островной       40\n41                           РостовНаДону ТЦ \"Мега\"       41\n42                           СПб ТК \"Невский Центр\"       42\n43                                  СПб ТК \"Сенная\"       43\n44                              Самара ТЦ \"Мелодия\"       44\n45                             Самара ТЦ \"ПаркХаус\"       45\n46                            Сергиев Посад ТЦ \"7Я\"       46\n47                           Сургут ТРЦ \"Сити Молл\"       47\n48                     Томск ТРЦ \"Изумрудный Город\"       48\n49                            Тюмень ТРЦ \"Кристалл\"       49\n50                               Тюмень ТЦ \"Гудвин\"       50\n51                        Тюмень ТЦ \"Зеленый Берег\"       51\n52                             Уфа ТК \"Центральный\"       52\n53                                 Уфа ТЦ \"Семья\" 2       53\n54                                  Химки ТЦ \"Мега\"       54\n55                         Цифровой склад 1С-Онлайн       55\n56                             Чехов ТРЦ \"Карнавал\"       56\n57                          Якутск Орджоникидзе, 56       57\n58                          Якутск ТЦ \"Центральный\"       58\n59                           Ярославль ТЦ \"Альтаир\"       59",
      "text/html": "<div>\n<style scoped>\n    .dataframe tbody tr th:only-of-type {\n        vertical-align: middle;\n    }\n\n    .dataframe tbody tr th {\n        vertical-align: top;\n    }\n\n    .dataframe thead th {\n        text-align: right;\n    }\n</style>\n<table border=\"1\" class=\"dataframe\">\n  <thead>\n    <tr style=\"text-align: right;\">\n      <th></th>\n      <th>shop_name</th>\n      <th>shop_id</th>\n    </tr>\n  </thead>\n  <tbody>\n    <tr>\n      <th>0</th>\n      <td>!Якутск Орджоникидзе, 56 фран</td>\n      <td>0</td>\n    </tr>\n    <tr>\n      <th>1</th>\n      <td>!Якутск ТЦ \"Центральный\" фран</td>\n      <td>1</td>\n    </tr>\n    <tr>\n      <th>2</th>\n      <td>Адыгея ТЦ \"Мега\"</td>\n      <td>2</td>\n    </tr>\n    <tr>\n      <th>3</th>\n      <td>Балашиха ТРК \"Октябрь-Киномир\"</td>\n      <td>3</td>\n    </tr>\n    <tr>\n      <th>4</th>\n      <td>Волжский ТЦ \"Волга Молл\"</td>\n      <td>4</td>\n    </tr>\n    <tr>\n      <th>5</th>\n      <td>Вологда ТРЦ \"Мармелад\"</td>\n      <td>5</td>\n    </tr>\n    <tr>\n      <th>6</th>\n      <td>Воронеж (Плехановская, 13)</td>\n      <td>6</td>\n    </tr>\n    <tr>\n      <th>7</th>\n      <td>Воронеж ТРЦ \"Максимир\"</td>\n      <td>7</td>\n    </tr>\n    <tr>\n      <th>8</th>\n      <td>Воронеж ТРЦ Сити-Парк \"Град\"</td>\n      <td>8</td>\n    </tr>\n    <tr>\n      <th>9</th>\n      <td>Выездная Торговля</td>\n      <td>9</td>\n    </tr>\n    <tr>\n      <th>10</th>\n      <td>Жуковский ул. Чкалова 39м?</td>\n      <td>10</td>\n    </tr>\n    <tr>\n      <th>11</th>\n      <td>Жуковский ул. Чкалова 39м²</td>\n      <td>11</td>\n    </tr>\n    <tr>\n      <th>12</th>\n      <td>Интернет-магазин ЧС</td>\n      <td>12</td>\n    </tr>\n    <tr>\n      <th>13</th>\n      <td>Казань ТЦ \"Бехетле\"</td>\n      <td>13</td>\n    </tr>\n    <tr>\n      <th>14</th>\n      <td>Казань ТЦ \"ПаркХаус\" II</td>\n      <td>14</td>\n    </tr>\n    <tr>\n      <th>15</th>\n      <td>Калуга ТРЦ \"XXI век\"</td>\n      <td>15</td>\n    </tr>\n    <tr>\n      <th>16</th>\n      <td>Коломна ТЦ \"Рио\"</td>\n      <td>16</td>\n    </tr>\n    <tr>\n      <th>17</th>\n      <td>Красноярск ТЦ \"Взлетка Плаза\"</td>\n      <td>17</td>\n    </tr>\n    <tr>\n      <th>18</th>\n      <td>Красноярск ТЦ \"Июнь\"</td>\n      <td>18</td>\n    </tr>\n    <tr>\n      <th>19</th>\n      <td>Курск ТЦ \"Пушкинский\"</td>\n      <td>19</td>\n    </tr>\n    <tr>\n      <th>20</th>\n      <td>Москва \"Распродажа\"</td>\n      <td>20</td>\n    </tr>\n    <tr>\n      <th>21</th>\n      <td>Москва МТРЦ \"Афи Молл\"</td>\n      <td>21</td>\n    </tr>\n    <tr>\n      <th>22</th>\n      <td>Москва Магазин С21</td>\n      <td>22</td>\n    </tr>\n    <tr>\n      <th>23</th>\n      <td>Москва ТК \"Буденовский\" (пав.А2)</td>\n      <td>23</td>\n    </tr>\n    <tr>\n      <th>24</th>\n      <td>Москва ТК \"Буденовский\" (пав.К7)</td>\n      <td>24</td>\n    </tr>\n    <tr>\n      <th>25</th>\n      <td>Москва ТРК \"Атриум\"</td>\n      <td>25</td>\n    </tr>\n    <tr>\n      <th>26</th>\n      <td>Москва ТЦ \"Ареал\" (Беляево)</td>\n      <td>26</td>\n    </tr>\n    <tr>\n      <th>27</th>\n      <td>Москва ТЦ \"МЕГА Белая Дача II\"</td>\n      <td>27</td>\n    </tr>\n    <tr>\n      <th>28</th>\n      <td>Москва ТЦ \"МЕГА Теплый Стан\" II</td>\n      <td>28</td>\n    </tr>\n    <tr>\n      <th>29</th>\n      <td>Москва ТЦ \"Новый век\" (Новокосино)</td>\n      <td>29</td>\n    </tr>\n    <tr>\n      <th>30</th>\n      <td>Москва ТЦ \"Перловский\"</td>\n      <td>30</td>\n    </tr>\n    <tr>\n      <th>31</th>\n      <td>Москва ТЦ \"Семеновский\"</td>\n      <td>31</td>\n    </tr>\n    <tr>\n      <th>32</th>\n      <td>Москва ТЦ \"Серебряный Дом\"</td>\n      <td>32</td>\n    </tr>\n    <tr>\n      <th>33</th>\n      <td>Мытищи ТРК \"XL-3\"</td>\n      <td>33</td>\n    </tr>\n    <tr>\n      <th>34</th>\n      <td>Н.Новгород ТРЦ \"РИО\"</td>\n      <td>34</td>\n    </tr>\n    <tr>\n      <th>35</th>\n      <td>Н.Новгород ТРЦ \"Фантастика\"</td>\n      <td>35</td>\n    </tr>\n    <tr>\n      <th>36</th>\n      <td>Новосибирск ТРЦ \"Галерея Новосибирск\"</td>\n      <td>36</td>\n    </tr>\n    <tr>\n      <th>37</th>\n      <td>Новосибирск ТЦ \"Мега\"</td>\n      <td>37</td>\n    </tr>\n    <tr>\n      <th>38</th>\n      <td>Омск ТЦ \"Мега\"</td>\n      <td>38</td>\n    </tr>\n    <tr>\n      <th>39</th>\n      <td>РостовНаДону ТРК \"Мегацентр Горизонт\"</td>\n      <td>39</td>\n    </tr>\n    <tr>\n      <th>40</th>\n      <td>РостовНаДону ТРК \"Мегацентр Горизонт\" Островной</td>\n      <td>40</td>\n    </tr>\n    <tr>\n      <th>41</th>\n      <td>РостовНаДону ТЦ \"Мега\"</td>\n      <td>41</td>\n    </tr>\n    <tr>\n      <th>42</th>\n      <td>СПб ТК \"Невский Центр\"</td>\n      <td>42</td>\n    </tr>\n    <tr>\n      <th>43</th>\n      <td>СПб ТК \"Сенная\"</td>\n      <td>43</td>\n    </tr>\n    <tr>\n      <th>44</th>\n      <td>Самара ТЦ \"Мелодия\"</td>\n      <td>44</td>\n    </tr>\n    <tr>\n      <th>45</th>\n      <td>Самара ТЦ \"ПаркХаус\"</td>\n      <td>45</td>\n    </tr>\n    <tr>\n      <th>46</th>\n      <td>Сергиев Посад ТЦ \"7Я\"</td>\n      <td>46</td>\n    </tr>\n    <tr>\n      <th>47</th>\n      <td>Сургут ТРЦ \"Сити Молл\"</td>\n      <td>47</td>\n    </tr>\n    <tr>\n      <th>48</th>\n      <td>Томск ТРЦ \"Изумрудный Город\"</td>\n      <td>48</td>\n    </tr>\n    <tr>\n      <th>49</th>\n      <td>Тюмень ТРЦ \"Кристалл\"</td>\n      <td>49</td>\n    </tr>\n    <tr>\n      <th>50</th>\n      <td>Тюмень ТЦ \"Гудвин\"</td>\n      <td>50</td>\n    </tr>\n    <tr>\n      <th>51</th>\n      <td>Тюмень ТЦ \"Зеленый Берег\"</td>\n      <td>51</td>\n    </tr>\n    <tr>\n      <th>52</th>\n      <td>Уфа ТК \"Центральный\"</td>\n      <td>52</td>\n    </tr>\n    <tr>\n      <th>53</th>\n      <td>Уфа ТЦ \"Семья\" 2</td>\n      <td>53</td>\n    </tr>\n    <tr>\n      <th>54</th>\n      <td>Химки ТЦ \"Мега\"</td>\n      <td>54</td>\n    </tr>\n    <tr>\n      <th>55</th>\n      <td>Цифровой склад 1С-Онлайн</td>\n      <td>55</td>\n    </tr>\n    <tr>\n      <th>56</th>\n      <td>Чехов ТРЦ \"Карнавал\"</td>\n      <td>56</td>\n    </tr>\n    <tr>\n      <th>57</th>\n      <td>Якутск Орджоникидзе, 56</td>\n      <td>57</td>\n    </tr>\n    <tr>\n      <th>58</th>\n      <td>Якутск ТЦ \"Центральный\"</td>\n      <td>58</td>\n    </tr>\n    <tr>\n      <th>59</th>\n      <td>Ярославль ТЦ \"Альтаир\"</td>\n      <td>59</td>\n    </tr>\n  </tbody>\n</table>\n</div>"
     },
     "execution_count": 27,
     "metadata": {},
     "output_type": "execute_result"
    }
   ],
   "source": [
    "# shop_name - name of shop\n",
    "# shop_id - unique identifier of a shop\n",
    "shops = pd.read_csv('C:/Users/nowic/Desktop/Home tasks/Pets/Future Sales/Raw data preparation/shops.csv')\n",
    "shops"
   ],
   "metadata": {
    "collapsed": false,
    "pycharm": {
     "name": "#%%\n"
    }
   }
  },
  {
   "cell_type": "code",
   "execution_count": 28,
   "outputs": [
    {
     "data": {
      "text/plain": "59"
     },
     "execution_count": 28,
     "metadata": {},
     "output_type": "execute_result"
    }
   ],
   "source": [
    "shops['shop_id'].max()"
   ],
   "metadata": {
    "collapsed": false,
    "pycharm": {
     "name": "#%%\n"
    }
   }
  },
  {
   "cell_type": "markdown",
   "source": [
    "### Type conversion + info"
   ],
   "metadata": {
    "collapsed": false,
    "pycharm": {
     "name": "#%% md\n"
    }
   }
  },
  {
   "cell_type": "code",
   "execution_count": 29,
   "outputs": [
    {
     "name": "stdout",
     "output_type": "stream",
     "text": [
      "<class 'pandas.core.frame.DataFrame'>\n",
      "RangeIndex: 60 entries, 0 to 59\n",
      "Data columns (total 2 columns):\n",
      " #   Column     Non-Null Count  Dtype \n",
      "---  ------     --------------  ----- \n",
      " 0   shop_name  60 non-null     object\n",
      " 1   shop_id    60 non-null     int16 \n",
      "dtypes: int16(1), object(1)\n",
      "memory usage: 728.0+ bytes\n"
     ]
    }
   ],
   "source": [
    "shops['shop_id'] = shops['shop_id'].astype('int16')\n",
    "shops.info()"
   ],
   "metadata": {
    "collapsed": false,
    "pycharm": {
     "name": "#%%\n"
    }
   }
  },
  {
   "cell_type": "markdown",
   "source": [
    "### Saving to .feather format"
   ],
   "metadata": {
    "collapsed": false,
    "pycharm": {
     "name": "#%% md\n"
    }
   }
  },
  {
   "cell_type": "code",
   "execution_count": 30,
   "outputs": [],
   "source": [
    "shops.to_feather('C:/Users/nowic/Desktop/Home tasks/Pets/Future Sales/EDA & feather data/shops.feather')"
   ],
   "metadata": {
    "collapsed": false,
    "pycharm": {
     "name": "#%%\n"
    }
   }
  },
  {
   "cell_type": "markdown",
   "source": [
    "## test.csv\n",
    "The test set. You need to forecast the sales for these shops and products for November 2015"
   ],
   "metadata": {
    "collapsed": false,
    "pycharm": {
     "name": "#%% md\n"
    }
   }
  },
  {
   "cell_type": "code",
   "execution_count": 31,
   "outputs": [
    {
     "data": {
      "text/plain": "            ID  shop_id  item_id\n0            0        5     5037\n1            1        5     5320\n2            2        5     5233\n3            3        5     5232\n4            4        5     5268\n...        ...      ...      ...\n214195  214195       45    18454\n214196  214196       45    16188\n214197  214197       45    15757\n214198  214198       45    19648\n214199  214199       45      969\n\n[214200 rows x 3 columns]",
      "text/html": "<div>\n<style scoped>\n    .dataframe tbody tr th:only-of-type {\n        vertical-align: middle;\n    }\n\n    .dataframe tbody tr th {\n        vertical-align: top;\n    }\n\n    .dataframe thead th {\n        text-align: right;\n    }\n</style>\n<table border=\"1\" class=\"dataframe\">\n  <thead>\n    <tr style=\"text-align: right;\">\n      <th></th>\n      <th>ID</th>\n      <th>shop_id</th>\n      <th>item_id</th>\n    </tr>\n  </thead>\n  <tbody>\n    <tr>\n      <th>0</th>\n      <td>0</td>\n      <td>5</td>\n      <td>5037</td>\n    </tr>\n    <tr>\n      <th>1</th>\n      <td>1</td>\n      <td>5</td>\n      <td>5320</td>\n    </tr>\n    <tr>\n      <th>2</th>\n      <td>2</td>\n      <td>5</td>\n      <td>5233</td>\n    </tr>\n    <tr>\n      <th>3</th>\n      <td>3</td>\n      <td>5</td>\n      <td>5232</td>\n    </tr>\n    <tr>\n      <th>4</th>\n      <td>4</td>\n      <td>5</td>\n      <td>5268</td>\n    </tr>\n    <tr>\n      <th>...</th>\n      <td>...</td>\n      <td>...</td>\n      <td>...</td>\n    </tr>\n    <tr>\n      <th>214195</th>\n      <td>214195</td>\n      <td>45</td>\n      <td>18454</td>\n    </tr>\n    <tr>\n      <th>214196</th>\n      <td>214196</td>\n      <td>45</td>\n      <td>16188</td>\n    </tr>\n    <tr>\n      <th>214197</th>\n      <td>214197</td>\n      <td>45</td>\n      <td>15757</td>\n    </tr>\n    <tr>\n      <th>214198</th>\n      <td>214198</td>\n      <td>45</td>\n      <td>19648</td>\n    </tr>\n    <tr>\n      <th>214199</th>\n      <td>214199</td>\n      <td>45</td>\n      <td>969</td>\n    </tr>\n  </tbody>\n</table>\n<p>214200 rows × 3 columns</p>\n</div>"
     },
     "execution_count": 31,
     "metadata": {},
     "output_type": "execute_result"
    }
   ],
   "source": [
    "# ID - an Id that represents a (Shop, Item) tuple within the test set\n",
    "# shop_id - unique identifier of a shop\n",
    "# item_id - unique identifier of a product\n",
    "test = pd.read_csv('C:/Users/nowic/Desktop/Home tasks/Pets/Future Sales/Raw data preparation/test.csv')\n",
    "test"
   ],
   "metadata": {
    "collapsed": false,
    "pycharm": {
     "name": "#%%\n"
    }
   }
  },
  {
   "cell_type": "markdown",
   "source": [
    "### Info"
   ],
   "metadata": {
    "collapsed": false,
    "pycharm": {
     "name": "#%% md\n"
    }
   }
  },
  {
   "cell_type": "code",
   "execution_count": 32,
   "outputs": [
    {
     "name": "stdout",
     "output_type": "stream",
     "text": [
      "<class 'pandas.core.frame.DataFrame'>\n",
      "RangeIndex: 214200 entries, 0 to 214199\n",
      "Data columns (total 3 columns):\n",
      " #   Column   Non-Null Count   Dtype\n",
      "---  ------   --------------   -----\n",
      " 0   ID       214200 non-null  int64\n",
      " 1   shop_id  214200 non-null  int64\n",
      " 2   item_id  214200 non-null  int64\n",
      "dtypes: int64(3)\n",
      "memory usage: 4.9 MB\n"
     ]
    }
   ],
   "source": [
    "test.info()"
   ],
   "metadata": {
    "collapsed": false,
    "pycharm": {
     "name": "#%%\n"
    }
   }
  },
  {
   "cell_type": "markdown",
   "source": [
    "### Describe"
   ],
   "metadata": {
    "collapsed": false,
    "pycharm": {
     "name": "#%% md\n"
    }
   }
  },
  {
   "cell_type": "code",
   "execution_count": 33,
   "outputs": [
    {
     "data": {
      "text/plain": "                  ID        shop_id        item_id\ncount  214200.000000  214200.000000  214200.000000\nmean   107099.500000      31.642857   11019.398627\nstd     61834.358168      17.561933    6252.644590\nmin         0.000000       2.000000      30.000000\n25%     53549.750000      16.000000    5381.500000\n50%    107099.500000      34.500000   11203.000000\n75%    160649.250000      47.000000   16071.500000\nmax    214199.000000      59.000000   22167.000000",
      "text/html": "<div>\n<style scoped>\n    .dataframe tbody tr th:only-of-type {\n        vertical-align: middle;\n    }\n\n    .dataframe tbody tr th {\n        vertical-align: top;\n    }\n\n    .dataframe thead th {\n        text-align: right;\n    }\n</style>\n<table border=\"1\" class=\"dataframe\">\n  <thead>\n    <tr style=\"text-align: right;\">\n      <th></th>\n      <th>ID</th>\n      <th>shop_id</th>\n      <th>item_id</th>\n    </tr>\n  </thead>\n  <tbody>\n    <tr>\n      <th>count</th>\n      <td>214200.000000</td>\n      <td>214200.000000</td>\n      <td>214200.000000</td>\n    </tr>\n    <tr>\n      <th>mean</th>\n      <td>107099.500000</td>\n      <td>31.642857</td>\n      <td>11019.398627</td>\n    </tr>\n    <tr>\n      <th>std</th>\n      <td>61834.358168</td>\n      <td>17.561933</td>\n      <td>6252.644590</td>\n    </tr>\n    <tr>\n      <th>min</th>\n      <td>0.000000</td>\n      <td>2.000000</td>\n      <td>30.000000</td>\n    </tr>\n    <tr>\n      <th>25%</th>\n      <td>53549.750000</td>\n      <td>16.000000</td>\n      <td>5381.500000</td>\n    </tr>\n    <tr>\n      <th>50%</th>\n      <td>107099.500000</td>\n      <td>34.500000</td>\n      <td>11203.000000</td>\n    </tr>\n    <tr>\n      <th>75%</th>\n      <td>160649.250000</td>\n      <td>47.000000</td>\n      <td>16071.500000</td>\n    </tr>\n    <tr>\n      <th>max</th>\n      <td>214199.000000</td>\n      <td>59.000000</td>\n      <td>22167.000000</td>\n    </tr>\n  </tbody>\n</table>\n</div>"
     },
     "execution_count": 33,
     "metadata": {},
     "output_type": "execute_result"
    }
   ],
   "source": [
    "test.describe()"
   ],
   "metadata": {
    "collapsed": false,
    "pycharm": {
     "name": "#%%\n"
    }
   }
  },
  {
   "cell_type": "markdown",
   "source": [
    "### Type conversion + info"
   ],
   "metadata": {
    "collapsed": false,
    "pycharm": {
     "name": "#%% md\n"
    }
   }
  },
  {
   "cell_type": "code",
   "execution_count": 34,
   "outputs": [
    {
     "name": "stdout",
     "output_type": "stream",
     "text": [
      "<class 'pandas.core.frame.DataFrame'>\n",
      "RangeIndex: 214200 entries, 0 to 214199\n",
      "Data columns (total 3 columns):\n",
      " #   Column   Non-Null Count   Dtype\n",
      "---  ------   --------------   -----\n",
      " 0   ID       214200 non-null  int32\n",
      " 1   shop_id  214200 non-null  int16\n",
      " 2   item_id  214200 non-null  int16\n",
      "dtypes: int16(2), int32(1)\n",
      "memory usage: 1.6 MB\n"
     ]
    }
   ],
   "source": [
    "test['ID'] = test['ID'].astype('int32')\n",
    "test['shop_id'] = test['shop_id'].astype('int16')\n",
    "test['item_id'] = test['item_id'].astype('int16')\n",
    "test.info()"
   ],
   "metadata": {
    "collapsed": false,
    "pycharm": {
     "name": "#%%\n"
    }
   }
  },
  {
   "cell_type": "markdown",
   "source": [
    "### Saving to .feather format"
   ],
   "metadata": {
    "collapsed": false,
    "pycharm": {
     "name": "#%% md\n"
    }
   }
  },
  {
   "cell_type": "code",
   "execution_count": 35,
   "outputs": [],
   "source": [
    "test.to_feather('C:/Users/nowic/Desktop/Home tasks/Pets/Future Sales/EDA & feather data/test.feather')"
   ],
   "metadata": {
    "collapsed": false,
    "pycharm": {
     "name": "#%%\n"
    }
   }
  }
 ],
 "metadata": {
  "kernelspec": {
   "display_name": "Python 3",
   "language": "python",
   "name": "python3"
  },
  "language_info": {
   "codemirror_mode": {
    "name": "ipython",
    "version": 2
   },
   "file_extension": ".py",
   "mimetype": "text/x-python",
   "name": "python",
   "nbconvert_exporter": "python",
   "pygments_lexer": "ipython2",
   "version": "2.7.6"
  }
 },
 "nbformat": 4,
 "nbformat_minor": 0
}