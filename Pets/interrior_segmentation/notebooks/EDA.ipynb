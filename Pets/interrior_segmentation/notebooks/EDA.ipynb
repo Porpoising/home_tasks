{
 "cells": [
  {
   "cell_type": "markdown",
   "metadata": {
    "collapsed": true,
    "pycharm": {
     "name": "#%% md\n"
    }
   },
   "source": [
    "# Purpose\n",
    "segment image to 3 boolean masks (wall, floor, window)"
   ]
  },
  {
   "cell_type": "code",
   "execution_count": 5,
   "outputs": [],
   "source": [
    "import pandas as pd\n",
    "import json\n",
    "\n",
    "import numpy as np\n",
    "\n",
    "import cv2\n",
    "from PIL import Image\n",
    "import matplotlib.pyplot as plt\n",
    "\n",
    "import os\n",
    "from pathlib import Path"
   ],
   "metadata": {
    "collapsed": false,
    "pycharm": {
     "name": "#%%\n"
    }
   }
  },
  {
   "cell_type": "code",
   "execution_count": 12,
   "outputs": [],
   "source": [
    "# TODO: смотреть пути к маскам из json и обрабатывать их\n",
    "\n",
    "def process_mask(parts, mask_path):\n",
    "    if not np.any(parts):\n",
    "        parts = cv2.imread(str(mask_path), flags=cv2.IMREAD_GRAYSCALE)\n",
    "        parts[parts < 255] = 0\n",
    "\n",
    "    else:\n",
    "        part = cv2.imread(str(mask_path), flags=cv2.IMREAD_GRAYSCALE)\n",
    "        part[part < 255] = 0\n",
    "        parts = parts + part\n",
    "\n",
    "    return parts\n",
    "\n",
    "\n",
    "size = 1024\n",
    "\n",
    "for dirname, _, filenames in os.walk('../data/raw/'):\n",
    "    for file in filenames:\n",
    "\n",
    "        if '.json' in file:\n",
    "            json_path = Path(dirname).joinpath(file)\n",
    "            data = json.load(open(json_path, 'r'))\n",
    "\n",
    "            image_size = data['annotation']['imsize']\n",
    "\n",
    "            size = np.min([size, image_size[0], image_size[1]])\n",
    "\n",
    "            walls, floor, windows = np.zeros(image_size[:2], dtype='uint8'), \\\n",
    "                                    np.zeros(image_size[:2], dtype='uint8'), \\\n",
    "                                    np.zeros(image_size[:2], dtype='uint8')\n",
    "\n",
    "            for key in data['annotation']['object']:\n",
    "                if 'wall' in key['name']:\n",
    "                    mask_path = Path(dirname).joinpath(key['instance_mask'])\n",
    "                    walls = process_mask(walls, mask_path)\n",
    "\n",
    "                if 'floor' in key['name']:\n",
    "                    mask_path = Path(dirname).joinpath(key['instance_mask'])\n",
    "                    floor = process_mask(floor, mask_path)\n",
    "\n",
    "                if 'window' in key['name']:\n",
    "                    mask_path = Path(dirname).joinpath(key['instance_mask'])\n",
    "                    windows = process_mask(windows, mask_path)\n",
    "\n",
    "            image_name = data['annotation']['filename']\n",
    "            image_path = Path(dirname).joinpath(image_name)\n",
    "            image = cv2.imread(str(image_path))\n",
    "            cv2.imwrite(f'C:/Users/nowic/Desktop/exposit_final_task/data/processed/images/{image_name}', image)\n",
    "\n",
    "            # print(walls.shape, floor.shape, windows.shape)\n",
    "            mask = cv2.merge((windows, floor, walls))\n",
    "            mask_name = file[:-4] + '_seg.png'\n",
    "            cv2.imwrite(f'C:/Users/nowic/Desktop/exposit_final_task/data/processed/masks/{mask_name}', mask)\n"
   ],
   "metadata": {
    "collapsed": false,
    "pycharm": {
     "name": "#%%\n"
    }
   }
  },
  {
   "cell_type": "code",
   "execution_count": 13,
   "outputs": [
    {
     "data": {
      "text/plain": "149"
     },
     "execution_count": 13,
     "metadata": {},
     "output_type": "execute_result"
    }
   ],
   "source": [
    "size"
   ],
   "metadata": {
    "collapsed": false,
    "pycharm": {
     "name": "#%%\n"
    }
   }
  },
  {
   "cell_type": "code",
   "execution_count": 2,
   "outputs": [
    {
     "data": {
      "text/plain": "{'annotation': {'filename': 'ADE_train_00001207.jpg',\n  'folder': 'ADE20K_2021_17_01/images/ADE/training/home_or_hotel/alcove',\n  'imsize': [800, 530, 3],\n  'source': {'folder': 'static_sun_database/a/alcove',\n   'filename': 'sun_aacifihuzjwfbqbq.jpg',\n   'origin': 'Downloaded from Google search. Image might be subject to copyright. Use only for non-commercial research and educational purposes.'},\n  'scene': ['indoor', 'home or hotel', 'alcove'],\n  'object': [{'id': 0,\n    'name': 'ceiling',\n    'name_ndx': 447,\n    'hypernym': ['ceiling',\n     'upper surface',\n     'side',\n     'surface',\n     'artifact, artefact',\n     'whole, unit',\n     'object, physical object',\n     'physical entity',\n     'entity'],\n    'raw_name': 'ceiling',\n    'attributes': [],\n    'depth_ordering_rank': 1,\n    'occluded': [],\n    'crop': '0',\n    'parts': {'hasparts': [], 'ispartof': [], 'part_level': 0},\n    'instance_mask': 'ADE_train_00001207/instance_000_ADE_train_00001207.png',\n    'polygon': {'x': [0, 78, 79, 213, 437, 443, 3],\n     'y': [73, 54, 85, 119, 88, 0, 0],\n     'click_date': []},\n    'saved_date': '05-May-2009 14:42:24'},\n   {'id': 1,\n    'name': 'wall',\n    'name_ndx': 2978,\n    'hypernym': ['wall',\n     'partition, divider',\n     'structure, construction',\n     'artifact, artefact',\n     'whole, unit',\n     'object, physical object',\n     'physical entity',\n     'entity'],\n    'raw_name': 'wall',\n    'attributes': [],\n    'depth_ordering_rank': 2,\n    'occluded': [],\n    'crop': '0',\n    'parts': {'hasparts': [], 'ispartof': [], 'part_level': 0},\n    'instance_mask': 'ADE_train_00001207/instance_001_ADE_train_00001207.png',\n    'polygon': {'x': [81, 0, 2, 75],\n     'y': [558, 545, 70, 58],\n     'click_date': []},\n    'saved_date': '05-May-2009 14:42:24'},\n   {'id': 2,\n    'name': 'wall',\n    'name_ndx': 2978,\n    'hypernym': ['wall',\n     'partition, divider',\n     'structure, construction',\n     'artifact, artefact',\n     'whole, unit',\n     'object, physical object',\n     'physical entity',\n     'entity'],\n    'raw_name': 'wall',\n    'attributes': [],\n    'depth_ordering_rank': 3,\n    'occluded': [],\n    'crop': '0',\n    'parts': {'hasparts': [], 'ispartof': [], 'part_level': 0},\n    'instance_mask': 'ADE_train_00001207/instance_002_ADE_train_00001207.png',\n    'polygon': {'x': [528, 442, 425, 527],\n     'y': [0, 1, 649, 678],\n     'click_date': []},\n    'saved_date': '05-May-2009 14:42:24'},\n   {'id': 3,\n    'name': 'wall',\n    'name_ndx': 2978,\n    'hypernym': ['wall',\n     'partition, divider',\n     'structure, construction',\n     'artifact, artefact',\n     'whole, unit',\n     'object, physical object',\n     'physical entity',\n     'entity'],\n    'raw_name': 'wall',\n    'attributes': [],\n    'depth_ordering_rank': 4,\n    'occluded': [],\n    'crop': '0',\n    'parts': {'hasparts': [], 'ispartof': [], 'part_level': 0},\n    'instance_mask': 'ADE_train_00001207/instance_003_ADE_train_00001207.png',\n    'polygon': {'x': [212, 218, 75, 82, 209],\n     'y': [463, 121, 84, 549, 491],\n     'click_date': []},\n    'saved_date': '05-May-2009 14:42:24'},\n   {'id': 4,\n    'name': 'wall',\n    'name_ndx': 2978,\n    'hypernym': ['wall',\n     'partition, divider',\n     'structure, construction',\n     'artifact, artefact',\n     'whole, unit',\n     'object, physical object',\n     'physical entity',\n     'entity'],\n    'raw_name': 'wall',\n    'attributes': [],\n    'depth_ordering_rank': 5,\n    'occluded': [],\n    'crop': '0',\n    'parts': {'hasparts': [], 'ispartof': [], 'part_level': 0},\n    'instance_mask': 'ADE_train_00001207/instance_004_ADE_train_00001207.png',\n    'polygon': {'x': [433, 434, 219, 210, 434],\n     'y': [151, 85, 121, 493, 534],\n     'click_date': []},\n    'saved_date': '05-May-2009 14:42:24'},\n   {'id': 5,\n    'name': 'bed',\n    'name_ndx': 165,\n    'hypernym': ['bed',\n     'bedroom furniture',\n     'furniture, piece of furniture, article of furniture',\n     'furnishing',\n     'instrumentality, instrumentation',\n     'artifact, artefact',\n     'whole, unit',\n     'object, physical object',\n     'physical entity',\n     'entity'],\n    'raw_name': 'bed',\n    'attributes': 'double size',\n    'depth_ordering_rank': 6,\n    'occluded': 'no',\n    'crop': '0',\n    'parts': {'hasparts': 34, 'ispartof': [], 'part_level': 0},\n    'instance_mask': 'ADE_train_00001207/instance_005_ADE_train_00001207.png',\n    'polygon': {'x': [340,\n      319,\n      106,\n      128,\n      309,\n      316,\n      351,\n      361,\n      375,\n      388,\n      409,\n      430,\n      422,\n      382,\n      357],\n     'y': [619,\n      612,\n      555,\n      482,\n      455,\n      387,\n      384,\n      372,\n      372,\n      364,\n      364,\n      369,\n      578,\n      596,\n      597],\n     'click_date': []},\n    'saved_date': '05-May-2009 14:42:24'},\n   {'id': 6,\n    'name': 'table',\n    'name_ndx': 2684,\n    'hypernym': ['table',\n     'furniture, piece of furniture, article of furniture',\n     'furnishing',\n     'instrumentality, instrumentation',\n     'artifact, artefact',\n     'whole, unit',\n     'object, physical object',\n     'physical entity',\n     'entity'],\n    'raw_name': 'night table',\n    'attributes': [],\n    'depth_ordering_rank': 7,\n    'occluded': 'yes',\n    'crop': '1',\n    'parts': {'hasparts': [], 'ispartof': [], 'part_level': 0},\n    'instance_mask': 'ADE_train_00001207/instance_006_ADE_train_00001207.png',\n    'polygon': {'x': [203, 240, 290, 269, 199],\n     'y': [430, 421, 431, 457, 469],\n     'click_date': []},\n    'saved_date': '05-May-2009 14:42:24'},\n   {'id': 7,\n    'name': 'cushion',\n    'name_ndx': 689,\n    'hypernym': ['cushion',\n     'padding, cushioning',\n     'artifact, artefact',\n     'whole, unit',\n     'object, physical object',\n     'physical entity',\n     'entity'],\n    'raw_name': 'cushion',\n    'attributes': [],\n    'depth_ordering_rank': 8,\n    'occluded': [],\n    'crop': '0',\n    'parts': {'hasparts': [], 'ispartof': [], 'part_level': 0},\n    'instance_mask': 'ADE_train_00001207/instance_007_ADE_train_00001207.png',\n    'polygon': {'x': [366, 376, 379, 396, 412, 410, 382],\n     'y': [476, 446, 431, 440, 434, 481, 475],\n     'click_date': []},\n    'saved_date': '05-May-2009 14:42:24'},\n   {'id': 8,\n    'name': 'lamp',\n    'name_ndx': 1395,\n    'hypernym': ['lamp',\n     'source of illumination',\n     'device',\n     'instrumentality, instrumentation',\n     'artifact, artefact',\n     'whole, unit',\n     'object, physical object',\n     'physical entity',\n     'entity'],\n    'raw_name': 'table lamp',\n    'attributes': 'off',\n    'depth_ordering_rank': 9,\n    'occluded': 'no',\n    'crop': '0',\n    'parts': {'hasparts': [], 'ispartof': [], 'part_level': 0},\n    'instance_mask': 'ADE_train_00001207/instance_008_ADE_train_00001207.png',\n    'polygon': {'x': [266,\n      294,\n      294,\n      282,\n      284,\n      290,\n      281,\n      282,\n      273,\n      279,\n      267,\n      275,\n      276,\n      260],\n     'y': [370,\n      372,\n      404,\n      404,\n      413,\n      416,\n      427,\n      436,\n      434,\n      425,\n      418,\n      409,\n      403,\n      400],\n     'click_date': []},\n    'saved_date': '05-May-2009 14:42:24'},\n   {'id': 9,\n    'name': 'painting, picture',\n    'name_ndx': 1735,\n    'hypernym': ['painting, picture',\n     'graphic art',\n     'art, fine art',\n     'creation',\n     'artifact, artefact',\n     'whole, unit',\n     'object, physical object',\n     'physical entity',\n     'entity'],\n    'raw_name': 'picture',\n    'attributes': 'painting',\n    'depth_ordering_rank': 10,\n    'occluded': [],\n    'crop': '0',\n    'parts': {'hasparts': [], 'ispartof': [], 'part_level': 0},\n    'instance_mask': 'ADE_train_00001207/instance_009_ADE_train_00001207.png',\n    'polygon': {'x': [151, 184, 181, 152],\n     'y': [266, 266, 319, 318],\n     'click_date': []},\n    'saved_date': '05-May-2009 14:42:24'},\n   {'id': 10,\n    'name': 'painting, picture',\n    'name_ndx': 1735,\n    'hypernym': ['painting, picture',\n     'graphic art',\n     'art, fine art',\n     'creation',\n     'artifact, artefact',\n     'whole, unit',\n     'object, physical object',\n     'physical entity',\n     'entity'],\n    'raw_name': 'picture',\n    'attributes': [],\n    'depth_ordering_rank': 11,\n    'occluded': [],\n    'crop': '0',\n    'parts': {'hasparts': [], 'ispartof': [], 'part_level': 0},\n    'instance_mask': 'ADE_train_00001207/instance_010_ADE_train_00001207.png',\n    'polygon': {'x': [116, 118, 148, 146, 118],\n     'y': [351, 297, 300, 352, 351],\n     'click_date': []},\n    'saved_date': '05-May-2009 14:42:24'},\n   {'id': 11,\n    'name': 'chair',\n    'name_ndx': 471,\n    'hypernym': ['chair',\n     'seat',\n     'furniture, piece of furniture, article of furniture',\n     'furnishing',\n     'instrumentality, instrumentation',\n     'artifact, artefact',\n     'whole, unit',\n     'object, physical object',\n     'physical entity',\n     'entity'],\n    'raw_name': 'chair',\n    'attributes': [],\n    'depth_ordering_rank': 12,\n    'occluded': 'yes',\n    'crop': '1',\n    'parts': {'hasparts': [], 'ispartof': [], 'part_level': 0},\n    'instance_mask': 'ADE_train_00001207/instance_011_ADE_train_00001207.png',\n    'polygon': {'x': [122,\n      122,\n      118,\n      115,\n      116,\n      133,\n      145,\n      149,\n      149,\n      181,\n      181,\n      157,\n      131],\n     'y': [488, 461, 437, 409, 401, 396, 400, 424, 454, 463, 470, 475, 472],\n     'click_date': []},\n    'saved_date': '05-May-2009 14:42:24'},\n   {'id': 12,\n    'name': 'chair',\n    'name_ndx': 471,\n    'hypernym': ['chair',\n     'seat',\n     'furniture, piece of furniture, article of furniture',\n     'furnishing',\n     'instrumentality, instrumentation',\n     'artifact, artefact',\n     'whole, unit',\n     'object, physical object',\n     'physical entity',\n     'entity'],\n    'raw_name': 'chair',\n    'attributes': '',\n    'depth_ordering_rank': 13,\n    'occluded': 'no',\n    'crop': '1',\n    'parts': {'hasparts': [40, 41, 42, 43, 44],\n     'ispartof': [],\n     'part_level': 0},\n    'instance_mask': 'ADE_train_00001207/instance_012_ADE_train_00001207.png',\n    'polygon': {'x': [437,\n      436,\n      434,\n      431,\n      428,\n      431,\n      487,\n      493,\n      497,\n      516,\n      528,\n      528,\n      522,\n      490,\n      494,\n      488,\n      484,\n      446,\n      442,\n      446,\n      445],\n     'y': [704,\n      669,\n      651,\n      636,\n      618,\n      593,\n      573,\n      473,\n      460,\n      455,\n      455,\n      728,\n      628,\n      625,\n      676,\n      676,\n      616,\n      613,\n      628,\n      657,\n      702],\n     'click_date': []},\n    'saved_date': '05-May-2009 14:42:24'},\n   {'id': 13,\n    'name': 'floor, flooring',\n    'name_ndx': 976,\n    'hypernym': ['floor, flooring',\n     'horizontal surface, level',\n     'surface',\n     'artifact, artefact',\n     'whole, unit',\n     'object, physical object',\n     'physical entity',\n     'entity'],\n    'raw_name': 'floor',\n    'attributes': [],\n    'depth_ordering_rank': 14,\n    'occluded': [],\n    'crop': '0',\n    'parts': {'hasparts': [], 'ispartof': [], 'part_level': 0},\n    'instance_mask': 'ADE_train_00001207/instance_013_ADE_train_00001207.png',\n    'polygon': {'x': [0, 3, 73, 87, 206, 430, 427, 527, 527],\n     'y': [799, 545, 558, 546, 496, 534, 652, 679, 799],\n     'click_date': []},\n    'saved_date': '05-May-2009 14:42:24'},\n   {'id': 14,\n    'name': 'painting, picture',\n    'name_ndx': 1735,\n    'hypernym': ['painting, picture',\n     'graphic art',\n     'art, fine art',\n     'creation',\n     'artifact, artefact',\n     'whole, unit',\n     'object, physical object',\n     'physical entity',\n     'entity'],\n    'raw_name': 'picture',\n    'attributes': 'painting',\n    'depth_ordering_rank': 15,\n    'occluded': [],\n    'crop': '0',\n    'parts': {'hasparts': [], 'ispartof': [], 'part_level': 0},\n    'instance_mask': 'ADE_train_00001207/instance_014_ADE_train_00001207.png',\n    'polygon': {'x': [15, 40, 40, 15],\n     'y': [272, 269, 303, 303],\n     'click_date': []},\n    'saved_date': '05-May-2009 14:42:24'},\n   {'id': 15,\n    'name': 'painting, picture',\n    'name_ndx': 1735,\n    'hypernym': ['painting, picture',\n     'graphic art',\n     'art, fine art',\n     'creation',\n     'artifact, artefact',\n     'whole, unit',\n     'object, physical object',\n     'physical entity',\n     'entity'],\n    'raw_name': 'picture',\n    'attributes': 'painting',\n    'depth_ordering_rank': 16,\n    'occluded': [],\n    'crop': '0',\n    'parts': {'hasparts': [], 'ispartof': [], 'part_level': 0},\n    'instance_mask': 'ADE_train_00001207/instance_015_ADE_train_00001207.png',\n    'polygon': {'x': [16, 39, 39, 18],\n     'y': [312, 312, 340, 342],\n     'click_date': []},\n    'saved_date': '05-May-2009 14:42:24'},\n   {'id': 16,\n    'name': 'painting, picture',\n    'name_ndx': 1735,\n    'hypernym': ['painting, picture',\n     'graphic art',\n     'art, fine art',\n     'creation',\n     'artifact, artefact',\n     'whole, unit',\n     'object, physical object',\n     'physical entity',\n     'entity'],\n    'raw_name': 'picture',\n    'attributes': 'painting',\n    'depth_ordering_rank': 17,\n    'occluded': [],\n    'crop': '0',\n    'parts': {'hasparts': [], 'ispartof': [], 'part_level': 0},\n    'instance_mask': 'ADE_train_00001207/instance_016_ADE_train_00001207.png',\n    'polygon': {'x': [37, 39, 21, 19],\n     'y': [375, 349, 349, 372],\n     'click_date': []},\n    'saved_date': '05-May-2009 14:42:24'},\n   {'id': 17,\n    'name': 'table',\n    'name_ndx': 2684,\n    'hypernym': ['table',\n     'furniture, piece of furniture, article of furniture',\n     'furnishing',\n     'instrumentality, instrumentation',\n     'artifact, artefact',\n     'whole, unit',\n     'object, physical object',\n     'physical entity',\n     'entity'],\n    'raw_name': 'table',\n    'attributes': [],\n    'depth_ordering_rank': 18,\n    'occluded': [],\n    'crop': '1',\n    'parts': {'hasparts': [], 'ispartof': [], 'part_level': 0},\n    'instance_mask': 'ADE_train_00001207/instance_017_ADE_train_00001207.png',\n    'polygon': {'x': [78, 67, 57, 27, 0, 3, 40, 57, 94],\n     'y': [591, 530, 509, 494, 490, 703, 703, 682, 654],\n     'click_date': []},\n    'saved_date': '05-May-2009 14:42:24'},\n   {'id': 18,\n    'name': 'armchair',\n    'name_ndx': 57,\n    'hypernym': ['armchair',\n     'chair',\n     'seat',\n     'furniture, piece of furniture, article of furniture',\n     'furnishing',\n     'instrumentality, instrumentation',\n     'artifact, artefact',\n     'whole, unit',\n     'object, physical object',\n     'physical entity',\n     'entity'],\n    'raw_name': 'armchair',\n    'attributes': [],\n    'depth_ordering_rank': 19,\n    'occluded': 'no',\n    'crop': '0',\n    'parts': {'hasparts': [21, 22, 25, 30, 31, 32, 33],\n     'ispartof': [],\n     'part_level': 0},\n    'instance_mask': 'ADE_train_00001207/instance_018_ADE_train_00001207.png',\n    'polygon': {'x': [167,\n      170,\n      158,\n      148,\n      24,\n      24,\n      12,\n      10,\n      10,\n      25,\n      39,\n      36,\n      25,\n      18,\n      33,\n      96,\n      106,\n      106,\n      85,\n      99,\n      146,\n      173,\n      191,\n      234,\n      210,\n      216,\n      201,\n      197],\n     'y': [706,\n      796,\n      797,\n      709,\n      700,\n      790,\n      787,\n      688,\n      666,\n      652,\n      636,\n      618,\n      615,\n      603,\n      594,\n      594,\n      579,\n      567,\n      564,\n      551,\n      554,\n      554,\n      524,\n      491,\n      607,\n      733,\n      733,\n      666],\n     'click_date': []},\n    'saved_date': '05-May-2009 14:42:24'},\n   {'id': 19,\n    'name': 'curtain, drape, drapery, mantle, pall',\n    'name_ndx': 687,\n    'hypernym': ['curtain, drape, drapery, mantle, pall',\n     'blind, screen',\n     'protective covering, protective cover, protection',\n     'covering',\n     'artifact, artefact',\n     'whole, unit',\n     'object, physical object',\n     'physical entity',\n     'entity'],\n    'raw_name': 'curtain',\n    'attributes': [],\n    'depth_ordering_rank': 20,\n    'occluded': [],\n    'crop': '0',\n    'parts': {'hasparts': [], 'ispartof': [], 'part_level': 0},\n    'instance_mask': 'ADE_train_00001207/instance_019_ADE_train_00001207.png',\n    'polygon': {'x': [99,\n      101,\n      90,\n      107,\n      107,\n      110,\n      107,\n      110,\n      106,\n      100,\n      91,\n      84,\n      72,\n      78,\n      91,\n      100,\n      104],\n     'y': [528,\n      451,\n      401,\n      303,\n      212,\n      148,\n      87,\n      76,\n      78,\n      79,\n      87,\n      85,\n      84,\n      564,\n      561,\n      561,\n      552],\n     'click_date': []},\n    'saved_date': '05-May-2009 14:42:24'},\n   {'id': 20,\n    'name': 'curtain, drape, drapery, mantle, pall',\n    'name_ndx': 687,\n    'hypernym': ['curtain, drape, drapery, mantle, pall',\n     'blind, screen',\n     'protective covering, protective cover, protection',\n     'covering',\n     'artifact, artefact',\n     'whole, unit',\n     'object, physical object',\n     'physical entity',\n     'entity'],\n    'raw_name': 'curtain',\n    'attributes': [],\n    'depth_ordering_rank': 21,\n    'occluded': [],\n    'crop': '0',\n    'parts': {'hasparts': [], 'ispartof': [], 'part_level': 0},\n    'instance_mask': 'ADE_train_00001207/instance_020_ADE_train_00001207.png',\n    'polygon': {'x': [376,\n      372,\n      385,\n      396,\n      418,\n      424,\n      440,\n      425,\n      412,\n      400,\n      407,\n      397,\n      399,\n      410,\n      422,\n      413,\n      399,\n      385,\n      381],\n     'y': [30,\n      7,\n      3,\n      6,\n      6,\n      3,\n      3,\n      646,\n      643,\n      633,\n      621,\n      622,\n      596,\n      494,\n      419,\n      379,\n      304,\n      163,\n      64],\n     'click_date': []},\n    'saved_date': '05-May-2009 14:42:24'},\n   {'id': 21,\n    'name': 'back',\n    'name_ndx': 83,\n    'hypernym': [],\n    'raw_name': 'back',\n    'attributes': [],\n    'depth_ordering_rank': 22,\n    'occluded': 'no',\n    'crop': '0',\n    'parts': {'ispartof': 18, 'hasparts': [], 'part_level': 1},\n    'instance_mask': 'ADE_train_00001207/instance_021_ADE_train_00001207.png',\n    'polygon': {'x': [151, 167, 171, 191, 238, 240, 214, 210, 209, 172, 167],\n     'y': [695, 610, 589, 522, 488, 490, 619, 629, 619, 656, 697],\n     'click_date': []},\n    'saved_date': '24-May-2016 18:58:46'},\n   {'id': 22,\n    'name': 'arm',\n    'name_ndx': 54,\n    'hypernym': [],\n    'raw_name': 'arm',\n    'attributes': [],\n    'depth_ordering_rank': 23,\n    'occluded': 'no',\n    'crop': '0',\n    'parts': {'hasparts': [24, 29], 'ispartof': 18, 'part_level': 1},\n    'instance_mask': 'ADE_train_00001207/instance_022_ADE_train_00001207.png',\n    'polygon': {'x': [112,\n      117,\n      118,\n      136,\n      156,\n      168,\n      174,\n      176,\n      172,\n      137,\n      114,\n      104,\n      94,\n      93,\n      100,\n      106,\n      106,\n      104,\n      97],\n     'y': [598,\n      581,\n      568,\n      567,\n      570,\n      573,\n      573,\n      559,\n      555,\n      553,\n      552,\n      552,\n      556,\n      562,\n      567,\n      567,\n      576,\n      589,\n      598],\n     'click_date': []},\n    'saved_date': '24-May-2016 18:59:02'},\n   {'id': 23,\n    'name': 'manchette',\n    'name_ndx': 1493,\n    'hypernym': [],\n    'raw_name': 'manchette',\n    'attributes': [],\n    'depth_ordering_rank': 24,\n    'occluded': 'no',\n    'crop': '0',\n    'parts': {'ispartof': 29, 'hasparts': [], 'part_level': 3},\n    'instance_mask': 'ADE_train_00001207/instance_023_ADE_train_00001207.png',\n    'polygon': {'x': [122, 118, 117, 135, 147, 158, 165, 166, 156, 135],\n     'y': [547, 555, 562, 566, 565, 565, 565, 557, 554, 552],\n     'click_date': []},\n    'saved_date': '24-May-2016 18:59:47'},\n   {'id': 24,\n    'name': 'arm support',\n    'name_ndx': 56,\n    'hypernym': [],\n    'raw_name': 'arm support',\n    'attributes': [],\n    'depth_ordering_rank': 25,\n    'occluded': 'no',\n    'crop': '0',\n    'parts': {'ispartof': 22, 'hasparts': [], 'part_level': 2},\n    'instance_mask': 'ADE_train_00001207/instance_024_ADE_train_00001207.png',\n    'polygon': {'x': [114, 119, 117, 108, 107, 104, 97, 105],\n     'y': [599, 570, 569, 568, 577, 588, 596, 598],\n     'click_date': []},\n    'saved_date': '24-May-2016 19:00:05'},\n   {'id': 25,\n    'name': 'arm',\n    'name_ndx': 54,\n    'hypernym': [],\n    'raw_name': 'arm',\n    'attributes': [],\n    'depth_ordering_rank': 26,\n    'occluded': 'no',\n    'crop': '0',\n    'parts': {'hasparts': [27, 28], 'ispartof': 18, 'part_level': 1},\n    'instance_mask': 'ADE_train_00001207/instance_025_ADE_train_00001207.png',\n    'polygon': {'x': [25,\n      25,\n      42,\n      53,\n      106,\n      161,\n      166,\n      168,\n      156,\n      127,\n      127,\n      50,\n      34,\n      25,\n      21,\n      20,\n      23,\n      37,\n      37,\n      27,\n      12,\n      11],\n     'y': [684,\n      674,\n      653,\n      614,\n      617,\n      614,\n      612,\n      593,\n      598,\n      601,\n      601,\n      595,\n      594,\n      598,\n      603,\n      606,\n      612,\n      614,\n      634,\n      652,\n      665,\n      685],\n     'click_date': []},\n    'saved_date': '24-May-2016 19:00:37'},\n   {'id': 26,\n    'name': 'manchette',\n    'name_ndx': 1493,\n    'hypernym': [],\n    'raw_name': 'manchette',\n    'attributes': [],\n    'depth_ordering_rank': 27,\n    'occluded': 'no',\n    'crop': '0',\n    'parts': {'ispartof': 27, 'hasparts': [], 'part_level': 3},\n    'instance_mask': 'ADE_train_00001207/instance_026_ADE_train_00001207.png',\n    'polygon': {'x': [52, 52, 53, 112, 120, 122, 117, 54],\n     'y': [607, 600, 596, 601, 601, 610, 616, 613],\n     'click_date': []},\n    'saved_date': '24-May-2016 19:00:54'},\n   {'id': 27,\n    'name': 'inside arm',\n    'name_ndx': 1329,\n    'hypernym': [],\n    'raw_name': 'inside arm',\n    'attributes': [],\n    'depth_ordering_rank': 28,\n    'occluded': 'no',\n    'crop': '0',\n    'parts': {'hasparts': 26, 'ispartof': 25, 'part_level': 2},\n    'instance_mask': 'ADE_train_00001207/instance_027_ADE_train_00001207.png',\n    'polygon': {'x': [165,\n      141,\n      118,\n      76,\n      47,\n      36,\n      28,\n      22,\n      19,\n      22,\n      30,\n      38,\n      56,\n      115,\n      161,\n      165],\n     'y': [591,\n      598,\n      599,\n      596,\n      593,\n      593,\n      594,\n      599,\n      605,\n      612,\n      614,\n      614,\n      614,\n      615,\n      616,\n      611],\n     'click_date': []},\n    'saved_date': '24-May-2016 19:01:10'},\n   {'id': 28,\n    'name': 'arm support',\n    'name_ndx': 56,\n    'hypernym': [],\n    'raw_name': 'arm support',\n    'attributes': [],\n    'depth_ordering_rank': 29,\n    'occluded': 'no',\n    'crop': '0',\n    'parts': {'ispartof': 25, 'hasparts': [], 'part_level': 2},\n    'instance_mask': 'ADE_train_00001207/instance_028_ADE_train_00001207.png',\n    'polygon': {'x': [55, 50, 42, 25, 22, 10, 9, 22, 35, 37, 38],\n     'y': [618, 633, 655, 673, 684, 685, 664, 653, 636, 621, 614],\n     'click_date': []},\n    'saved_date': '24-May-2016 19:01:35'},\n   {'id': 29,\n    'name': 'inside arm',\n    'name_ndx': 1329,\n    'hypernym': [],\n    'raw_name': 'inside arm',\n    'attributes': [],\n    'depth_ordering_rank': 30,\n    'occluded': 'no',\n    'crop': '0',\n    'parts': {'hasparts': 23, 'ispartof': 22, 'part_level': 2},\n    'instance_mask': 'ADE_train_00001207/instance_029_ADE_train_00001207.png',\n    'polygon': {'x': [112,\n      102,\n      94,\n      91,\n      91,\n      97,\n      107,\n      169,\n      174,\n      177,\n      177,\n      163,\n      128],\n     'y': [549, 551, 553, 559, 562, 566, 567, 573, 571, 559, 553, 553, 549],\n     'click_date': []},\n    'saved_date': '24-May-2016 19:02:01'},\n   {'id': 30,\n    'name': 'seat cushion',\n    'name_ndx': 2276,\n    'hypernym': [],\n    'raw_name': 'seat cushion',\n    'attributes': [],\n    'depth_ordering_rank': 31,\n    'occluded': 'no',\n    'crop': '0',\n    'parts': {'ispartof': 18, 'hasparts': [], 'part_level': 1},\n    'instance_mask': 'ADE_train_00001207/instance_030_ADE_train_00001207.png',\n    'polygon': {'x': [117,\n      151,\n      166,\n      211,\n      210,\n      172,\n      169,\n      151,\n      163,\n      137,\n      91,\n      82,\n      58,\n      51,\n      42,\n      32,\n      26,\n      23],\n     'y': [693,\n      698,\n      696,\n      643,\n      619,\n      655,\n      692,\n      695,\n      619,\n      616,\n      616,\n      617,\n      624,\n      630,\n      654,\n      666,\n      673,\n      683],\n     'click_date': []},\n    'saved_date': '24-May-2016 19:02:36'},\n   {'id': 31,\n    'name': 'leg',\n    'name_ndx': 1433,\n    'hypernym': [],\n    'raw_name': 'leg',\n    'attributes': [],\n    'depth_ordering_rank': 32,\n    'occluded': 'no',\n    'crop': '0',\n    'parts': {'ispartof': 18, 'hasparts': [], 'part_level': 1},\n    'instance_mask': 'ADE_train_00001207/instance_031_ADE_train_00001207.png',\n    'polygon': {'x': [156, 151, 166, 169],\n     'y': [797, 699, 697, 797],\n     'click_date': []},\n    'saved_date': '24-May-2016 19:02:48'},\n   {'id': 32,\n    'name': 'leg',\n    'name_ndx': 1433,\n    'hypernym': [],\n    'raw_name': 'leg',\n    'attributes': [],\n    'depth_ordering_rank': 33,\n    'occluded': 'no',\n    'crop': '0',\n    'parts': {'ispartof': 18, 'hasparts': [], 'part_level': 1},\n    'instance_mask': 'ADE_train_00001207/instance_032_ADE_train_00001207.png',\n    'polygon': {'x': [200, 199, 212, 214],\n     'y': [735, 665, 648, 733],\n     'click_date': []},\n    'saved_date': '24-May-2016 19:02:58'},\n   {'id': 33,\n    'name': 'leg',\n    'name_ndx': 1433,\n    'hypernym': [],\n    'raw_name': 'leg',\n    'attributes': [],\n    'depth_ordering_rank': 34,\n    'occluded': 'no',\n    'crop': '0',\n    'parts': {'ispartof': 18, 'hasparts': [], 'part_level': 1},\n    'instance_mask': 'ADE_train_00001207/instance_033_ADE_train_00001207.png',\n    'polygon': {'x': [27, 12, 10, 22],\n     'y': [789, 789, 685, 686],\n     'click_date': []},\n    'saved_date': '24-May-2016 19:03:13'},\n   {'id': 34,\n    'name': 'headboard',\n    'name_ndx': 1212,\n    'hypernym': [],\n    'raw_name': 'headboard',\n    'attributes': [],\n    'depth_ordering_rank': 35,\n    'occluded': 'no',\n    'crop': '0',\n    'parts': {'ispartof': 5, 'hasparts': [], 'part_level': 1},\n    'instance_mask': 'ADE_train_00001207/instance_034_ADE_train_00001207.png',\n    'polygon': {'x': [350,\n      329,\n      328,\n      313,\n      317,\n      336,\n      350,\n      363,\n      374,\n      385,\n      409,\n      410,\n      422,\n      415,\n      412,\n      398,\n      381,\n      377,\n      367,\n      359,\n      359],\n     'y': [429,\n      429,\n      422,\n      428,\n      387,\n      386,\n      384,\n      370,\n      369,\n      361,\n      361,\n      364,\n      421,\n      445,\n      434,\n      440,\n      429,\n      438,\n      442,\n      440,\n      433],\n     'click_date': []},\n    'saved_date': '31-May-2016 16:05:01'},\n   {'id': 35,\n    'name': 'curtain, drape, drapery, mantle, pall',\n    'name_ndx': 687,\n    'hypernym': ['curtain, drape, drapery, mantle, pall',\n     'blind, screen',\n     'protective covering, protective cover, protection',\n     'covering',\n     'artifact, artefact',\n     'whole, unit',\n     'object, physical object',\n     'physical entity',\n     'entity'],\n    'raw_name': 'curtain',\n    'attributes': [],\n    'depth_ordering_rank': 36,\n    'occluded': 'no',\n    'crop': '0',\n    'parts': {'hasparts': [], 'ispartof': [], 'part_level': 0},\n    'instance_mask': 'ADE_train_00001207/instance_035_ADE_train_00001207.png',\n    'polygon': {'x': [315,\n      302,\n      294,\n      291,\n      299,\n      309,\n      311,\n      322,\n      345,\n      351,\n      363,\n      372,\n      381,\n      402,\n      410,\n      389,\n      384,\n      353,\n      317],\n     'y': [218,\n      343,\n      418,\n      427,\n      429,\n      420,\n      389,\n      386,\n      385,\n      382,\n      371,\n      369,\n      361,\n      364,\n      362,\n      208,\n      205,\n      207,\n      210],\n     'click_date': []},\n    'saved_date': '31-May-2016 16:05:20'},\n   {'id': 36,\n    'name': 'cushion',\n    'name_ndx': 689,\n    'hypernym': ['cushion',\n     'padding, cushioning',\n     'artifact, artefact',\n     'whole, unit',\n     'object, physical object',\n     'physical entity',\n     'entity'],\n    'raw_name': 'cushion',\n    'attributes': [],\n    'depth_ordering_rank': 37,\n    'occluded': 'no',\n    'crop': '0',\n    'parts': {'hasparts': [], 'ispartof': [], 'part_level': 0},\n    'instance_mask': 'ADE_train_00001207/instance_036_ADE_train_00001207.png',\n    'polygon': {'x': [313, 316, 322, 326, 314, 298, 287, 275, 270, 277, 299],\n     'y': [472, 457, 441, 425, 425, 431, 430, 444, 460, 467, 467],\n     'click_date': []},\n    'saved_date': '31-May-2016 16:05:30'},\n   {'id': 37,\n    'name': 'cushion',\n    'name_ndx': 689,\n    'hypernym': ['cushion',\n     'padding, cushioning',\n     'artifact, artefact',\n     'whole, unit',\n     'object, physical object',\n     'physical entity',\n     'entity'],\n    'raw_name': 'cushion',\n    'attributes': [],\n    'depth_ordering_rank': 38,\n    'occluded': 'yes',\n    'crop': '1',\n    'parts': {'hasparts': [], 'ispartof': [], 'part_level': 0},\n    'instance_mask': 'ADE_train_00001207/instance_037_ADE_train_00001207.png',\n    'polygon': {'x': [328, 346, 353, 361, 354, 329, 320, 315, 320],\n     'y': [469, 449, 442, 435, 429, 427, 448, 460, 467],\n     'click_date': []},\n    'saved_date': '31-May-2016 16:05:43'},\n   {'id': 38,\n    'name': 'cushion',\n    'name_ndx': 689,\n    'hypernym': ['cushion',\n     'padding, cushioning',\n     'artifact, artefact',\n     'whole, unit',\n     'object, physical object',\n     'physical entity',\n     'entity'],\n    'raw_name': 'cushion',\n    'attributes': [],\n    'depth_ordering_rank': 39,\n    'occluded': 'no',\n    'crop': '0',\n    'parts': {'hasparts': [], 'ispartof': [], 'part_level': 0},\n    'instance_mask': 'ADE_train_00001207/instance_038_ADE_train_00001207.png',\n    'polygon': {'x': [335, 346, 366, 369, 377, 360, 356, 344, 330],\n     'y': [475, 477, 479, 468, 441, 444, 442, 453, 465],\n     'click_date': []},\n    'saved_date': '31-May-2016 16:05:52'},\n   {'id': 39,\n    'name': 'chair',\n    'name_ndx': 471,\n    'hypernym': ['chair',\n     'seat',\n     'furniture, piece of furniture, article of furniture',\n     'furnishing',\n     'instrumentality, instrumentation',\n     'artifact, artefact',\n     'whole, unit',\n     'object, physical object',\n     'physical entity',\n     'entity'],\n    'raw_name': 'chair',\n    'attributes': [],\n    'depth_ordering_rank': 40,\n    'occluded': 'yes',\n    'crop': '1',\n    'parts': {'hasparts': [], 'ispartof': [], 'part_level': 0},\n    'instance_mask': 'ADE_train_00001207/instance_039_ADE_train_00001207.png',\n    'polygon': {'x': [31, 26, 31, 34, 33, 25, 16, 2, 2, 16],\n     'y': [491, 467, 429, 420, 411, 405, 405, 403, 490, 491],\n     'click_date': []},\n    'saved_date': '31-May-2016 16:06:12'},\n   {'id': 40,\n    'name': 'back',\n    'name_ndx': 83,\n    'hypernym': [],\n    'raw_name': 'back',\n    'attributes': [],\n    'depth_ordering_rank': 41,\n    'occluded': 'no',\n    'crop': '0',\n    'parts': {'ispartof': 12, 'hasparts': [], 'part_level': 1},\n    'instance_mask': 'ADE_train_00001207/instance_040_ADE_train_00001207.png',\n    'polygon': {'x': [508, 487, 489, 494, 491, 494, 498, 528, 528, 520],\n     'y': [578, 574, 537, 490, 476, 462, 453, 454, 579, 578],\n     'click_date': []},\n    'saved_date': '31-May-2016 16:06:44'},\n   {'id': 41,\n    'name': 'seat',\n    'name_ndx': 2272,\n    'hypernym': [],\n    'raw_name': 'seat',\n    'attributes': [],\n    'depth_ordering_rank': 42,\n    'occluded': 'no',\n    'crop': '0',\n    'parts': {'ispartof': 12, 'hasparts': [], 'part_level': 1},\n    'instance_mask': 'ADE_train_00001207/instance_041_ADE_train_00001207.png',\n    'polygon': {'x': [484, 433, 449, 529, 528, 508, 492],\n     'y': [570, 593, 596, 612, 578, 577, 573],\n     'click_date': []},\n    'saved_date': '31-May-2016 16:07:02'},\n   {'id': 42,\n    'name': 'apron',\n    'name_ndx': 42,\n    'hypernym': [],\n    'raw_name': 'apron',\n    'attributes': [],\n    'depth_ordering_rank': 43,\n    'occluded': 'no',\n    'crop': '0',\n    'parts': {'ispartof': 12, 'hasparts': [], 'part_level': 1},\n    'instance_mask': 'ADE_train_00001207/instance_042_ADE_train_00001207.png',\n    'polygon': {'x': [445, 445, 528, 528],\n     'y': [611, 596, 612, 627],\n     'click_date': []},\n    'saved_date': '31-May-2016 16:07:13'},\n   {'id': 43,\n    'name': 'leg',\n    'name_ndx': 1433,\n    'hypernym': [],\n    'raw_name': 'leg',\n    'attributes': [],\n    'depth_ordering_rank': 44,\n    'occluded': 'no',\n    'crop': '0',\n    'parts': {'ispartof': 12, 'hasparts': [], 'part_level': 1},\n    'instance_mask': 'ADE_train_00001207/instance_043_ADE_train_00001207.png',\n    'polygon': {'x': [436,\n      439,\n      437,\n      435,\n      428,\n      427,\n      429,\n      446,\n      445,\n      441,\n      445,\n      444,\n      444],\n     'y': [707, 691, 674, 651, 629, 620, 595, 598, 614, 627, 653, 680, 705],\n     'click_date': []},\n    'saved_date': '31-May-2016 16:07:29'},\n   {'id': 44,\n    'name': 'leg',\n    'name_ndx': 1433,\n    'hypernym': [],\n    'raw_name': 'leg',\n    'attributes': [],\n    'depth_ordering_rank': 45,\n    'occluded': 'no',\n    'crop': '0',\n    'parts': {'ispartof': 12, 'hasparts': [], 'part_level': 1},\n    'instance_mask': 'ADE_train_00001207/instance_044_ADE_train_00001207.png',\n    'polygon': {'x': [484, 485, 494, 494],\n     'y': [678, 621, 622, 676],\n     'click_date': []},\n    'saved_date': '31-May-2016 16:07:40'}]}}"
     },
     "execution_count": 2,
     "metadata": {},
     "output_type": "execute_result"
    }
   ],
   "source": [
    "f = open('../data/raw/training/home_or_hotel/alcove/ADE_train_00001207.json', 'r')\n",
    "\n",
    "data = json.load(f)\n",
    "data"
   ],
   "metadata": {
    "collapsed": false,
    "pycharm": {
     "name": "#%%\n"
    }
   }
  },
  {
   "cell_type": "code",
   "execution_count": 31,
   "outputs": [
    {
     "name": "stdout",
     "output_type": "stream",
     "text": [
      "{'id': 1, 'name': 'wall', 'name_ndx': 2978, 'hypernym': ['wall', 'partition, divider', 'structure, construction', 'artifact, artefact', 'whole, unit', 'object, physical object', 'physical entity', 'entity'], 'raw_name': 'wall', 'attributes': [], 'depth_ordering_rank': 2, 'occluded': [], 'crop': '0', 'parts': {'hasparts': [], 'ispartof': [], 'part_level': 0}, 'instance_mask': 'ADE_train_00001207/instance_001_ADE_train_00001207.png', 'polygon': {'x': [81, 0, 2, 75], 'y': [558, 545, 70, 58], 'click_date': []}, 'saved_date': '05-May-2009 14:42:24'}\n",
      "{'id': 2, 'name': 'wall', 'name_ndx': 2978, 'hypernym': ['wall', 'partition, divider', 'structure, construction', 'artifact, artefact', 'whole, unit', 'object, physical object', 'physical entity', 'entity'], 'raw_name': 'wall', 'attributes': [], 'depth_ordering_rank': 3, 'occluded': [], 'crop': '0', 'parts': {'hasparts': [], 'ispartof': [], 'part_level': 0}, 'instance_mask': 'ADE_train_00001207/instance_002_ADE_train_00001207.png', 'polygon': {'x': [528, 442, 425, 527], 'y': [0, 1, 649, 678], 'click_date': []}, 'saved_date': '05-May-2009 14:42:24'}\n",
      "{'id': 3, 'name': 'wall', 'name_ndx': 2978, 'hypernym': ['wall', 'partition, divider', 'structure, construction', 'artifact, artefact', 'whole, unit', 'object, physical object', 'physical entity', 'entity'], 'raw_name': 'wall', 'attributes': [], 'depth_ordering_rank': 4, 'occluded': [], 'crop': '0', 'parts': {'hasparts': [], 'ispartof': [], 'part_level': 0}, 'instance_mask': 'ADE_train_00001207/instance_003_ADE_train_00001207.png', 'polygon': {'x': [212, 218, 75, 82, 209], 'y': [463, 121, 84, 549, 491], 'click_date': []}, 'saved_date': '05-May-2009 14:42:24'}\n",
      "{'id': 4, 'name': 'wall', 'name_ndx': 2978, 'hypernym': ['wall', 'partition, divider', 'structure, construction', 'artifact, artefact', 'whole, unit', 'object, physical object', 'physical entity', 'entity'], 'raw_name': 'wall', 'attributes': [], 'depth_ordering_rank': 5, 'occluded': [], 'crop': '0', 'parts': {'hasparts': [], 'ispartof': [], 'part_level': 0}, 'instance_mask': 'ADE_train_00001207/instance_004_ADE_train_00001207.png', 'polygon': {'x': [433, 434, 219, 210, 434], 'y': [151, 85, 121, 493, 534], 'click_date': []}, 'saved_date': '05-May-2009 14:42:24'}\n"
     ]
    }
   ],
   "source": [
    "for key in data['annotation']['object']:\n",
    "    if 'wall' in key['name']:\n",
    "        print(key, sep='/n')\n",
    "        # cords = np.array(list(zip(key['polygon']['x'], key['polygon']['y'])))\n",
    "        # print(key['polygon']['x'], key['polygon']['y'], cords, sep='/n')"
   ],
   "metadata": {
    "collapsed": false,
    "pycharm": {
     "name": "#%%\n"
    }
   }
  },
  {
   "cell_type": "code",
   "execution_count": 4,
   "outputs": [
    {
     "data": {
      "text/plain": "[800, 530, 3]"
     },
     "execution_count": 4,
     "metadata": {},
     "output_type": "execute_result"
    }
   ],
   "source": [
    "shape = data['annotation']['imsize']\n",
    "shape"
   ],
   "metadata": {
    "collapsed": false,
    "pycharm": {
     "name": "#%%\n"
    }
   }
  },
  {
   "cell_type": "code",
   "execution_count": 27,
   "outputs": [],
   "source": [
    "floor_mask = cv2.imread('C:/Users/nowic/Desktop/exposit_final_task/data/raw/training/home_or_hotel/alcove/ADE_train_00001207/instance_013_ADE_train_00001207.png', flags=cv2.IMREAD_GRAYSCALE)\n",
    "cv2.imshow('floor', floor_mask)\n",
    "cv2.waitKey()\n",
    "cv2.destroyAllWindows()"
   ],
   "metadata": {
    "collapsed": false,
    "pycharm": {
     "name": "#%%\n"
    }
   }
  },
  {
   "cell_type": "code",
   "execution_count": 28,
   "outputs": [
    {
     "data": {
      "text/plain": "(800, 530)"
     },
     "execution_count": 28,
     "metadata": {},
     "output_type": "execute_result"
    }
   ],
   "source": [
    "floor_mask.shape"
   ],
   "metadata": {
    "collapsed": false,
    "pycharm": {
     "name": "#%%\n"
    }
   }
  },
  {
   "cell_type": "code",
   "execution_count": 30,
   "outputs": [],
   "source": [
    "floor_mask[floor_mask < 255] = 0\n",
    "cv2.imshow('floor', floor_mask)\n",
    "cv2.waitKey()\n",
    "cv2.destroyAllWindows()"
   ],
   "metadata": {
    "collapsed": false,
    "pycharm": {
     "name": "#%%\n"
    }
   }
  },
  {
   "cell_type": "code",
   "execution_count": null,
   "outputs": [],
   "source": [
    "# wall_1 = cv2.imread('C:/Users/nowic/Desktop/exposit_final_task/data/raw/training/home_or_hotel/alcove/ADE_train_00001207/instance_001_ADE_train_00001207.png', flags=cv2.IMREAD_GRAYSCALE)\n",
    "# wall_2 = cv2.imread('C:/Users/nowic/Desktop/exposit_final_task/data/raw/training/home_or_hotel/alcove/ADE_train_00001207/instance_002_ADE_train_00001207.png', flags=cv2.IMREAD_GRAYSCALE)\n",
    "# wall_3 = cv2.imread('C:/Users/nowic/Desktop/exposit_final_task/data/raw/training/home_or_hotel/alcove/ADE_train_00001207/instance_003_ADE_train_00001207.png', flags=cv2.IMREAD_GRAYSCALE)\n",
    "# wall_4 = cv2.imread('C:/Users/nowic/Desktop/exposit_final_task/data/raw/training/home_or_hotel/alcove/ADE_train_00001207/instance_004_ADE_train_00001207.png', flags=cv2.IMREAD_GRAYSCALE)\n",
    "#\n",
    "# cv2.imshow('floor', wall_1)\n",
    "# cv2.waitKey()\n",
    "# cv2.destroyAllWindows()"
   ],
   "metadata": {
    "collapsed": false,
    "pycharm": {
     "name": "#%%\n"
    }
   }
  }
 ],
 "metadata": {
  "kernelspec": {
   "display_name": "Python 3",
   "language": "python",
   "name": "python3"
  },
  "language_info": {
   "codemirror_mode": {
    "name": "ipython",
    "version": 2
   },
   "file_extension": ".py",
   "mimetype": "text/x-python",
   "name": "python",
   "nbconvert_exporter": "python",
   "pygments_lexer": "ipython2",
   "version": "2.7.6"
  }
 },
 "nbformat": 4,
 "nbformat_minor": 0
}