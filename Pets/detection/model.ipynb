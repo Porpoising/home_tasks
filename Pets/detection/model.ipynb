{
 "cells": [
  {
   "cell_type": "code",
   "execution_count": 1,
   "metadata": {
    "collapsed": true
   },
   "outputs": [],
   "source": [
    "import numpy as np\n",
    "import math\n",
    "\n",
    "import xmltodict\n",
    "from pascal import PascalVOC\n",
    "\n",
    "import tensorflow as tf\n",
    "from tensorflow import keras\n",
    "from keras import layers\n",
    "\n",
    "import matplotlib.pyplot as plt\n",
    "\n",
    "import os\n",
    "from pathlib import Path\n",
    "\n",
    "import cv2\n",
    "\n",
    "import pandas as pd"
   ]
  },
  {
   "cell_type": "code",
   "execution_count": 23,
   "outputs": [],
   "source": [
    "class DataGen(tf.keras.utils.Sequence):\n",
    "    def __init__(self, size = (224, 224), batch_size: int = 32, length: int = 100) -> None:\n",
    "        super().__init__()\n",
    "        self.size = np.array(size, dtype=np.int32)\n",
    "        self.batch_size = batch_size\n",
    "        self.length = length\n",
    "\n",
    "    def __len__(self):\n",
    "        return self.length\n",
    "\n",
    "    def __getitem__(self, idx):\n",
    "        batch_x = []\n",
    "        batch_y = []\n",
    "\n",
    "        for i in range(self.batch_size):\n",
    "            origin = np.full((*self.size, 3), 255, dtype=np.uint8)\n",
    "            targets = np.zeros((100, 4))\n",
    "\n",
    "            for k in range(5):\n",
    "                number = np.random.randint(1, 4)\n",
    "                if number == 1:\n",
    "                    center = np.array(np.random.rand(2) * self.size, dtype=np.int32)\n",
    "                    radius = np.array(np.random.rand(1) * 25 + 15, dtype=np.int32)\n",
    "                    color = np.random.rand(3) * 255\n",
    "\n",
    "                    origin = cv2.circle(origin, tuple(center), radius[0], tuple(color), -1)\n",
    "                    targets[k] = np.array([center[0] - radius[0], center[1] - radius[0], center[0] + radius[0], center[1] + radius[0]], np.float32)\n",
    "\n",
    "                if number ==  2:\n",
    "                    center = np.array(np.random.rand(2) * self.size, dtype=np.int32)\n",
    "                    sides = np.array(np.random.rand(2) * 25 + 15, dtype=np.int32)\n",
    "                    x_min, y_min, x_max, y_max = [center[0] - sides[0],\n",
    "                                                  center[1] - sides[1],\n",
    "                                                  center[0] + sides[0],\n",
    "                                                  center[1] + sides[1]]\n",
    "                    color = np.random.rand(3) * 255\n",
    "\n",
    "                    origin = cv2.rectangle(origin, (x_min, y_min), (x_max, y_max), tuple(color), -1)\n",
    "                    targets[k] = np.array([x_min, y_min, x_max, y_max], np.float32)\n",
    "\n",
    "                if number == 3:\n",
    "                    center = np.array(np.random.rand(2) * self.size, dtype=np.int32)\n",
    "                    quarters = np.arange(1, 5)\n",
    "                    np.random.shuffle(quarters)\n",
    "\n",
    "                    quarter_arr = []\n",
    "                    for quarter in quarters:\n",
    "                        if len(quarter_arr) == 3:\n",
    "                            break\n",
    "\n",
    "                        sides = np.array(np.random.rand(2) * 25 + 15, dtype=np.int32)\n",
    "\n",
    "                        if quarter == 1:\n",
    "                            p1 = tuple([center[0] + sides[0], center[1] + sides[1]])\n",
    "                            quarter_arr.append(p1)\n",
    "                            continue\n",
    "                        if quarter == 2:\n",
    "                            p2 = tuple([center[0] - sides[0], center[1] + sides[1]])\n",
    "                            quarter_arr.append(p2)\n",
    "                            continue\n",
    "                        if quarter == 3:\n",
    "                            p3 = tuple([center[0] - sides[0], center[1] - sides[1]])\n",
    "                            quarter_arr.append(p3)\n",
    "                            continue\n",
    "                        if quarter == 4:\n",
    "                            p4 = tuple([center[0] + sides[0], center[1] - sides[1]])\n",
    "                            quarter_arr.append(p4)\n",
    "                            continue\n",
    "\n",
    "                    color = np.random.rand(3) * 255\n",
    "                    origin = cv2.drawContours(origin, [np.array([quarter_arr])], 0, tuple(color), -1)\n",
    "\n",
    "                    max_cords, min_cords = np.amax(quarter_arr, axis=0), np.amin(quarter_arr, axis=0)\n",
    "                    targets[k] = np.array([max_cords[0], max_cords[1], min_cords[0], min_cords[1]], np.float32)\n",
    "\n",
    "            batch_x.append(origin)\n",
    "            batch_y.append(targets)\n",
    "        batch_x = np.array(batch_x)\n",
    "        batch_y = np.array(batch_y)\n",
    "        return batch_x, batch_y"
   ],
   "metadata": {
    "collapsed": false,
    "pycharm": {
     "name": "#%%\n"
    }
   }
  },
  {
   "cell_type": "code",
   "execution_count": 24,
   "outputs": [
    {
     "data": {
      "text/plain": "<matplotlib.image.AxesImage at 0x1e0035bb520>"
     },
     "execution_count": 24,
     "metadata": {},
     "output_type": "execute_result"
    },
    {
     "data": {
      "text/plain": "<Figure size 432x288 with 1 Axes>",
      "image/png": "[encoded data removed]"
     },
     "metadata": {
      "needs_background": "light"
     },
     "output_type": "display_data"
    }
   ],
   "source": [
    "datagen = DataGen()\n",
    "X, y = datagen.__getitem__(1)\n",
    "\n",
    "plt.imshow(X[0])"
   ],
   "metadata": {
    "collapsed": false,
    "pycharm": {
     "name": "#%%\n"
    }
   }
  },
  {
   "cell_type": "code",
   "execution_count": 12,
   "outputs": [],
   "source": [
    "def broadcast_iou(box_1, box_2):\n",
    "    # box_1: (..., (x1, y1, x2, y2))\n",
    "    # box_2: (N, (x1, y1, x2, y2))\n",
    "\n",
    "    # broadcast boxes\n",
    "    box_1 = tf.expand_dims(box_1, -2)\n",
    "    box_2 = tf.expand_dims(box_2, 0)\n",
    "    # new_shape: (..., N, (x1, y1, x2, y2))\n",
    "    new_shape = tf.broadcast_dynamic_shape(tf.shape(box_1), tf.shape(box_2))\n",
    "    box_1 = tf.broadcast_to(box_1, new_shape)\n",
    "    box_2 = tf.broadcast_to(box_2, new_shape)\n",
    "\n",
    "    int_w = tf.maximum(tf.minimum(box_1[..., 2], box_2[..., 2]) -\n",
    "                       tf.maximum(box_1[..., 0], box_2[..., 0]), 0)\n",
    "    int_h = tf.maximum(tf.minimum(box_1[..., 3], box_2[..., 3]) -\n",
    "                       tf.maximum(box_1[..., 1], box_2[..., 1]), 0)\n",
    "    int_area = int_w * int_h\n",
    "    box_1_area = (box_1[..., 2] - box_1[..., 0]) * (box_1[..., 3] - box_1[..., 1])\n",
    "    box_2_area = (box_2[..., 2] - box_2[..., 0]) * (box_2[..., 3] - box_2[..., 1])\n",
    "    return int_area / (box_1_area + box_2_area - int_area)"
   ],
   "metadata": {
    "collapsed": false,
    "pycharm": {
     "name": "#%%\n"
    }
   }
  },
  {
   "cell_type": "code",
   "execution_count": 13,
   "outputs": [],
   "source": [
    "class Loss(tf.keras.losses.Loss):\n",
    "    def call(self, y_true, y_pred):\n",
    "        loss = tf.reduce_max(\n",
    "            broadcast_iou(tf.reshape(y_true, (-1, 4)), tf.reshape(y_pred, (-1, 4))),\n",
    "            axis=-1)\n",
    "        return loss"
   ],
   "metadata": {
    "collapsed": false,
    "pycharm": {
     "name": "#%%\n"
    }
   }
  },
  {
   "cell_type": "code",
   "execution_count": 14,
   "outputs": [],
   "source": [
    "def Convolution(x, filters, kernel, strides, dropout: float = 0.0):\n",
    "    x = layers.Conv2D(filters, kernel, strides, padding=\"same\")(x)\n",
    "    x = layers.BatchNormalization()(x)\n",
    "    x = layers.Activation(\"relu\")(x)\n",
    "    if dropout > 0:\n",
    "        x = layers.Dropout(dropout)(x)\n",
    "    return x"
   ],
   "metadata": {
    "collapsed": false,
    "pycharm": {
     "name": "#%%\n"
    }
   }
  },
  {
   "cell_type": "code",
   "execution_count": 25,
   "outputs": [
    {
     "name": "stdout",
     "output_type": "stream",
     "text": [
      "Model: \"model_2\"\n",
      "_________________________________________________________________\n",
      " Layer (type)                Output Shape              Param #   \n",
      "=================================================================\n",
      " input_3 (InputLayer)        [(None, 224, 224, 1)]     0         \n",
      "                                                                 \n",
      " conv2d_8 (Conv2D)           (None, 224, 224, 16)      160       \n",
      "                                                                 \n",
      " batch_normalization_8 (Batc  (None, 224, 224, 16)     64        \n",
      " hNormalization)                                                 \n",
      "                                                                 \n",
      " activation_8 (Activation)   (None, 224, 224, 16)      0         \n",
      "                                                                 \n",
      " conv2d_9 (Conv2D)           (None, 112, 112, 32)      4640      \n",
      "                                                                 \n",
      " batch_normalization_9 (Batc  (None, 112, 112, 32)     128       \n",
      " hNormalization)                                                 \n",
      "                                                                 \n",
      " activation_9 (Activation)   (None, 112, 112, 32)      0         \n",
      "                                                                 \n",
      " dropout_6 (Dropout)         (None, 112, 112, 32)      0         \n",
      "                                                                 \n",
      " conv2d_10 (Conv2D)          (None, 56, 56, 64)        18496     \n",
      "                                                                 \n",
      " batch_normalization_10 (Bat  (None, 56, 56, 64)       256       \n",
      " chNormalization)                                                \n",
      "                                                                 \n",
      " activation_10 (Activation)  (None, 56, 56, 64)        0         \n",
      "                                                                 \n",
      " dropout_7 (Dropout)         (None, 56, 56, 64)        0         \n",
      "                                                                 \n",
      " conv2d_11 (Conv2D)          (None, 28, 28, 128)       73856     \n",
      "                                                                 \n",
      " batch_normalization_11 (Bat  (None, 28, 28, 128)      512       \n",
      " chNormalization)                                                \n",
      "                                                                 \n",
      " activation_11 (Activation)  (None, 28, 28, 128)       0         \n",
      "                                                                 \n",
      " dropout_8 (Dropout)         (None, 28, 28, 128)       0         \n",
      "                                                                 \n",
      " global_max_pooling2d_2 (Glo  (None, 128)              0         \n",
      " balMaxPooling2D)                                                \n",
      "                                                                 \n",
      " dense_2 (Dense)             (None, 400)               51600     \n",
      "                                                                 \n",
      " lambda_2 (Lambda)           (None, 100, 4)            0         \n",
      "                                                                 \n",
      "=================================================================\n",
      "Total params: 149,712\n",
      "Trainable params: 149,232\n",
      "Non-trainable params: 480\n",
      "_________________________________________________________________\n"
     ]
    }
   ],
   "source": [
    "inp = layers.Input(shape=(224, 224, 1))\n",
    "\n",
    "x = Convolution(inp, 16, 3, 1)      # 224x224x16\n",
    "x = Convolution(x, 32, 3, 2, 0.25)  # 112x112x32\n",
    "x = Convolution(x, 64, 3, 2, 0.25)  # 56x56x48\n",
    "x = Convolution(x, 128, 3, 2, 0.25)  # 28x28x56\n",
    "x = layers.GlobalMaxPooling2D()(x)\n",
    "\n",
    "x = layers.Dense(400, activation=\"relu\")(x)\n",
    "bbox = layers.Lambda(lambda x: tf.reshape(x, (-1, 100, 4)))(x)\n",
    "\n",
    "model = tf.keras.Model(inp, bbox)\n",
    "\n",
    "model.compile(\n",
    "    optimizer=tf.keras.optimizers.Adam(),\n",
    "    loss=Loss()\n",
    ")\n",
    "model.summary()"
   ],
   "metadata": {
    "collapsed": false,
    "pycharm": {
     "name": "#%%\n"
    }
   }
  },
  {
   "cell_type": "code",
   "execution_count": null,
   "outputs": [],
   "source": [
    "model.fit(\n",
    "    DataGen(),\n",
    "    epochs=100,\n",
    "    batch_size=32,\n",
    "    validation_data=DataGen(),\n",
    ")"
   ],
   "metadata": {
    "collapsed": false,
    "pycharm": {
     "name": "#%%\n",
     "is_executing": true
    }
   }
  },
  {
   "cell_type": "code",
   "execution_count": null,
   "outputs": [],
   "source": [
    "samples, bboxes = DataGen().__getitem__(1)\n",
    "sample, bbox = samples[0], bboxes[0]\n",
    "\n",
    "predictions = model.predict(np.array([sample]))[0]\n",
    "for index, prediction in enumerate(predictions):\n",
    "    if np.sum(prediction) == 0:\n",
    "        continue\n",
    "    print(f\"Prediction: {prediction}, GT: {bbox[index]}\")\n",
    "    prediction = prediction * 224\n",
    "    x1, y1, x2, y2 = prediction.astype(int)\n",
    "    cv2.rectangle(sample, (x1, y1), (x2, y2), (255, 0, 0), 3)\n",
    "plt.imshow(sample)"
   ],
   "metadata": {
    "collapsed": false,
    "pycharm": {
     "name": "#%%\n"
    }
   }
  },
  {
   "cell_type": "code",
   "execution_count": null,
   "outputs": [],
   "source": [
    "gt = DataGen().__getitem__(1)[1].reshape((-1, 4))\n",
    "dt = DataGen().__getitem__(1)[1].reshape((-1, 4))\n",
    "\n",
    "print(gt.shape, dt.shape)\n",
    "\n",
    "broadcast_iou(gt, dt)"
   ],
   "metadata": {
    "collapsed": false,
    "pycharm": {
     "name": "#%%\n"
    }
   }
  }
 ],
 "metadata": {
  "kernelspec": {
   "display_name": "Python 3",
   "language": "python",
   "name": "python3"
  },
  "language_info": {
   "codemirror_mode": {
    "name": "ipython",
    "version": 2
   },
   "file_extension": ".py",
   "mimetype": "text/x-python",
   "name": "python",
   "nbconvert_exporter": "python",
   "pygments_lexer": "ipython2",
   "version": "2.7.6"
  }
 },
 "nbformat": 4,
 "nbformat_minor": 0
}